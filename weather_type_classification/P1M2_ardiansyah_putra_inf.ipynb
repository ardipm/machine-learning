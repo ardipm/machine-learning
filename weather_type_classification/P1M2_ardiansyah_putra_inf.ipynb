{
 "cells": [
  {
   "cell_type": "code",
   "execution_count": 1,
   "metadata": {},
   "outputs": [
    {
     "name": "stderr",
     "output_type": "stream",
     "text": [
      "/Users/ardiansyahputra/anaconda3/lib/python3.11/site-packages/pandas/core/arrays/masked.py:60: UserWarning: Pandas requires version '1.3.6' or newer of 'bottleneck' (version '1.3.5' currently installed).\n",
      "  from pandas.core import (\n"
     ]
    }
   ],
   "source": [
    "#Import library\n",
    "\n",
    "import pandas as pd\n",
    "import pickle\n",
    "import warnings\n",
    "warnings.filterwarnings(\"ignore\")"
   ]
  },
  {
   "cell_type": "code",
   "execution_count": 2,
   "metadata": {},
   "outputs": [],
   "source": [
    "# import model with pickle\n",
    "with open('deployment/model_rf.pkl', 'rb') as file_1:\n",
    "  model = pickle.load(file_1)"
   ]
  },
  {
   "cell_type": "code",
   "execution_count": 3,
   "metadata": {},
   "outputs": [
    {
     "data": {
      "text/plain": [
       "{'temperature': [30, 3],\n",
       " 'humidity': [27, 76],\n",
       " 'wind_speed': [7.0, 14.0],\n",
       " 'precipitation': [13.0, 94.0],\n",
       " 'cloud_cover': ['partly cloudy', 'overcast'],\n",
       " 'atmospheric_pressure': [1016.38, 110.7],\n",
       " 'uv_index': [5, 0],\n",
       " 'season': ['Spring', 'Winter'],\n",
       " 'visibility': [7.5, 4.0],\n",
       " 'location': ['inland', 'inland']}"
      ]
     },
     "execution_count": 3,
     "metadata": {},
     "output_type": "execute_result"
    }
   ],
   "source": [
    "sample_data = {\n",
    "    'temperature': [30, 3], \n",
    "    'humidity': [27, 76], \n",
    "    'wind_speed': [7.0, 14.0], \n",
    "    'precipitation': [13.0, 94.0], \n",
    "    'cloud_cover': ['partly cloudy', 'overcast'],\n",
    "    'atmospheric_pressure': [1016.38, 110.7], \n",
    "    'uv_index': [5, 0], \n",
    "    'season': ['Spring', 'Winter'], \n",
    "    'visibility': [7.5, 4.0], \n",
    "    'location': ['inland', 'inland'],\n",
    "}\n",
    "sample_data"
   ]
  },
  {
   "cell_type": "code",
   "execution_count": 4,
   "metadata": {},
   "outputs": [
    {
     "data": {
      "text/html": [
       "<div>\n",
       "<style scoped>\n",
       "    .dataframe tbody tr th:only-of-type {\n",
       "        vertical-align: middle;\n",
       "    }\n",
       "\n",
       "    .dataframe tbody tr th {\n",
       "        vertical-align: top;\n",
       "    }\n",
       "\n",
       "    .dataframe thead th {\n",
       "        text-align: right;\n",
       "    }\n",
       "</style>\n",
       "<table border=\"1\" class=\"dataframe\">\n",
       "  <thead>\n",
       "    <tr style=\"text-align: right;\">\n",
       "      <th></th>\n",
       "      <th>temperature</th>\n",
       "      <th>humidity</th>\n",
       "      <th>wind_speed</th>\n",
       "      <th>precipitation</th>\n",
       "      <th>cloud_cover</th>\n",
       "      <th>atmospheric_pressure</th>\n",
       "      <th>uv_index</th>\n",
       "      <th>season</th>\n",
       "      <th>visibility</th>\n",
       "      <th>location</th>\n",
       "    </tr>\n",
       "  </thead>\n",
       "  <tbody>\n",
       "    <tr>\n",
       "      <th>0</th>\n",
       "      <td>30</td>\n",
       "      <td>27</td>\n",
       "      <td>7.0</td>\n",
       "      <td>13.0</td>\n",
       "      <td>partly cloudy</td>\n",
       "      <td>1016.38</td>\n",
       "      <td>5</td>\n",
       "      <td>Spring</td>\n",
       "      <td>7.5</td>\n",
       "      <td>inland</td>\n",
       "    </tr>\n",
       "    <tr>\n",
       "      <th>1</th>\n",
       "      <td>3</td>\n",
       "      <td>76</td>\n",
       "      <td>14.0</td>\n",
       "      <td>94.0</td>\n",
       "      <td>overcast</td>\n",
       "      <td>110.70</td>\n",
       "      <td>0</td>\n",
       "      <td>Winter</td>\n",
       "      <td>4.0</td>\n",
       "      <td>inland</td>\n",
       "    </tr>\n",
       "  </tbody>\n",
       "</table>\n",
       "</div>"
      ],
      "text/plain": [
       "   temperature  humidity  wind_speed  precipitation    cloud_cover  \\\n",
       "0           30        27         7.0           13.0  partly cloudy   \n",
       "1            3        76        14.0           94.0       overcast   \n",
       "\n",
       "   atmospheric_pressure  uv_index  season  visibility location  \n",
       "0               1016.38         5  Spring         7.5   inland  \n",
       "1                110.70         0  Winter         4.0   inland  "
      ]
     },
     "execution_count": 4,
     "metadata": {},
     "output_type": "execute_result"
    }
   ],
   "source": [
    "sample_data_df = pd.DataFrame(sample_data)\n",
    "sample_data_df"
   ]
  },
  {
   "cell_type": "code",
   "execution_count": 5,
   "metadata": {},
   "outputs": [
    {
     "data": {
      "text/plain": [
       "array([0, 1])"
      ]
     },
     "execution_count": 5,
     "metadata": {},
     "output_type": "execute_result"
    }
   ],
   "source": [
    "y_pred_test_1 = model.predict(sample_data_df)\n",
    "y_pred_test_1"
   ]
  },
  {
   "cell_type": "code",
   "execution_count": 6,
   "metadata": {},
   "outputs": [],
   "source": [
    "def annotation_of_result(data_inf):\n",
    "    for i in data_inf:\n",
    "        if i == 0:\n",
    "            print(f'Not Snowy')\n",
    "        else:\n",
    "            print(f'Snowy')"
   ]
  },
  {
   "cell_type": "code",
   "execution_count": 7,
   "metadata": {},
   "outputs": [
    {
     "name": "stdout",
     "output_type": "stream",
     "text": [
      "Not Snowy\n",
      "Snowy\n"
     ]
    }
   ],
   "source": [
    "annotation_of_result(y_pred_test_1)"
   ]
  }
 ],
 "metadata": {
  "kernelspec": {
   "display_name": "base",
   "language": "python",
   "name": "python3"
  },
  "language_info": {
   "codemirror_mode": {
    "name": "ipython",
    "version": 3
   },
   "file_extension": ".py",
   "mimetype": "text/x-python",
   "name": "python",
   "nbconvert_exporter": "python",
   "pygments_lexer": "ipython3",
   "version": "3.11.5"
  }
 },
 "nbformat": 4,
 "nbformat_minor": 2
}
