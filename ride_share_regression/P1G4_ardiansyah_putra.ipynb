{
 "cells": [
  {
   "cell_type": "markdown",
   "metadata": {},
   "source": [
    "# 1. Introduction"
   ]
  },
  {
   "cell_type": "markdown",
   "metadata": {},
   "source": [
    "================================================================================================================================================\n",
    "\n",
    "Name: Ardiansyah Putra Mahadika\n",
    "\n",
    "Batch: BSD 006\n",
    "\n",
    "This program aims to analyzing data by comparing ride-hailing pricing, create accurate forecasts of future trip costs, achieving feasibility using available data and modeling \"techniques\", staying relevant to consumer cost considerations.\n",
    "\n",
    "================================================================================================================================================"
   ]
  },
  {
   "cell_type": "markdown",
   "metadata": {},
   "source": [
    "## Background"
   ]
  },
  {
   "cell_type": "markdown",
   "metadata": {},
   "source": [
    "*Utilizing ride-hailing services for everyday transportation is common, but comparing their pricing could be challenging. To tackle this, we acquired data from two leading ride-hailing companies, Uber and Lyft, sourced from https://www.kaggle.com/datasets/brllrb/uber-and-lyft-dataset-boston-ma . The main objective is to construct a model capable of predicting trip fares from both companies. This model will empower us to forecast future trip costs and determine which service may offer more economical pricing.*"
   ]
  },
  {
   "cell_type": "markdown",
   "metadata": {},
   "source": [
    "## Problem Statement"
   ]
  },
  {
   "cell_type": "markdown",
   "metadata": {},
   "source": [
    "*The goal is to develop a predictive model that forecasts trip fares from Uber and Lyft. This model will enable us to anticipate fares for upcoming trips and assess which company is likely to provide more cost-effective pricing.*"
   ]
  },
  {
   "cell_type": "markdown",
   "metadata": {},
   "source": [
    "# 2. Libraries"
   ]
  },
  {
   "cell_type": "markdown",
   "metadata": {},
   "source": [
    "installing required libraries for this project"
   ]
  },
  {
   "cell_type": "code",
   "execution_count": 1,
   "metadata": {},
   "outputs": [
    {
     "name": "stdout",
     "output_type": "stream",
     "text": [
      "Requirement already satisfied: feature-engine in /Users/ardiansyahputra/anaconda3/lib/python3.11/site-packages (1.8.0)\n",
      "Requirement already satisfied: numpy>=1.18.2 in /Users/ardiansyahputra/anaconda3/lib/python3.11/site-packages (from feature-engine) (1.24.3)\n",
      "Requirement already satisfied: pandas>=2.2.0 in /Users/ardiansyahputra/anaconda3/lib/python3.11/site-packages (from feature-engine) (2.2.2)\n",
      "Requirement already satisfied: scikit-learn>=1.4.0 in /Users/ardiansyahputra/anaconda3/lib/python3.11/site-packages (from feature-engine) (1.5.0)\n",
      "Requirement already satisfied: scipy>=1.4.1 in /Users/ardiansyahputra/anaconda3/lib/python3.11/site-packages (from feature-engine) (1.11.1)\n",
      "Requirement already satisfied: statsmodels>=0.11.1 in /Users/ardiansyahputra/anaconda3/lib/python3.11/site-packages (from feature-engine) (0.14.0)\n",
      "Requirement already satisfied: python-dateutil>=2.8.2 in /Users/ardiansyahputra/anaconda3/lib/python3.11/site-packages (from pandas>=2.2.0->feature-engine) (2.8.2)\n",
      "Requirement already satisfied: pytz>=2020.1 in /Users/ardiansyahputra/anaconda3/lib/python3.11/site-packages (from pandas>=2.2.0->feature-engine) (2023.3.post1)\n",
      "Requirement already satisfied: tzdata>=2022.7 in /Users/ardiansyahputra/anaconda3/lib/python3.11/site-packages (from pandas>=2.2.0->feature-engine) (2023.3)\n",
      "Requirement already satisfied: joblib>=1.2.0 in /Users/ardiansyahputra/anaconda3/lib/python3.11/site-packages (from scikit-learn>=1.4.0->feature-engine) (1.2.0)\n",
      "Requirement already satisfied: threadpoolctl>=3.1.0 in /Users/ardiansyahputra/anaconda3/lib/python3.11/site-packages (from scikit-learn>=1.4.0->feature-engine) (3.5.0)\n",
      "Requirement already satisfied: patsy>=0.5.2 in /Users/ardiansyahputra/anaconda3/lib/python3.11/site-packages (from statsmodels>=0.11.1->feature-engine) (0.5.3)\n",
      "Requirement already satisfied: packaging>=21.3 in /Users/ardiansyahputra/anaconda3/lib/python3.11/site-packages (from statsmodels>=0.11.1->feature-engine) (23.1)\n",
      "Requirement already satisfied: six in /Users/ardiansyahputra/anaconda3/lib/python3.11/site-packages (from patsy>=0.5.2->statsmodels>=0.11.1->feature-engine) (1.16.0)\n"
     ]
    }
   ],
   "source": [
    "!pip install feature-engine"
   ]
  },
  {
   "cell_type": "code",
   "execution_count": 2,
   "metadata": {},
   "outputs": [
    {
     "name": "stdout",
     "output_type": "stream",
     "text": [
      "Requirement already satisfied: phik in /Users/ardiansyahputra/anaconda3/lib/python3.11/site-packages (0.12.4)\n",
      "Requirement already satisfied: numpy>=1.18.0 in /Users/ardiansyahputra/anaconda3/lib/python3.11/site-packages (from phik) (1.24.3)\n",
      "Requirement already satisfied: scipy>=1.5.2 in /Users/ardiansyahputra/anaconda3/lib/python3.11/site-packages (from phik) (1.11.1)\n",
      "Requirement already satisfied: pandas>=0.25.1 in /Users/ardiansyahputra/anaconda3/lib/python3.11/site-packages (from phik) (2.2.2)\n",
      "Requirement already satisfied: matplotlib>=2.2.3 in /Users/ardiansyahputra/anaconda3/lib/python3.11/site-packages (from phik) (3.7.2)\n",
      "Requirement already satisfied: joblib>=0.14.1 in /Users/ardiansyahputra/anaconda3/lib/python3.11/site-packages (from phik) (1.2.0)\n",
      "Requirement already satisfied: contourpy>=1.0.1 in /Users/ardiansyahputra/anaconda3/lib/python3.11/site-packages (from matplotlib>=2.2.3->phik) (1.0.5)\n",
      "Requirement already satisfied: cycler>=0.10 in /Users/ardiansyahputra/anaconda3/lib/python3.11/site-packages (from matplotlib>=2.2.3->phik) (0.11.0)\n",
      "Requirement already satisfied: fonttools>=4.22.0 in /Users/ardiansyahputra/anaconda3/lib/python3.11/site-packages (from matplotlib>=2.2.3->phik) (4.25.0)\n",
      "Requirement already satisfied: kiwisolver>=1.0.1 in /Users/ardiansyahputra/anaconda3/lib/python3.11/site-packages (from matplotlib>=2.2.3->phik) (1.4.4)\n",
      "Requirement already satisfied: packaging>=20.0 in /Users/ardiansyahputra/anaconda3/lib/python3.11/site-packages (from matplotlib>=2.2.3->phik) (23.1)\n",
      "Requirement already satisfied: pillow>=6.2.0 in /Users/ardiansyahputra/anaconda3/lib/python3.11/site-packages (from matplotlib>=2.2.3->phik) (10.0.1)\n",
      "Requirement already satisfied: pyparsing<3.1,>=2.3.1 in /Users/ardiansyahputra/anaconda3/lib/python3.11/site-packages (from matplotlib>=2.2.3->phik) (3.0.9)\n",
      "Requirement already satisfied: python-dateutil>=2.7 in /Users/ardiansyahputra/anaconda3/lib/python3.11/site-packages (from matplotlib>=2.2.3->phik) (2.8.2)\n",
      "Requirement already satisfied: pytz>=2020.1 in /Users/ardiansyahputra/anaconda3/lib/python3.11/site-packages (from pandas>=0.25.1->phik) (2023.3.post1)\n",
      "Requirement already satisfied: tzdata>=2022.7 in /Users/ardiansyahputra/anaconda3/lib/python3.11/site-packages (from pandas>=0.25.1->phik) (2023.3)\n",
      "Requirement already satisfied: six>=1.5 in /Users/ardiansyahputra/anaconda3/lib/python3.11/site-packages (from python-dateutil>=2.7->matplotlib>=2.2.3->phik) (1.16.0)\n"
     ]
    }
   ],
   "source": [
    "!pip install phik"
   ]
  },
  {
   "cell_type": "code",
   "execution_count": null,
   "metadata": {},
   "outputs": [],
   "source": []
  },
  {
   "cell_type": "code",
   "execution_count": 3,
   "metadata": {},
   "outputs": [
    {
     "name": "stderr",
     "output_type": "stream",
     "text": [
      "/Users/ardiansyahputra/anaconda3/lib/python3.11/site-packages/pandas/core/arrays/masked.py:60: UserWarning: Pandas requires version '1.3.6' or newer of 'bottleneck' (version '1.3.5' currently installed).\n",
      "  from pandas.core import (\n"
     ]
    }
   ],
   "source": [
    "import pandas as pd\n",
    "import numpy as np\n",
    "import matplotlib.pyplot as plt\n",
    "import seaborn as sns\n",
    "from sklearn.model_selection import train_test_split\n",
    "from feature_engine.outliers import Winsorizer\n",
    "from sklearn.preprocessing import MinMaxScaler\n",
    "from sklearn.linear_model import LinearRegression\n",
    "from pandas.api.types import CategoricalDtype\n",
    "from sklearn.preprocessing import OneHotEncoder, OrdinalEncoder\n",
    "from sklearn.metrics import mean_absolute_error, r2_score\n",
    "from phik import phik_matrix\n",
    "import pickle\n",
    "import json"
   ]
  },
  {
   "cell_type": "markdown",
   "metadata": {},
   "source": [
    "# 3.  Data Loading"
   ]
  },
  {
   "cell_type": "markdown",
   "metadata": {},
   "source": [
    "- retrieve .csv data from other file"
   ]
  },
  {
   "cell_type": "code",
   "execution_count": 4,
   "metadata": {},
   "outputs": [
    {
     "data": {
      "text/html": [
       "<div>\n",
       "<style scoped>\n",
       "    .dataframe tbody tr th:only-of-type {\n",
       "        vertical-align: middle;\n",
       "    }\n",
       "\n",
       "    .dataframe tbody tr th {\n",
       "        vertical-align: top;\n",
       "    }\n",
       "\n",
       "    .dataframe thead th {\n",
       "        text-align: right;\n",
       "    }\n",
       "</style>\n",
       "<table border=\"1\" class=\"dataframe\">\n",
       "  <thead>\n",
       "    <tr style=\"text-align: right;\">\n",
       "      <th></th>\n",
       "      <th>id</th>\n",
       "      <th>timestamp</th>\n",
       "      <th>hour</th>\n",
       "      <th>day</th>\n",
       "      <th>month</th>\n",
       "      <th>datetime</th>\n",
       "      <th>timezone</th>\n",
       "      <th>source</th>\n",
       "      <th>destination</th>\n",
       "      <th>cab_type</th>\n",
       "      <th>...</th>\n",
       "      <th>precipIntensityMax</th>\n",
       "      <th>uvIndexTime</th>\n",
       "      <th>temperatureMin</th>\n",
       "      <th>temperatureMinTime</th>\n",
       "      <th>temperatureMax</th>\n",
       "      <th>temperatureMaxTime</th>\n",
       "      <th>apparentTemperatureMin</th>\n",
       "      <th>apparentTemperatureMinTime</th>\n",
       "      <th>apparentTemperatureMax</th>\n",
       "      <th>apparentTemperatureMaxTime</th>\n",
       "    </tr>\n",
       "  </thead>\n",
       "  <tbody>\n",
       "    <tr>\n",
       "      <th>0</th>\n",
       "      <td>424553bb-7174-41ea-aeb4-fe06d4f4b9d7</td>\n",
       "      <td>1.544953e+09</td>\n",
       "      <td>9</td>\n",
       "      <td>16</td>\n",
       "      <td>12</td>\n",
       "      <td>2018-12-16 09:30:07</td>\n",
       "      <td>America/New_York</td>\n",
       "      <td>Haymarket Square</td>\n",
       "      <td>North Station</td>\n",
       "      <td>Lyft</td>\n",
       "      <td>...</td>\n",
       "      <td>0.1276</td>\n",
       "      <td>1544979600</td>\n",
       "      <td>39.89</td>\n",
       "      <td>1545012000</td>\n",
       "      <td>43.68</td>\n",
       "      <td>1544968800</td>\n",
       "      <td>33.73</td>\n",
       "      <td>1545012000</td>\n",
       "      <td>38.07</td>\n",
       "      <td>1544958000</td>\n",
       "    </tr>\n",
       "    <tr>\n",
       "      <th>1</th>\n",
       "      <td>4bd23055-6827-41c6-b23b-3c491f24e74d</td>\n",
       "      <td>1.543284e+09</td>\n",
       "      <td>2</td>\n",
       "      <td>27</td>\n",
       "      <td>11</td>\n",
       "      <td>2018-11-27 02:00:23</td>\n",
       "      <td>America/New_York</td>\n",
       "      <td>Haymarket Square</td>\n",
       "      <td>North Station</td>\n",
       "      <td>Lyft</td>\n",
       "      <td>...</td>\n",
       "      <td>0.1300</td>\n",
       "      <td>1543251600</td>\n",
       "      <td>40.49</td>\n",
       "      <td>1543233600</td>\n",
       "      <td>47.30</td>\n",
       "      <td>1543251600</td>\n",
       "      <td>36.20</td>\n",
       "      <td>1543291200</td>\n",
       "      <td>43.92</td>\n",
       "      <td>1543251600</td>\n",
       "    </tr>\n",
       "    <tr>\n",
       "      <th>2</th>\n",
       "      <td>981a3613-77af-4620-a42a-0c0866077d1e</td>\n",
       "      <td>1.543367e+09</td>\n",
       "      <td>1</td>\n",
       "      <td>28</td>\n",
       "      <td>11</td>\n",
       "      <td>2018-11-28 01:00:22</td>\n",
       "      <td>America/New_York</td>\n",
       "      <td>Haymarket Square</td>\n",
       "      <td>North Station</td>\n",
       "      <td>Lyft</td>\n",
       "      <td>...</td>\n",
       "      <td>0.1064</td>\n",
       "      <td>1543338000</td>\n",
       "      <td>35.36</td>\n",
       "      <td>1543377600</td>\n",
       "      <td>47.55</td>\n",
       "      <td>1543320000</td>\n",
       "      <td>31.04</td>\n",
       "      <td>1543377600</td>\n",
       "      <td>44.12</td>\n",
       "      <td>1543320000</td>\n",
       "    </tr>\n",
       "    <tr>\n",
       "      <th>3</th>\n",
       "      <td>c2d88af2-d278-4bfd-a8d0-29ca77cc5512</td>\n",
       "      <td>1.543554e+09</td>\n",
       "      <td>4</td>\n",
       "      <td>30</td>\n",
       "      <td>11</td>\n",
       "      <td>2018-11-30 04:53:02</td>\n",
       "      <td>America/New_York</td>\n",
       "      <td>Haymarket Square</td>\n",
       "      <td>North Station</td>\n",
       "      <td>Lyft</td>\n",
       "      <td>...</td>\n",
       "      <td>0.0000</td>\n",
       "      <td>1543507200</td>\n",
       "      <td>34.67</td>\n",
       "      <td>1543550400</td>\n",
       "      <td>45.03</td>\n",
       "      <td>1543510800</td>\n",
       "      <td>30.30</td>\n",
       "      <td>1543550400</td>\n",
       "      <td>38.53</td>\n",
       "      <td>1543510800</td>\n",
       "    </tr>\n",
       "    <tr>\n",
       "      <th>4</th>\n",
       "      <td>e0126e1f-8ca9-4f2e-82b3-50505a09db9a</td>\n",
       "      <td>1.543463e+09</td>\n",
       "      <td>3</td>\n",
       "      <td>29</td>\n",
       "      <td>11</td>\n",
       "      <td>2018-11-29 03:49:20</td>\n",
       "      <td>America/New_York</td>\n",
       "      <td>Haymarket Square</td>\n",
       "      <td>North Station</td>\n",
       "      <td>Lyft</td>\n",
       "      <td>...</td>\n",
       "      <td>0.0001</td>\n",
       "      <td>1543420800</td>\n",
       "      <td>33.10</td>\n",
       "      <td>1543402800</td>\n",
       "      <td>42.18</td>\n",
       "      <td>1543420800</td>\n",
       "      <td>29.11</td>\n",
       "      <td>1543392000</td>\n",
       "      <td>35.75</td>\n",
       "      <td>1543420800</td>\n",
       "    </tr>\n",
       "  </tbody>\n",
       "</table>\n",
       "<p>5 rows × 57 columns</p>\n",
       "</div>"
      ],
      "text/plain": [
       "                                     id     timestamp  hour  day  month  \\\n",
       "0  424553bb-7174-41ea-aeb4-fe06d4f4b9d7  1.544953e+09     9   16     12   \n",
       "1  4bd23055-6827-41c6-b23b-3c491f24e74d  1.543284e+09     2   27     11   \n",
       "2  981a3613-77af-4620-a42a-0c0866077d1e  1.543367e+09     1   28     11   \n",
       "3  c2d88af2-d278-4bfd-a8d0-29ca77cc5512  1.543554e+09     4   30     11   \n",
       "4  e0126e1f-8ca9-4f2e-82b3-50505a09db9a  1.543463e+09     3   29     11   \n",
       "\n",
       "              datetime          timezone            source    destination  \\\n",
       "0  2018-12-16 09:30:07  America/New_York  Haymarket Square  North Station   \n",
       "1  2018-11-27 02:00:23  America/New_York  Haymarket Square  North Station   \n",
       "2  2018-11-28 01:00:22  America/New_York  Haymarket Square  North Station   \n",
       "3  2018-11-30 04:53:02  America/New_York  Haymarket Square  North Station   \n",
       "4  2018-11-29 03:49:20  America/New_York  Haymarket Square  North Station   \n",
       "\n",
       "  cab_type  ... precipIntensityMax uvIndexTime  temperatureMin  \\\n",
       "0     Lyft  ...             0.1276  1544979600           39.89   \n",
       "1     Lyft  ...             0.1300  1543251600           40.49   \n",
       "2     Lyft  ...             0.1064  1543338000           35.36   \n",
       "3     Lyft  ...             0.0000  1543507200           34.67   \n",
       "4     Lyft  ...             0.0001  1543420800           33.10   \n",
       "\n",
       "   temperatureMinTime  temperatureMax  temperatureMaxTime  \\\n",
       "0          1545012000           43.68          1544968800   \n",
       "1          1543233600           47.30          1543251600   \n",
       "2          1543377600           47.55          1543320000   \n",
       "3          1543550400           45.03          1543510800   \n",
       "4          1543402800           42.18          1543420800   \n",
       "\n",
       "   apparentTemperatureMin  apparentTemperatureMinTime  apparentTemperatureMax  \\\n",
       "0                   33.73                  1545012000                   38.07   \n",
       "1                   36.20                  1543291200                   43.92   \n",
       "2                   31.04                  1543377600                   44.12   \n",
       "3                   30.30                  1543550400                   38.53   \n",
       "4                   29.11                  1543392000                   35.75   \n",
       "\n",
       "  apparentTemperatureMaxTime  \n",
       "0                 1544958000  \n",
       "1                 1543251600  \n",
       "2                 1543320000  \n",
       "3                 1543510800  \n",
       "4                 1543420800  \n",
       "\n",
       "[5 rows x 57 columns]"
      ]
     },
     "execution_count": 4,
     "metadata": {},
     "output_type": "execute_result"
    }
   ],
   "source": [
    "df_ori = pd.read_csv('rideshare_kaggle.csv')\n",
    "df_ori.head()"
   ]
  },
  {
   "cell_type": "markdown",
   "metadata": {},
   "source": [
    "## Exploratory Data"
   ]
  },
  {
   "cell_type": "markdown",
   "metadata": {},
   "source": [
    "- Checking dimension of dataset"
   ]
  },
  {
   "cell_type": "code",
   "execution_count": 5,
   "metadata": {},
   "outputs": [
    {
     "data": {
      "text/plain": [
       "(693071, 57)"
      ]
     },
     "execution_count": 5,
     "metadata": {},
     "output_type": "execute_result"
    }
   ],
   "source": [
    "df_ori.shape"
   ]
  },
  {
   "cell_type": "markdown",
   "metadata": {},
   "source": [
    "- Checking duplicated data"
   ]
  },
  {
   "cell_type": "code",
   "execution_count": 6,
   "metadata": {},
   "outputs": [
    {
     "data": {
      "text/plain": [
       "False"
      ]
     },
     "execution_count": 6,
     "metadata": {},
     "output_type": "execute_result"
    }
   ],
   "source": [
    "df_ori.duplicated().any()"
   ]
  },
  {
   "cell_type": "markdown",
   "metadata": {},
   "source": [
    "- Checking missing values"
   ]
  },
  {
   "cell_type": "code",
   "execution_count": 7,
   "metadata": {},
   "outputs": [
    {
     "data": {
      "text/plain": [
       "id                             False\n",
       "timestamp                      False\n",
       "hour                           False\n",
       "day                            False\n",
       "month                          False\n",
       "datetime                       False\n",
       "timezone                       False\n",
       "source                         False\n",
       "destination                    False\n",
       "cab_type                       False\n",
       "product_id                     False\n",
       "name                           False\n",
       "price                           True\n",
       "distance                       False\n",
       "surge_multiplier               False\n",
       "latitude                       False\n",
       "longitude                      False\n",
       "temperature                    False\n",
       "apparentTemperature            False\n",
       "short_summary                  False\n",
       "long_summary                   False\n",
       "precipIntensity                False\n",
       "precipProbability              False\n",
       "humidity                       False\n",
       "windSpeed                      False\n",
       "windGust                       False\n",
       "windGustTime                   False\n",
       "visibility                     False\n",
       "temperatureHigh                False\n",
       "temperatureHighTime            False\n",
       "temperatureLow                 False\n",
       "temperatureLowTime             False\n",
       "apparentTemperatureHigh        False\n",
       "apparentTemperatureHighTime    False\n",
       "apparentTemperatureLow         False\n",
       "apparentTemperatureLowTime     False\n",
       "icon                           False\n",
       "dewPoint                       False\n",
       "pressure                       False\n",
       "windBearing                    False\n",
       "cloudCover                     False\n",
       "uvIndex                        False\n",
       "visibility.1                   False\n",
       "ozone                          False\n",
       "sunriseTime                    False\n",
       "sunsetTime                     False\n",
       "moonPhase                      False\n",
       "precipIntensityMax             False\n",
       "uvIndexTime                    False\n",
       "temperatureMin                 False\n",
       "temperatureMinTime             False\n",
       "temperatureMax                 False\n",
       "temperatureMaxTime             False\n",
       "apparentTemperatureMin         False\n",
       "apparentTemperatureMinTime     False\n",
       "apparentTemperatureMax         False\n",
       "apparentTemperatureMaxTime     False\n",
       "dtype: bool"
      ]
     },
     "execution_count": 7,
     "metadata": {},
     "output_type": "execute_result"
    }
   ],
   "source": [
    "df_ori.isna().any()"
   ]
  },
  {
   "cell_type": "code",
   "execution_count": 8,
   "metadata": {},
   "outputs": [
    {
     "data": {
      "text/plain": [
       "55095"
      ]
     },
     "execution_count": 8,
     "metadata": {},
     "output_type": "execute_result"
    }
   ],
   "source": [
    "df_ori.isna().sum().sum()"
   ]
  },
  {
   "cell_type": "markdown",
   "metadata": {},
   "source": [
    "- Checking data type of each dataset's features"
   ]
  },
  {
   "cell_type": "code",
   "execution_count": 9,
   "metadata": {},
   "outputs": [
    {
     "name": "stdout",
     "output_type": "stream",
     "text": [
      "<class 'pandas.core.frame.DataFrame'>\n",
      "RangeIndex: 693071 entries, 0 to 693070\n",
      "Data columns (total 57 columns):\n",
      " #   Column                       Non-Null Count   Dtype  \n",
      "---  ------                       --------------   -----  \n",
      " 0   id                           693071 non-null  object \n",
      " 1   timestamp                    693071 non-null  float64\n",
      " 2   hour                         693071 non-null  int64  \n",
      " 3   day                          693071 non-null  int64  \n",
      " 4   month                        693071 non-null  int64  \n",
      " 5   datetime                     693071 non-null  object \n",
      " 6   timezone                     693071 non-null  object \n",
      " 7   source                       693071 non-null  object \n",
      " 8   destination                  693071 non-null  object \n",
      " 9   cab_type                     693071 non-null  object \n",
      " 10  product_id                   693071 non-null  object \n",
      " 11  name                         693071 non-null  object \n",
      " 12  price                        637976 non-null  float64\n",
      " 13  distance                     693071 non-null  float64\n",
      " 14  surge_multiplier             693071 non-null  float64\n",
      " 15  latitude                     693071 non-null  float64\n",
      " 16  longitude                    693071 non-null  float64\n",
      " 17  temperature                  693071 non-null  float64\n",
      " 18  apparentTemperature          693071 non-null  float64\n",
      " 19  short_summary                693071 non-null  object \n",
      " 20  long_summary                 693071 non-null  object \n",
      " 21  precipIntensity              693071 non-null  float64\n",
      " 22  precipProbability            693071 non-null  float64\n",
      " 23  humidity                     693071 non-null  float64\n",
      " 24  windSpeed                    693071 non-null  float64\n",
      " 25  windGust                     693071 non-null  float64\n",
      " 26  windGustTime                 693071 non-null  int64  \n",
      " 27  visibility                   693071 non-null  float64\n",
      " 28  temperatureHigh              693071 non-null  float64\n",
      " 29  temperatureHighTime          693071 non-null  int64  \n",
      " 30  temperatureLow               693071 non-null  float64\n",
      " 31  temperatureLowTime           693071 non-null  int64  \n",
      " 32  apparentTemperatureHigh      693071 non-null  float64\n",
      " 33  apparentTemperatureHighTime  693071 non-null  int64  \n",
      " 34  apparentTemperatureLow       693071 non-null  float64\n",
      " 35  apparentTemperatureLowTime   693071 non-null  int64  \n",
      " 36  icon                         693071 non-null  object \n",
      " 37  dewPoint                     693071 non-null  float64\n",
      " 38  pressure                     693071 non-null  float64\n",
      " 39  windBearing                  693071 non-null  int64  \n",
      " 40  cloudCover                   693071 non-null  float64\n",
      " 41  uvIndex                      693071 non-null  int64  \n",
      " 42  visibility.1                 693071 non-null  float64\n",
      " 43  ozone                        693071 non-null  float64\n",
      " 44  sunriseTime                  693071 non-null  int64  \n",
      " 45  sunsetTime                   693071 non-null  int64  \n",
      " 46  moonPhase                    693071 non-null  float64\n",
      " 47  precipIntensityMax           693071 non-null  float64\n",
      " 48  uvIndexTime                  693071 non-null  int64  \n",
      " 49  temperatureMin               693071 non-null  float64\n",
      " 50  temperatureMinTime           693071 non-null  int64  \n",
      " 51  temperatureMax               693071 non-null  float64\n",
      " 52  temperatureMaxTime           693071 non-null  int64  \n",
      " 53  apparentTemperatureMin       693071 non-null  float64\n",
      " 54  apparentTemperatureMinTime   693071 non-null  int64  \n",
      " 55  apparentTemperatureMax       693071 non-null  float64\n",
      " 56  apparentTemperatureMaxTime   693071 non-null  int64  \n",
      "dtypes: float64(29), int64(17), object(11)\n",
      "memory usage: 301.4+ MB\n"
     ]
    }
   ],
   "source": [
    "df_ori.info()"
   ]
  },
  {
   "cell_type": "markdown",
   "metadata": {},
   "source": [
    "- Checking statistics information of dataset"
   ]
  },
  {
   "cell_type": "code",
   "execution_count": 10,
   "metadata": {},
   "outputs": [
    {
     "data": {
      "text/html": [
       "<div>\n",
       "<style scoped>\n",
       "    .dataframe tbody tr th:only-of-type {\n",
       "        vertical-align: middle;\n",
       "    }\n",
       "\n",
       "    .dataframe tbody tr th {\n",
       "        vertical-align: top;\n",
       "    }\n",
       "\n",
       "    .dataframe thead th {\n",
       "        text-align: right;\n",
       "    }\n",
       "</style>\n",
       "<table border=\"1\" class=\"dataframe\">\n",
       "  <thead>\n",
       "    <tr style=\"text-align: right;\">\n",
       "      <th></th>\n",
       "      <th>timestamp</th>\n",
       "      <th>hour</th>\n",
       "      <th>day</th>\n",
       "      <th>month</th>\n",
       "      <th>price</th>\n",
       "      <th>distance</th>\n",
       "      <th>surge_multiplier</th>\n",
       "      <th>latitude</th>\n",
       "      <th>longitude</th>\n",
       "      <th>temperature</th>\n",
       "      <th>...</th>\n",
       "      <th>precipIntensityMax</th>\n",
       "      <th>uvIndexTime</th>\n",
       "      <th>temperatureMin</th>\n",
       "      <th>temperatureMinTime</th>\n",
       "      <th>temperatureMax</th>\n",
       "      <th>temperatureMaxTime</th>\n",
       "      <th>apparentTemperatureMin</th>\n",
       "      <th>apparentTemperatureMinTime</th>\n",
       "      <th>apparentTemperatureMax</th>\n",
       "      <th>apparentTemperatureMaxTime</th>\n",
       "    </tr>\n",
       "  </thead>\n",
       "  <tbody>\n",
       "    <tr>\n",
       "      <th>count</th>\n",
       "      <td>6.930710e+05</td>\n",
       "      <td>693071.000000</td>\n",
       "      <td>693071.000000</td>\n",
       "      <td>693071.000000</td>\n",
       "      <td>637976.000000</td>\n",
       "      <td>693071.000000</td>\n",
       "      <td>693071.000000</td>\n",
       "      <td>693071.000000</td>\n",
       "      <td>693071.000000</td>\n",
       "      <td>693071.000000</td>\n",
       "      <td>...</td>\n",
       "      <td>693071.000000</td>\n",
       "      <td>6.930710e+05</td>\n",
       "      <td>693071.000000</td>\n",
       "      <td>6.930710e+05</td>\n",
       "      <td>693071.000000</td>\n",
       "      <td>6.930710e+05</td>\n",
       "      <td>693071.000000</td>\n",
       "      <td>6.930710e+05</td>\n",
       "      <td>693071.000000</td>\n",
       "      <td>6.930710e+05</td>\n",
       "    </tr>\n",
       "    <tr>\n",
       "      <th>mean</th>\n",
       "      <td>1.544046e+09</td>\n",
       "      <td>11.619137</td>\n",
       "      <td>17.794365</td>\n",
       "      <td>11.586684</td>\n",
       "      <td>16.545125</td>\n",
       "      <td>2.189430</td>\n",
       "      <td>1.013870</td>\n",
       "      <td>42.338172</td>\n",
       "      <td>-71.066151</td>\n",
       "      <td>39.584388</td>\n",
       "      <td>...</td>\n",
       "      <td>0.037374</td>\n",
       "      <td>1.544044e+09</td>\n",
       "      <td>33.457774</td>\n",
       "      <td>1.544042e+09</td>\n",
       "      <td>45.261313</td>\n",
       "      <td>1.544047e+09</td>\n",
       "      <td>29.731002</td>\n",
       "      <td>1.544048e+09</td>\n",
       "      <td>41.997343</td>\n",
       "      <td>1.544048e+09</td>\n",
       "    </tr>\n",
       "    <tr>\n",
       "      <th>std</th>\n",
       "      <td>6.891925e+05</td>\n",
       "      <td>6.948114</td>\n",
       "      <td>9.982286</td>\n",
       "      <td>0.492429</td>\n",
       "      <td>9.324359</td>\n",
       "      <td>1.138937</td>\n",
       "      <td>0.091641</td>\n",
       "      <td>0.047840</td>\n",
       "      <td>0.020302</td>\n",
       "      <td>6.726084</td>\n",
       "      <td>...</td>\n",
       "      <td>0.055214</td>\n",
       "      <td>6.912028e+05</td>\n",
       "      <td>6.467224</td>\n",
       "      <td>6.901954e+05</td>\n",
       "      <td>5.645046</td>\n",
       "      <td>6.901353e+05</td>\n",
       "      <td>7.110494</td>\n",
       "      <td>6.871862e+05</td>\n",
       "      <td>6.936841</td>\n",
       "      <td>6.910777e+05</td>\n",
       "    </tr>\n",
       "    <tr>\n",
       "      <th>min</th>\n",
       "      <td>1.543204e+09</td>\n",
       "      <td>0.000000</td>\n",
       "      <td>1.000000</td>\n",
       "      <td>11.000000</td>\n",
       "      <td>2.500000</td>\n",
       "      <td>0.020000</td>\n",
       "      <td>1.000000</td>\n",
       "      <td>42.214800</td>\n",
       "      <td>-71.105400</td>\n",
       "      <td>18.910000</td>\n",
       "      <td>...</td>\n",
       "      <td>0.000000</td>\n",
       "      <td>1.543162e+09</td>\n",
       "      <td>15.630000</td>\n",
       "      <td>1.543122e+09</td>\n",
       "      <td>33.510000</td>\n",
       "      <td>1.543154e+09</td>\n",
       "      <td>11.810000</td>\n",
       "      <td>1.543136e+09</td>\n",
       "      <td>28.950000</td>\n",
       "      <td>1.543187e+09</td>\n",
       "    </tr>\n",
       "    <tr>\n",
       "      <th>25%</th>\n",
       "      <td>1.543444e+09</td>\n",
       "      <td>6.000000</td>\n",
       "      <td>13.000000</td>\n",
       "      <td>11.000000</td>\n",
       "      <td>9.000000</td>\n",
       "      <td>1.280000</td>\n",
       "      <td>1.000000</td>\n",
       "      <td>42.350300</td>\n",
       "      <td>-71.081000</td>\n",
       "      <td>36.450000</td>\n",
       "      <td>...</td>\n",
       "      <td>0.000000</td>\n",
       "      <td>1.543421e+09</td>\n",
       "      <td>30.170000</td>\n",
       "      <td>1.543399e+09</td>\n",
       "      <td>42.570000</td>\n",
       "      <td>1.543439e+09</td>\n",
       "      <td>27.760000</td>\n",
       "      <td>1.543399e+09</td>\n",
       "      <td>36.570000</td>\n",
       "      <td>1.543439e+09</td>\n",
       "    </tr>\n",
       "    <tr>\n",
       "      <th>50%</th>\n",
       "      <td>1.543737e+09</td>\n",
       "      <td>12.000000</td>\n",
       "      <td>17.000000</td>\n",
       "      <td>12.000000</td>\n",
       "      <td>13.500000</td>\n",
       "      <td>2.160000</td>\n",
       "      <td>1.000000</td>\n",
       "      <td>42.351900</td>\n",
       "      <td>-71.063100</td>\n",
       "      <td>40.490000</td>\n",
       "      <td>...</td>\n",
       "      <td>0.000400</td>\n",
       "      <td>1.543770e+09</td>\n",
       "      <td>34.240000</td>\n",
       "      <td>1.543727e+09</td>\n",
       "      <td>44.680000</td>\n",
       "      <td>1.543788e+09</td>\n",
       "      <td>30.130000</td>\n",
       "      <td>1.543745e+09</td>\n",
       "      <td>40.950000</td>\n",
       "      <td>1.543788e+09</td>\n",
       "    </tr>\n",
       "    <tr>\n",
       "      <th>75%</th>\n",
       "      <td>1.544828e+09</td>\n",
       "      <td>18.000000</td>\n",
       "      <td>28.000000</td>\n",
       "      <td>12.000000</td>\n",
       "      <td>22.500000</td>\n",
       "      <td>2.920000</td>\n",
       "      <td>1.000000</td>\n",
       "      <td>42.364700</td>\n",
       "      <td>-71.054200</td>\n",
       "      <td>43.580000</td>\n",
       "      <td>...</td>\n",
       "      <td>0.091600</td>\n",
       "      <td>1.544807e+09</td>\n",
       "      <td>38.880000</td>\n",
       "      <td>1.544789e+09</td>\n",
       "      <td>46.910000</td>\n",
       "      <td>1.544814e+09</td>\n",
       "      <td>35.710000</td>\n",
       "      <td>1.544789e+09</td>\n",
       "      <td>44.120000</td>\n",
       "      <td>1.544818e+09</td>\n",
       "    </tr>\n",
       "    <tr>\n",
       "      <th>max</th>\n",
       "      <td>1.545161e+09</td>\n",
       "      <td>23.000000</td>\n",
       "      <td>30.000000</td>\n",
       "      <td>12.000000</td>\n",
       "      <td>97.500000</td>\n",
       "      <td>7.860000</td>\n",
       "      <td>3.000000</td>\n",
       "      <td>42.366100</td>\n",
       "      <td>-71.033000</td>\n",
       "      <td>57.220000</td>\n",
       "      <td>...</td>\n",
       "      <td>0.145900</td>\n",
       "      <td>1.545152e+09</td>\n",
       "      <td>43.100000</td>\n",
       "      <td>1.545192e+09</td>\n",
       "      <td>57.870000</td>\n",
       "      <td>1.545109e+09</td>\n",
       "      <td>40.050000</td>\n",
       "      <td>1.545134e+09</td>\n",
       "      <td>57.200000</td>\n",
       "      <td>1.545109e+09</td>\n",
       "    </tr>\n",
       "  </tbody>\n",
       "</table>\n",
       "<p>8 rows × 46 columns</p>\n",
       "</div>"
      ],
      "text/plain": [
       "          timestamp           hour            day          month  \\\n",
       "count  6.930710e+05  693071.000000  693071.000000  693071.000000   \n",
       "mean   1.544046e+09      11.619137      17.794365      11.586684   \n",
       "std    6.891925e+05       6.948114       9.982286       0.492429   \n",
       "min    1.543204e+09       0.000000       1.000000      11.000000   \n",
       "25%    1.543444e+09       6.000000      13.000000      11.000000   \n",
       "50%    1.543737e+09      12.000000      17.000000      12.000000   \n",
       "75%    1.544828e+09      18.000000      28.000000      12.000000   \n",
       "max    1.545161e+09      23.000000      30.000000      12.000000   \n",
       "\n",
       "               price       distance  surge_multiplier       latitude  \\\n",
       "count  637976.000000  693071.000000     693071.000000  693071.000000   \n",
       "mean       16.545125       2.189430          1.013870      42.338172   \n",
       "std         9.324359       1.138937          0.091641       0.047840   \n",
       "min         2.500000       0.020000          1.000000      42.214800   \n",
       "25%         9.000000       1.280000          1.000000      42.350300   \n",
       "50%        13.500000       2.160000          1.000000      42.351900   \n",
       "75%        22.500000       2.920000          1.000000      42.364700   \n",
       "max        97.500000       7.860000          3.000000      42.366100   \n",
       "\n",
       "           longitude    temperature  ...  precipIntensityMax   uvIndexTime  \\\n",
       "count  693071.000000  693071.000000  ...       693071.000000  6.930710e+05   \n",
       "mean      -71.066151      39.584388  ...            0.037374  1.544044e+09   \n",
       "std         0.020302       6.726084  ...            0.055214  6.912028e+05   \n",
       "min       -71.105400      18.910000  ...            0.000000  1.543162e+09   \n",
       "25%       -71.081000      36.450000  ...            0.000000  1.543421e+09   \n",
       "50%       -71.063100      40.490000  ...            0.000400  1.543770e+09   \n",
       "75%       -71.054200      43.580000  ...            0.091600  1.544807e+09   \n",
       "max       -71.033000      57.220000  ...            0.145900  1.545152e+09   \n",
       "\n",
       "       temperatureMin  temperatureMinTime  temperatureMax  temperatureMaxTime  \\\n",
       "count   693071.000000        6.930710e+05   693071.000000        6.930710e+05   \n",
       "mean        33.457774        1.544042e+09       45.261313        1.544047e+09   \n",
       "std          6.467224        6.901954e+05        5.645046        6.901353e+05   \n",
       "min         15.630000        1.543122e+09       33.510000        1.543154e+09   \n",
       "25%         30.170000        1.543399e+09       42.570000        1.543439e+09   \n",
       "50%         34.240000        1.543727e+09       44.680000        1.543788e+09   \n",
       "75%         38.880000        1.544789e+09       46.910000        1.544814e+09   \n",
       "max         43.100000        1.545192e+09       57.870000        1.545109e+09   \n",
       "\n",
       "       apparentTemperatureMin  apparentTemperatureMinTime  \\\n",
       "count           693071.000000                6.930710e+05   \n",
       "mean                29.731002                1.544048e+09   \n",
       "std                  7.110494                6.871862e+05   \n",
       "min                 11.810000                1.543136e+09   \n",
       "25%                 27.760000                1.543399e+09   \n",
       "50%                 30.130000                1.543745e+09   \n",
       "75%                 35.710000                1.544789e+09   \n",
       "max                 40.050000                1.545134e+09   \n",
       "\n",
       "       apparentTemperatureMax  apparentTemperatureMaxTime  \n",
       "count           693071.000000                6.930710e+05  \n",
       "mean                41.997343                1.544048e+09  \n",
       "std                  6.936841                6.910777e+05  \n",
       "min                 28.950000                1.543187e+09  \n",
       "25%                 36.570000                1.543439e+09  \n",
       "50%                 40.950000                1.543788e+09  \n",
       "75%                 44.120000                1.544818e+09  \n",
       "max                 57.200000                1.545109e+09  \n",
       "\n",
       "[8 rows x 46 columns]"
      ]
     },
     "execution_count": 10,
     "metadata": {},
     "output_type": "execute_result"
    }
   ],
   "source": [
    "df_ori.describe()"
   ]
  },
  {
   "cell_type": "markdown",
   "metadata": {},
   "source": [
    "- creating copy dataset in order to conduct analyzing and predicting the dataset"
   ]
  },
  {
   "cell_type": "code",
   "execution_count": 11,
   "metadata": {},
   "outputs": [],
   "source": [
    "df = df_ori.copy(deep=True)"
   ]
  },
  {
   "cell_type": "markdown",
   "metadata": {},
   "source": [
    "# 4. Explanatory Data Analysis"
   ]
  },
  {
   "cell_type": "markdown",
   "metadata": {},
   "source": [
    "### Comparing amount of user between Uber and Lyft in November."
   ]
  },
  {
   "cell_type": "code",
   "execution_count": 12,
   "metadata": {},
   "outputs": [
    {
     "data": {
      "text/plain": [
       "array(['Lyft', 'Uber'], dtype=object)"
      ]
     },
     "execution_count": 12,
     "metadata": {},
     "output_type": "execute_result"
    }
   ],
   "source": [
    "df['cab_type'].unique()"
   ]
  },
  {
   "cell_type": "code",
   "execution_count": 13,
   "metadata": {},
   "outputs": [
    {
     "data": {
      "text/html": [
       "<div>\n",
       "<style scoped>\n",
       "    .dataframe tbody tr th:only-of-type {\n",
       "        vertical-align: middle;\n",
       "    }\n",
       "\n",
       "    .dataframe tbody tr th {\n",
       "        vertical-align: top;\n",
       "    }\n",
       "\n",
       "    .dataframe thead th {\n",
       "        text-align: right;\n",
       "    }\n",
       "</style>\n",
       "<table border=\"1\" class=\"dataframe\">\n",
       "  <thead>\n",
       "    <tr style=\"text-align: right;\">\n",
       "      <th></th>\n",
       "      <th>cab_type</th>\n",
       "      <th>count</th>\n",
       "    </tr>\n",
       "  </thead>\n",
       "  <tbody>\n",
       "    <tr>\n",
       "      <th>0</th>\n",
       "      <td>Lyft</td>\n",
       "      <td>126925</td>\n",
       "    </tr>\n",
       "    <tr>\n",
       "      <th>1</th>\n",
       "      <td>Uber</td>\n",
       "      <td>159532</td>\n",
       "    </tr>\n",
       "  </tbody>\n",
       "</table>\n",
       "</div>"
      ],
      "text/plain": [
       "  cab_type   count\n",
       "0     Lyft  126925\n",
       "1     Uber  159532"
      ]
     },
     "execution_count": 13,
     "metadata": {},
     "output_type": "execute_result"
    }
   ],
   "source": [
    "amount_user_df = df.loc[df['month'] == 11].groupby('cab_type')['id'].nunique().reset_index().rename(columns={'id':'count'})\n",
    "amount_user_df"
   ]
  },
  {
   "cell_type": "code",
   "execution_count": 14,
   "metadata": {},
   "outputs": [
    {
     "name": "stderr",
     "output_type": "stream",
     "text": [
      "/var/folders/5r/qgg84vr523s_9ksyqpjzvnfm0000gn/T/ipykernel_11168/1496057373.py:2: FutureWarning: \n",
      "\n",
      "Passing `palette` without assigning `hue` is deprecated and will be removed in v0.14.0. Assign the `x` variable to `hue` and set `legend=False` for the same effect.\n",
      "\n",
      "  sns.barplot(x='cab_type', y='count', data=amount_user_df, palette='viridis')\n"
     ]
    },
    {
     "data": {
      "image/png": "[encoded data removed]",
      "text/plain": [
       "<Figure size 1000x600 with 1 Axes>"
      ]
     },
     "metadata": {},
     "output_type": "display_data"
    }
   ],
   "source": [
    "plt.figure(figsize=(10, 6))\n",
    "sns.barplot(x='cab_type', y='count', data=amount_user_df, palette='viridis')\n",
    "plt.xlabel('Cab')\n",
    "plt.title('Comparisson Amount of Ride by Company')\n",
    "plt.show()"
   ]
  },
  {
   "cell_type": "markdown",
   "metadata": {},
   "source": [
    "__Insight:__\n",
    "\n",
    "\n",
    "*Based on the data, Uber remains favored among users with 159,532 users compared to 126,925 users.*"
   ]
  },
  {
   "cell_type": "markdown",
   "metadata": {},
   "source": [
    "### Checking the value distribution of price on each company"
   ]
  },
  {
   "cell_type": "code",
   "execution_count": 15,
   "metadata": {},
   "outputs": [
    {
     "data": {
      "text/plain": [
       "array(['Lyft', 'Uber'], dtype=object)"
      ]
     },
     "execution_count": 15,
     "metadata": {},
     "output_type": "execute_result"
    }
   ],
   "source": [
    "df['cab_type'].unique()"
   ]
  },
  {
   "cell_type": "markdown",
   "metadata": {},
   "source": [
    "#### Lyft Price Distribution"
   ]
  },
  {
   "cell_type": "code",
   "execution_count": 16,
   "metadata": {},
   "outputs": [
    {
     "name": "stdout",
     "output_type": "stream",
     "text": [
      "Lyft skewness value of price: 0.9779622794919607\n",
      "Lyft minimum amount price: 2.5\n",
      "Lyft maximum amount of price: 97.5\n",
      "Lyft average value of price: 17.351396125019512\n"
     ]
    }
   ],
   "source": [
    "lyft_skewness_price = df.loc[df['cab_type'] == 'Lyft']['price'].skew()\n",
    "lyft_min_price = df.loc[df['cab_type'] == 'Lyft']['price'].min()\n",
    "lyft_max_price = df.loc[df['cab_type'] == 'Lyft']['price'].max()\n",
    "lyft_avg_price = df.loc[df['cab_type'] == 'Lyft']['price'].mean()\n",
    "\n",
    "print(f'Lyft skewness value of price: {lyft_skewness_price}')\n",
    "print(f'Lyft minimum amount price: {lyft_min_price}')\n",
    "print(f'Lyft maximum amount of price: {lyft_max_price}')\n",
    "print(f'Lyft average value of price: {lyft_avg_price}')"
   ]
  },
  {
   "cell_type": "code",
   "execution_count": 17,
   "metadata": {},
   "outputs": [
    {
     "data": {
      "image/png": "[encoded data removed]",
      "text/plain": [
       "<Figure size 1000x600 with 1 Axes>"
      ]
     },
     "metadata": {},
     "output_type": "display_data"
    }
   ],
   "source": [
    "plt.figure(figsize=(10, 6))\n",
    "plt.hist(df.loc[df['cab_type'] == 'Lyft']['price'], bins=20, edgecolor='black')\n",
    "plt.xlabel('Price')\n",
    "plt.ylabel('Frequency')\n",
    "plt.title('Lyft - Price Distribution')\n",
    "plt.grid(True)\n",
    "plt.show()"
   ]
  },
  {
   "cell_type": "code",
   "execution_count": 18,
   "metadata": {},
   "outputs": [
    {
     "data": {
      "text/plain": [
       "Text(0.95, 0.9, 'Skewness: 0.98')"
      ]
     },
     "execution_count": 18,
     "metadata": {},
     "output_type": "execute_result"
    },
    {
     "data": {
      "image/png": "[encoded data removed]",
      "text/plain": [
       "<Figure size 1000x600 with 1 Axes>"
      ]
     },
     "metadata": {},
     "output_type": "display_data"
    }
   ],
   "source": [
    "plt.figure(figsize=(10, 6))\n",
    "sns.histplot(df.loc[df['cab_type'] == 'Lyft']['price'], kde=True, edgecolor='black', bins=20)\n",
    "plt.xlabel('Price')\n",
    "plt.grid(True)\n",
    "plt.text(0.95, 0.9, f'Skewness: {lyft_skewness_price:.2f}', ha='right', va='top', transform=plt.gca().transAxes, fontsize=12)"
   ]
  },
  {
   "cell_type": "markdown",
   "metadata": {},
   "source": [
    "__Insight:__\n",
    "- The skewness value of the price distribution is 0.978, indicating that the distribution of prices is moderately skewed to the right.\n",
    "- The minimum price observed is $2.5, suggesting that some rides were priced relatively low.\n",
    "- The maximum price observed is $97.5, indicating that some rides were priced quite high.\n",
    "- The average price is $17.35, providing a typical value around which Lyft prices tend to cluster.\n",
    "- The data is distributed within the range of $2.5 to $20. This indicates that the majority of Lyft prices fall within this range, with only a few rides having prices below $2.5 or above $20."
   ]
  },
  {
   "cell_type": "markdown",
   "metadata": {},
   "source": [
    "#### Uber Price Distribution"
   ]
  },
  {
   "cell_type": "code",
   "execution_count": 19,
   "metadata": {},
   "outputs": [
    {
     "name": "stdout",
     "output_type": "stream",
     "text": [
      "Uber skewness value of price: 1.0528694623412944\n",
      "Uber minimum amount price: 4.5\n",
      "Uber maximum amount of price: 89.5\n",
      "Uber average value of price: 15.795343166912708\n"
     ]
    }
   ],
   "source": [
    "uber_skewness_price = df.loc[df['cab_type'] == 'Uber']['price'].skew()\n",
    "uber_min_price = df.loc[df['cab_type'] == 'Uber']['price'].min()\n",
    "uber_max_price = df.loc[df['cab_type'] == 'Uber']['price'].max()\n",
    "uber_avg_price = df.loc[df['cab_type'] == 'Uber']['price'].mean()\n",
    "uber_mode_price = df.loc[df['cab_type'] == 'Uber']['price'].mode()\n",
    "\n",
    "print(f'Uber skewness value of price: {uber_skewness_price}')\n",
    "print(f'Uber minimum amount price: {uber_min_price}')\n",
    "print(f'Uber maximum amount of price: {uber_max_price}')\n",
    "print(f'Uber average value of price: {uber_avg_price}')"
   ]
  },
  {
   "cell_type": "code",
   "execution_count": 20,
   "metadata": {},
   "outputs": [
    {
     "data": {
      "image/png": "[encoded data removed]",
      "text/plain": [
       "<Figure size 1000x600 with 1 Axes>"
      ]
     },
     "metadata": {},
     "output_type": "display_data"
    }
   ],
   "source": [
    "plt.figure(figsize=(10, 6))\n",
    "plt.hist(df.loc[df['cab_type'] == 'Uber']['price'], bins=20, edgecolor='black')\n",
    "plt.xlabel('Price')\n",
    "plt.ylabel('Frequency')\n",
    "plt.title('Uber - Price Distribution')\n",
    "plt.grid(True)\n",
    "plt.show()"
   ]
  },
  {
   "cell_type": "code",
   "execution_count": 21,
   "metadata": {},
   "outputs": [
    {
     "data": {
      "text/plain": [
       "Text(0.95, 0.9, 'Skewness: 1.05')"
      ]
     },
     "execution_count": 21,
     "metadata": {},
     "output_type": "execute_result"
    },
    {
     "data": {
      "image/png": "[encoded data removed]",
      "text/plain": [
       "<Figure size 1000x600 with 1 Axes>"
      ]
     },
     "metadata": {},
     "output_type": "display_data"
    }
   ],
   "source": [
    "plt.figure(figsize=(10, 6))\n",
    "sns.histplot(df.loc[df['cab_type'] == 'Uber']['price'], kde=True, edgecolor='black', bins=20)\n",
    "plt.xlabel('Price')\n",
    "plt.grid(True)\n",
    "plt.text(0.95, 0.9, f'Skewness: {uber_skewness_price:.2f}', ha='right', va='top', transform=plt.gca().transAxes, fontsize=12)"
   ]
  },
  {
   "cell_type": "markdown",
   "metadata": {},
   "source": [
    "__Insight:__\n",
    "- The skewness value of price (1.053) indicates that the distribution of Uber prices is moderately right-skewed. This suggests that there are more lower-priced rides compared to higher-priced rides, with a tail extending towards higher prices.\n",
    "- The minimum price observed is $4.5, indicating that even the lowest-priced Uber rides start above this amount.\n",
    "- The maximum price observed is $89.5, highlighting instances where Uber fares can reach higher amounts, possibly due to surge pricing during peak hours or for longer distances.\n",
    "- The average price is $15.80, which represents the typical fare paid by Uber riders on average. This average gives an idea of what most Uber rides cost."
   ]
  },
  {
   "cell_type": "markdown",
   "metadata": {},
   "source": [
    "### Analyzing the primary locations where rides originate based on the source feature"
   ]
  },
  {
   "cell_type": "code",
   "execution_count": 22,
   "metadata": {},
   "outputs": [
    {
     "data": {
      "text/plain": [
       "array(['Haymarket Square', 'Back Bay', 'North End', 'North Station',\n",
       "       'Beacon Hill', 'Boston University', 'Fenway', 'South Station',\n",
       "       'Theatre District', 'West End', 'Financial District',\n",
       "       'Northeastern University'], dtype=object)"
      ]
     },
     "execution_count": 22,
     "metadata": {},
     "output_type": "execute_result"
    }
   ],
   "source": [
    "df['source'].unique()"
   ]
  },
  {
   "cell_type": "code",
   "execution_count": 23,
   "metadata": {},
   "outputs": [
    {
     "data": {
      "text/html": [
       "<div>\n",
       "<style scoped>\n",
       "    .dataframe tbody tr th:only-of-type {\n",
       "        vertical-align: middle;\n",
       "    }\n",
       "\n",
       "    .dataframe tbody tr th {\n",
       "        vertical-align: top;\n",
       "    }\n",
       "\n",
       "    .dataframe thead th {\n",
       "        text-align: right;\n",
       "    }\n",
       "</style>\n",
       "<table border=\"1\" class=\"dataframe\">\n",
       "  <thead>\n",
       "    <tr style=\"text-align: right;\">\n",
       "      <th></th>\n",
       "      <th>source</th>\n",
       "      <th>count</th>\n",
       "    </tr>\n",
       "  </thead>\n",
       "  <tbody>\n",
       "    <tr>\n",
       "      <th>0</th>\n",
       "      <td>Financial District</td>\n",
       "      <td>58857</td>\n",
       "    </tr>\n",
       "    <tr>\n",
       "      <th>1</th>\n",
       "      <td>Theatre District</td>\n",
       "      <td>57813</td>\n",
       "    </tr>\n",
       "    <tr>\n",
       "      <th>2</th>\n",
       "      <td>Back Bay</td>\n",
       "      <td>57792</td>\n",
       "    </tr>\n",
       "    <tr>\n",
       "      <th>3</th>\n",
       "      <td>Boston University</td>\n",
       "      <td>57764</td>\n",
       "    </tr>\n",
       "    <tr>\n",
       "      <th>4</th>\n",
       "      <td>North End</td>\n",
       "      <td>57763</td>\n",
       "    </tr>\n",
       "    <tr>\n",
       "      <th>5</th>\n",
       "      <td>Fenway</td>\n",
       "      <td>57757</td>\n",
       "    </tr>\n",
       "    <tr>\n",
       "      <th>6</th>\n",
       "      <td>Northeastern University</td>\n",
       "      <td>57756</td>\n",
       "    </tr>\n",
       "    <tr>\n",
       "      <th>7</th>\n",
       "      <td>South Station</td>\n",
       "      <td>57750</td>\n",
       "    </tr>\n",
       "    <tr>\n",
       "      <th>8</th>\n",
       "      <td>Haymarket Square</td>\n",
       "      <td>57736</td>\n",
       "    </tr>\n",
       "    <tr>\n",
       "      <th>9</th>\n",
       "      <td>West End</td>\n",
       "      <td>57562</td>\n",
       "    </tr>\n",
       "    <tr>\n",
       "      <th>10</th>\n",
       "      <td>Beacon Hill</td>\n",
       "      <td>57403</td>\n",
       "    </tr>\n",
       "    <tr>\n",
       "      <th>11</th>\n",
       "      <td>North Station</td>\n",
       "      <td>57118</td>\n",
       "    </tr>\n",
       "  </tbody>\n",
       "</table>\n",
       "</div>"
      ],
      "text/plain": [
       "                     source  count\n",
       "0        Financial District  58857\n",
       "1          Theatre District  57813\n",
       "2                  Back Bay  57792\n",
       "3         Boston University  57764\n",
       "4                 North End  57763\n",
       "5                    Fenway  57757\n",
       "6   Northeastern University  57756\n",
       "7             South Station  57750\n",
       "8          Haymarket Square  57736\n",
       "9                  West End  57562\n",
       "10              Beacon Hill  57403\n",
       "11            North Station  57118"
      ]
     },
     "execution_count": 23,
     "metadata": {},
     "output_type": "execute_result"
    }
   ],
   "source": [
    "df_source_count = df.groupby('source')['id'].count().sort_values(ascending=False).reset_index().rename(columns={'id':'count'})\n",
    "df_source_count"
   ]
  },
  {
   "cell_type": "code",
   "execution_count": 24,
   "metadata": {},
   "outputs": [
    {
     "name": "stderr",
     "output_type": "stream",
     "text": [
      "/var/folders/5r/qgg84vr523s_9ksyqpjzvnfm0000gn/T/ipykernel_11168/1355108932.py:2: FutureWarning: \n",
      "\n",
      "Passing `palette` without assigning `hue` is deprecated and will be removed in v0.14.0. Assign the `y` variable to `hue` and set `legend=False` for the same effect.\n",
      "\n",
      "  sns.barplot(x='count', y='source', data=df_source_count, palette='viridis')\n"
     ]
    },
    {
     "data": {
      "image/png": "[encoded data removed]",
      "text/plain": [
       "<Figure size 1000x800 with 1 Axes>"
      ]
     },
     "metadata": {},
     "output_type": "display_data"
    }
   ],
   "source": [
    "plt.figure(figsize=(10, 8))\n",
    "sns.barplot(x='count', y='source', data=df_source_count, palette='viridis')\n",
    "plt.xlabel('Amount Ride')\n",
    "plt.title('Amount of Ride by Source')\n",
    "plt.grid(True)\n",
    "plt.show()"
   ]
  },
  {
   "cell_type": "markdown",
   "metadata": {},
   "source": [
    "__Insight:__\n",
    "\n",
    "- Based on the huge number of the data, those areas are popular starting points for rides.\n",
    "- The Financial District, Theatre District, and Back Bay have the highest ride counts, each approximately around 57,800 rides.\n",
    "- The North Station has the lowest count among the listed locations, with approximately 57,100 rides."
   ]
  },
  {
   "cell_type": "markdown",
   "metadata": {},
   "source": [
    "### Comparison of the number of ride users during rush hour and non-rush hour"
   ]
  },
  {
   "cell_type": "code",
   "execution_count": 25,
   "metadata": {},
   "outputs": [
    {
     "data": {
      "text/plain": [
       "array([ 9,  2,  1,  4,  3, 18,  5, 19,  6, 10, 16, 22, 23,  0, 14, 11,  7,\n",
       "       20, 13,  8, 12, 21, 17, 15])"
      ]
     },
     "execution_count": 25,
     "metadata": {},
     "output_type": "execute_result"
    }
   ],
   "source": [
    "df['hour'].unique()"
   ]
  },
  {
   "cell_type": "code",
   "execution_count": 26,
   "metadata": {},
   "outputs": [
    {
     "data": {
      "text/plain": [
       "0         no\n",
       "1         no\n",
       "2         no\n",
       "3         no\n",
       "4         no\n",
       "          ..\n",
       "693066    no\n",
       "693067    no\n",
       "693068    no\n",
       "693069    no\n",
       "693070    no\n",
       "Name: is_rush_hour, Length: 693071, dtype: object"
      ]
     },
     "execution_count": 26,
     "metadata": {},
     "output_type": "execute_result"
    }
   ],
   "source": [
    "df['is_rush_hour'] = df['hour'].apply(lambda x: 'yes' if 14 <= x < 21 else 'no')\n",
    "df['is_rush_hour']"
   ]
  },
  {
   "cell_type": "code",
   "execution_count": 27,
   "metadata": {},
   "outputs": [
    {
     "data": {
      "text/html": [
       "<div>\n",
       "<style scoped>\n",
       "    .dataframe tbody tr th:only-of-type {\n",
       "        vertical-align: middle;\n",
       "    }\n",
       "\n",
       "    .dataframe tbody tr th {\n",
       "        vertical-align: top;\n",
       "    }\n",
       "\n",
       "    .dataframe thead th {\n",
       "        text-align: right;\n",
       "    }\n",
       "</style>\n",
       "<table border=\"1\" class=\"dataframe\">\n",
       "  <thead>\n",
       "    <tr style=\"text-align: right;\">\n",
       "      <th></th>\n",
       "      <th>is_rush_hour</th>\n",
       "      <th>count</th>\n",
       "    </tr>\n",
       "  </thead>\n",
       "  <tbody>\n",
       "    <tr>\n",
       "      <th>0</th>\n",
       "      <td>yes</td>\n",
       "      <td>206256</td>\n",
       "    </tr>\n",
       "    <tr>\n",
       "      <th>1</th>\n",
       "      <td>no</td>\n",
       "      <td>486815</td>\n",
       "    </tr>\n",
       "  </tbody>\n",
       "</table>\n",
       "</div>"
      ],
      "text/plain": [
       "  is_rush_hour   count\n",
       "0          yes  206256\n",
       "1           no  486815"
      ]
     },
     "execution_count": 27,
     "metadata": {},
     "output_type": "execute_result"
    }
   ],
   "source": [
    "busy_hour_df = df.groupby('is_rush_hour')['id'].count().sort_values().reset_index().rename(columns={'id': 'count'})\n",
    "busy_hour_df"
   ]
  },
  {
   "cell_type": "code",
   "execution_count": 28,
   "metadata": {},
   "outputs": [
    {
     "data": {
      "image/png": "[encoded data removed]",
      "text/plain": [
       "<Figure size 800x600 with 1 Axes>"
      ]
     },
     "metadata": {},
     "output_type": "display_data"
    }
   ],
   "source": [
    "plt.figure(figsize=(8, 6))\n",
    "plt.title('Distribution of Rush Hour')\n",
    "plt.pie(busy_hour_df['count'], labels=busy_hour_df['is_rush_hour'], autopct='%1.1f%%', startangle=140, colors=['skyblue', 'lightgreen'])\n",
    "plt.axis('equal')\n",
    "plt.show()"
   ]
  },
  {
   "cell_type": "markdown",
   "metadata": {},
   "source": [
    "__Insight:__\n",
    "\n",
    "- Frequency during Rush Hour: There were 206,256 rides that occurred during rush hour. This indicates a significant portion of rides took place during peak traffic times, likely in urban areas where rush hours are well-defined.\n",
    "\n",
    "- Frequency outside Rush Hour: The majority of rides, 486,815, occurred outside of rush hour periods. This suggests that the demand for rides is spread throughout the day, not just during peak traffic times."
   ]
  },
  {
   "cell_type": "code",
   "execution_count": 29,
   "metadata": {},
   "outputs": [],
   "source": [
    "del df['is_rush_hour']"
   ]
  },
  {
   "cell_type": "markdown",
   "metadata": {},
   "source": [
    "- removing unnecessary columns that are not needed for the analysis, particularly."
   ]
  },
  {
   "cell_type": "markdown",
   "metadata": {},
   "source": [
    "# 5. Feature Engineering"
   ]
  },
  {
   "cell_type": "code",
   "execution_count": 30,
   "metadata": {},
   "outputs": [],
   "source": [
    "X = df.drop('price', axis=1)\n",
    "y = df[['price']]"
   ]
  },
  {
   "cell_type": "markdown",
   "metadata": {},
   "source": [
    "- Splitting dataset"
   ]
  },
  {
   "cell_type": "code",
   "execution_count": 31,
   "metadata": {},
   "outputs": [
    {
     "name": "stdout",
     "output_type": "stream",
     "text": [
      "Train size :  (554456, 56)\n",
      "Test size :  (138615, 56)\n"
     ]
    }
   ],
   "source": [
    "X_train, X_test, y_train, y_test = train_test_split(X,y, test_size = 0.2, random_state = 22)\n",
    "\n",
    "print('Train size : ', X_train.shape)\n",
    "print('Test size : ', X_test.shape)"
   ]
  },
  {
   "cell_type": "markdown",
   "metadata": {},
   "source": [
    "## Handling Missing Value"
   ]
  },
  {
   "cell_type": "markdown",
   "metadata": {},
   "source": [
    "- Is there any missing value in train dataset?"
   ]
  },
  {
   "cell_type": "code",
   "execution_count": 32,
   "metadata": {},
   "outputs": [
    {
     "data": {
      "text/plain": [
       "0"
      ]
     },
     "execution_count": 32,
     "metadata": {},
     "output_type": "execute_result"
    }
   ],
   "source": [
    "X_train.isna().sum().sum()"
   ]
  },
  {
   "cell_type": "code",
   "execution_count": 33,
   "metadata": {},
   "outputs": [
    {
     "data": {
      "text/plain": [
       "44002"
      ]
     },
     "execution_count": 33,
     "metadata": {},
     "output_type": "execute_result"
    }
   ],
   "source": [
    "y_train.isna().sum().sum()"
   ]
  },
  {
   "cell_type": "markdown",
   "metadata": {},
   "source": [
    "- Handling missing value"
   ]
  },
  {
   "cell_type": "code",
   "execution_count": 34,
   "metadata": {},
   "outputs": [],
   "source": [
    "y_train_null = y_train[y_train.isna()['price'] == True]\n",
    "X_train.drop(y_train_null.index, inplace=True)\n",
    "y_train.dropna(inplace=True)"
   ]
  },
  {
   "cell_type": "markdown",
   "metadata": {},
   "source": [
    "- Is there any missing value in test dataset?"
   ]
  },
  {
   "cell_type": "code",
   "execution_count": 35,
   "metadata": {},
   "outputs": [
    {
     "data": {
      "text/plain": [
       "0"
      ]
     },
     "execution_count": 35,
     "metadata": {},
     "output_type": "execute_result"
    }
   ],
   "source": [
    "X_test.isna().sum().sum()"
   ]
  },
  {
   "cell_type": "code",
   "execution_count": 36,
   "metadata": {},
   "outputs": [
    {
     "data": {
      "text/plain": [
       "11093"
      ]
     },
     "execution_count": 36,
     "metadata": {},
     "output_type": "execute_result"
    }
   ],
   "source": [
    "y_test.isna().sum().sum()"
   ]
  },
  {
   "cell_type": "markdown",
   "metadata": {},
   "source": [
    "- Handling missing value in test dataset"
   ]
  },
  {
   "cell_type": "code",
   "execution_count": 37,
   "metadata": {},
   "outputs": [],
   "source": [
    "y_test_null = y_test[y_test.isna()['price'] == True]\n",
    "X_test.drop(y_test_null.index, inplace=True)\n",
    "y_test.dropna(inplace=True)"
   ]
  },
  {
   "cell_type": "code",
   "execution_count": 38,
   "metadata": {},
   "outputs": [
    {
     "data": {
      "text/plain": [
       "(127522, 56)"
      ]
     },
     "execution_count": 38,
     "metadata": {},
     "output_type": "execute_result"
    }
   ],
   "source": [
    "X_test.shape"
   ]
  },
  {
   "cell_type": "code",
   "execution_count": 39,
   "metadata": {},
   "outputs": [
    {
     "data": {
      "text/plain": [
       "(127522, 1)"
      ]
     },
     "execution_count": 39,
     "metadata": {},
     "output_type": "execute_result"
    }
   ],
   "source": [
    "y_test.shape"
   ]
  },
  {
   "cell_type": "markdown",
   "metadata": {},
   "source": [
    "## Handling Outliers"
   ]
  },
  {
   "cell_type": "markdown",
   "metadata": {},
   "source": [
    "- initiate function to show diagram and graphic the distribution on feature selected"
   ]
  },
  {
   "cell_type": "code",
   "execution_count": 40,
   "metadata": {},
   "outputs": [],
   "source": [
    "def diagnostic_plots(df, variable):\n",
    "    # Define figure size\n",
    "    plt.figure(figsize=(16, 4))\n",
    "\n",
    "    # Histogram\n",
    "    plt.subplot(1, 2, 1)\n",
    "    sns.histplot(df[variable], bins=30)\n",
    "    plt.title('Histogram')\n",
    "\n",
    "    # Boxplot\n",
    "    plt.subplot(1, 2, 2)\n",
    "    sns.boxplot(y=df[variable])\n",
    "    plt.title('Boxplot')\n",
    "\n",
    "    plt.show()"
   ]
  },
  {
   "cell_type": "code",
   "execution_count": 41,
   "metadata": {},
   "outputs": [
    {
     "name": "stdout",
     "output_type": "stream",
     "text": [
      "Distance - Before Capping\n"
     ]
    },
    {
     "data": {
      "image/png": "[encoded data removed]",
      "text/plain": [
       "<Figure size 1600x400 with 2 Axes>"
      ]
     },
     "metadata": {},
     "output_type": "display_data"
    }
   ],
   "source": [
    "print('Distance - Before Capping')\n",
    "diagnostic_plots(X_train, 'distance')"
   ]
  },
  {
   "cell_type": "markdown",
   "metadata": {},
   "source": [
    "- create iterations to display statistical information and to determine establish capping datas based on this statistical information for each feature."
   ]
  },
  {
   "cell_type": "code",
   "execution_count": 42,
   "metadata": {},
   "outputs": [
    {
     "name": "stdout",
     "output_type": "stream",
     "text": [
      "== TIMESTAMP ==\n",
      "Skewness value of timestamp: 0.4302366594894864\n",
      "Number of outliers in timestamp: 0\n",
      "Percentage of outliers: 0.00000%\n",
      "Before Winsorizing timestamp:\n",
      "count    5.104540e+05\n",
      "mean     1.544047e+09\n",
      "std      6.896733e+05\n",
      "min      1.543204e+09\n",
      "25%      1.543444e+09\n",
      "50%      1.543737e+09\n",
      "75%      1.544828e+09\n",
      "max      1.545161e+09\n",
      "Name: timestamp, dtype: float64\n",
      "\n",
      "After Winsorizing timestamp:\n",
      "count    5.104540e+05\n",
      "mean     1.544047e+09\n",
      "std      6.896733e+05\n",
      "min      1.543204e+09\n",
      "25%      1.543444e+09\n",
      "50%      1.543737e+09\n",
      "75%      1.544828e+09\n",
      "max      1.545161e+09\n",
      "Name: timestamp, dtype: float64\n",
      "\n",
      "== HOUR ==\n",
      "Skewness value of hour: -0.04536061390485785\n",
      "Number of outliers in hour: 0\n",
      "Percentage of outliers: 0.00000%\n",
      "Before Winsorizing hour:\n",
      "count    510454.000000\n",
      "mean         11.616671\n",
      "std           6.944873\n",
      "min           0.000000\n",
      "25%           6.000000\n",
      "50%          12.000000\n",
      "75%          18.000000\n",
      "max          23.000000\n",
      "Name: hour, dtype: float64\n",
      "\n",
      "After Winsorizing hour:\n",
      "count    510454.000000\n",
      "mean         11.616671\n",
      "std           6.944873\n",
      "min           0.000000\n",
      "25%           6.000000\n",
      "50%          12.000000\n",
      "75%          18.000000\n",
      "max          23.000000\n",
      "Name: hour, dtype: float64\n",
      "\n",
      "== DAY ==\n",
      "Skewness value of day: -0.37666307554138484\n",
      "Number of outliers in day: 0\n",
      "Percentage of outliers: 0.00000%\n",
      "Before Winsorizing day:\n",
      "count    510454.000000\n",
      "mean         17.801794\n",
      "std           9.974831\n",
      "min           1.000000\n",
      "25%          13.000000\n",
      "50%          17.000000\n",
      "75%          28.000000\n",
      "max          30.000000\n",
      "Name: day, dtype: float64\n",
      "\n",
      "After Winsorizing day:\n",
      "count    510454.000000\n",
      "mean         17.801794\n",
      "std           9.974831\n",
      "min           1.000000\n",
      "25%          13.000000\n",
      "50%          17.000000\n",
      "75%          28.000000\n",
      "max          30.000000\n",
      "Name: day, dtype: float64\n",
      "\n",
      "== MONTH ==\n",
      "Skewness value of month: -0.3523866926986802\n",
      "Number of outliers in month: 0\n",
      "Percentage of outliers: 0.00000%\n",
      "Before Winsorizing month:\n",
      "count    510454.000000\n",
      "mean         11.586760\n",
      "std           0.492416\n",
      "min          11.000000\n",
      "25%          11.000000\n",
      "50%          12.000000\n",
      "75%          12.000000\n",
      "max          12.000000\n",
      "Name: month, dtype: float64\n",
      "\n",
      "After Winsorizing month:\n",
      "count    510454.000000\n",
      "mean         11.586760\n",
      "std           0.492416\n",
      "min          11.000000\n",
      "25%          11.000000\n",
      "50%          12.000000\n",
      "75%          12.000000\n",
      "max          12.000000\n",
      "Name: month, dtype: float64\n",
      "\n",
      "== DISTANCE ==\n",
      "Skewness value of distance: 0.8178710635799311\n",
      "Number of outliers in distance: 5847\n",
      "Percentage of outliers: 1.14545%\n",
      "Before Winsorizing distance:\n",
      "count    510454.000000\n",
      "mean          2.191752\n",
      "std           1.136630\n",
      "min           0.020000\n",
      "25%           1.280000\n",
      "50%           2.160000\n",
      "75%           2.930000\n",
      "max           7.860000\n",
      "Name: distance, dtype: float64\n",
      "\n",
      "After Winsorizing distance:\n",
      "count    510454.000000\n",
      "mean          2.182641\n",
      "std           1.104027\n",
      "min           0.020000\n",
      "25%           1.280000\n",
      "50%           2.160000\n",
      "75%           2.930000\n",
      "max           5.405000\n",
      "Name: distance, dtype: float64\n",
      "\n",
      "== SURGE_MULTIPLIER ==\n",
      "Skewness value of surge_multiplier: 7.986183599235804\n",
      "Number of outliers in surge_multiplier: 16742\n",
      "Percentage of outliers: 3.27983%\n",
      "count    510454.000000\n",
      "mean          1.015052\n",
      "std           0.095448\n",
      "min           1.000000\n",
      "25%           1.000000\n",
      "50%           1.000000\n",
      "75%           1.000000\n",
      "max           3.000000\n",
      "Name: surge_multiplier, dtype: float64\n",
      "\n",
      "== LATITUDE ==\n",
      "Skewness value of latitude: -2.1173372492910483\n",
      "Number of outliers in latitude: 65163\n",
      "Percentage of outliers: 12.76569%\n",
      "count    510454.000000\n",
      "mean         42.338190\n",
      "std           0.047825\n",
      "min          42.214800\n",
      "25%          42.350300\n",
      "50%          42.351900\n",
      "75%          42.364700\n",
      "max          42.366100\n",
      "Name: latitude, dtype: float64\n",
      "\n",
      "== LONGITUDE ==\n",
      "Skewness value of longitude: -0.35399666544578584\n",
      "Number of outliers in longitude: 0\n",
      "Percentage of outliers: 0.00000%\n",
      "Before Winsorizing longitude:\n",
      "count    510454.000000\n",
      "mean        -71.066170\n",
      "std           0.020308\n",
      "min         -71.105400\n",
      "25%         -71.081000\n",
      "50%         -71.063100\n",
      "75%         -71.054200\n",
      "max         -71.033000\n",
      "Name: longitude, dtype: float64\n",
      "\n",
      "After Winsorizing longitude:\n",
      "count    510454.000000\n",
      "mean        -71.066170\n",
      "std           0.020308\n",
      "min         -71.105400\n",
      "25%         -71.081000\n",
      "50%         -71.063100\n",
      "75%         -71.054200\n",
      "max         -71.033000\n",
      "Name: longitude, dtype: float64\n",
      "\n",
      "== TEMPERATURE ==\n",
      "Skewness value of temperature: -0.6088152718050827\n",
      "Number of outliers in temperature: 27012\n",
      "Percentage of outliers: 5.29176%\n",
      "count    510454.000000\n",
      "mean         39.576942\n",
      "std           6.724699\n",
      "min          18.910000\n",
      "25%          36.450000\n",
      "50%          40.490000\n",
      "75%          43.580000\n",
      "max          57.220000\n",
      "Name: temperature, dtype: float64\n",
      "\n",
      "== APPARENTTEMPERATURE ==\n",
      "Skewness value of apparentTemperature: -0.3955114699235067\n",
      "Number of outliers in apparentTemperature: 0\n",
      "Percentage of outliers: 0.00000%\n",
      "Before Winsorizing apparentTemperature:\n",
      "count    510454.000000\n",
      "mean         35.871337\n",
      "std           7.918210\n",
      "min          12.130000\n",
      "25%          31.910000\n",
      "50%          35.900000\n",
      "75%          40.010000\n",
      "max          57.220000\n",
      "Name: apparentTemperature, dtype: float64\n",
      "\n",
      "After Winsorizing apparentTemperature:\n",
      "count    510454.000000\n",
      "mean         35.871337\n",
      "std           7.918210\n",
      "min          12.130000\n",
      "25%          31.910000\n",
      "50%          35.900000\n",
      "75%          40.010000\n",
      "max          57.220000\n",
      "Name: apparentTemperature, dtype: float64\n",
      "\n",
      "== PRECIPINTENSITY ==\n",
      "Skewness value of precipIntensity: 3.3319091302058026\n",
      "Number of outliers in precipIntensity: 111076\n",
      "Percentage of outliers: 21.76024%\n",
      "count    510454.000000\n",
      "mean          0.008891\n",
      "std           0.026839\n",
      "min           0.000000\n",
      "25%           0.000000\n",
      "50%           0.000000\n",
      "75%           0.000000\n",
      "max           0.144700\n",
      "Name: precipIntensity, dtype: float64\n",
      "\n",
      "== PRECIPPROBABILITY ==\n",
      "Skewness value of precipProbability: 2.030151693065453\n",
      "Number of outliers in precipProbability: 111076\n",
      "Percentage of outliers: 21.76024%\n",
      "count    510454.000000\n",
      "mean          0.145864\n",
      "std           0.328590\n",
      "min           0.000000\n",
      "25%           0.000000\n",
      "50%           0.000000\n",
      "75%           0.000000\n",
      "max           1.000000\n",
      "Name: precipProbability, dtype: float64\n",
      "\n",
      "== HUMIDITY ==\n",
      "Skewness value of humidity: -0.0756034594836025\n",
      "Number of outliers in humidity: 0\n",
      "Percentage of outliers: 0.00000%\n",
      "Before Winsorizing humidity:\n",
      "count    510454.000000\n",
      "mean          0.741089\n",
      "std           0.138527\n",
      "min           0.380000\n",
      "25%           0.640000\n",
      "50%           0.710000\n",
      "75%           0.880000\n",
      "max           0.960000\n",
      "Name: humidity, dtype: float64\n",
      "\n",
      "After Winsorizing humidity:\n",
      "count    510454.000000\n",
      "mean          0.741089\n",
      "std           0.138527\n",
      "min           0.380000\n",
      "25%           0.640000\n",
      "50%           0.710000\n",
      "75%           0.880000\n",
      "max           0.960000\n",
      "Name: humidity, dtype: float64\n",
      "\n",
      "== WINDSPEED ==\n",
      "Skewness value of windSpeed: 0.4524968071337533\n",
      "Number of outliers in windSpeed: 0\n",
      "Percentage of outliers: 0.00000%\n",
      "Before Winsorizing windSpeed:\n",
      "count    510454.000000\n",
      "mean          6.187339\n",
      "std           3.148724\n",
      "min           0.450000\n",
      "25%           3.410000\n",
      "50%           5.910000\n",
      "75%           8.410000\n",
      "max          15.000000\n",
      "Name: windSpeed, dtype: float64\n",
      "\n",
      "After Winsorizing windSpeed:\n",
      "count    510454.000000\n",
      "mean          6.187339\n",
      "std           3.148724\n",
      "min           0.450000\n",
      "25%           3.410000\n",
      "50%           5.910000\n",
      "75%           8.410000\n",
      "max          15.000000\n",
      "Name: windSpeed, dtype: float64\n",
      "\n",
      "== WINDGUST ==\n",
      "Skewness value of windGust: 1.119674455876657\n",
      "Number of outliers in windGust: 0\n",
      "Percentage of outliers: 0.00000%\n",
      "Before Winsorizing windGust:\n",
      "count    510454.000000\n",
      "mean          8.473119\n",
      "std           5.292513\n",
      "min           0.800000\n",
      "25%           4.060000\n",
      "50%           7.550000\n",
      "75%          11.740000\n",
      "max          27.250000\n",
      "Name: windGust, dtype: float64\n",
      "\n",
      "After Winsorizing windGust:\n",
      "count    510454.000000\n",
      "mean          8.421185\n",
      "std           5.131003\n",
      "min           0.800000\n",
      "25%           4.060000\n",
      "50%           7.550000\n",
      "75%          11.740000\n",
      "max          23.260000\n",
      "Name: windGust, dtype: float64\n",
      "\n",
      "== WINDGUSTTIME ==\n",
      "Skewness value of windGustTime: 0.4366329604885934\n",
      "Number of outliers in windGustTime: 0\n",
      "Percentage of outliers: 0.00000%\n",
      "Before Winsorizing windGustTime:\n",
      "count    5.104540e+05\n",
      "mean     1.544050e+09\n",
      "std      6.933110e+05\n",
      "min      1.543151e+09\n",
      "25%      1.543432e+09\n",
      "50%      1.543756e+09\n",
      "75%      1.544846e+09\n",
      "max      1.545127e+09\n",
      "Name: windGustTime, dtype: float64\n",
      "\n",
      "After Winsorizing windGustTime:\n",
      "count    5.104540e+05\n",
      "mean     1.544050e+09\n",
      "std      6.933110e+05\n",
      "min      1.543151e+09\n",
      "25%      1.543432e+09\n",
      "50%      1.543756e+09\n",
      "75%      1.544846e+09\n",
      "max      1.545127e+09\n",
      "Name: windGustTime, dtype: float64\n",
      "\n",
      "== VISIBILITY ==\n",
      "Skewness value of visibility: -1.509745500786328\n",
      "Number of outliers in visibility: 61282\n",
      "Percentage of outliers: 12.00539%\n",
      "count    510454.000000\n",
      "mean          8.470222\n",
      "std           2.600585\n",
      "min           0.717000\n",
      "25%           8.432000\n",
      "50%           9.880000\n",
      "75%           9.996000\n",
      "max          10.000000\n",
      "Name: visibility, dtype: float64\n",
      "\n",
      "== TEMPERATUREHIGH ==\n",
      "Skewness value of temperatureHigh: 0.07492980050436127\n",
      "Number of outliers in temperatureHigh: 0\n",
      "Percentage of outliers: 0.00000%\n",
      "Before Winsorizing temperatureHigh:\n",
      "count    510454.000000\n",
      "mean         45.033255\n",
      "std           5.995783\n",
      "min          32.680000\n",
      "25%          42.570000\n",
      "50%          44.660000\n",
      "75%          46.910000\n",
      "max          57.870000\n",
      "Name: temperatureHigh, dtype: float64\n",
      "\n",
      "After Winsorizing temperatureHigh:\n",
      "count    510454.000000\n",
      "mean         45.033255\n",
      "std           5.995783\n",
      "min          32.680000\n",
      "25%          42.570000\n",
      "50%          44.660000\n",
      "75%          46.910000\n",
      "max          57.870000\n",
      "Name: temperatureHigh, dtype: float64\n",
      "\n",
      "== TEMPERATUREHIGHTIME ==\n",
      "Skewness value of temperatureHighTime: 0.4276152222507624\n",
      "Number of outliers in temperatureHighTime: 0\n",
      "Percentage of outliers: 0.00000%\n",
      "Before Winsorizing temperatureHighTime:\n",
      "count    5.104540e+05\n",
      "mean     1.544051e+09\n",
      "std      6.942980e+05\n",
      "min      1.543154e+09\n",
      "25%      1.543439e+09\n",
      "50%      1.543788e+09\n",
      "75%      1.544814e+09\n",
      "max      1.545160e+09\n",
      "Name: temperatureHighTime, dtype: float64\n",
      "\n",
      "After Winsorizing temperatureHighTime:\n",
      "count    5.104540e+05\n",
      "mean     1.544051e+09\n",
      "std      6.942980e+05\n",
      "min      1.543154e+09\n",
      "25%      1.543439e+09\n",
      "50%      1.543788e+09\n",
      "75%      1.544814e+09\n",
      "max      1.545160e+09\n",
      "Name: temperatureHighTime, dtype: float64\n",
      "\n",
      "== TEMPERATURELOW ==\n",
      "Skewness value of temperatureLow: -0.3350291377562535\n",
      "Number of outliers in temperatureLow: 0\n",
      "Percentage of outliers: 0.00000%\n",
      "Before Winsorizing temperatureLow:\n",
      "count    510454.000000\n",
      "mean         34.143989\n",
      "std           6.383227\n",
      "min          17.850000\n",
      "25%          30.170000\n",
      "50%          34.180000\n",
      "75%          38.730000\n",
      "max          46.600000\n",
      "Name: temperatureLow, dtype: float64\n",
      "\n",
      "After Winsorizing temperatureLow:\n",
      "count    510454.000000\n",
      "mean         34.143989\n",
      "std           6.383227\n",
      "min          17.850000\n",
      "25%          30.170000\n",
      "50%          34.180000\n",
      "75%          38.730000\n",
      "max          46.600000\n",
      "Name: temperatureLow, dtype: float64\n",
      "\n",
      "== TEMPERATURELOWTIME ==\n",
      "Skewness value of temperatureLowTime: 0.4392953680959019\n",
      "Number of outliers in temperatureLowTime: 0\n",
      "Percentage of outliers: 0.00000%\n",
      "Before Winsorizing temperatureLowTime:\n",
      "count    5.104540e+05\n",
      "mean     1.544103e+09\n",
      "std      6.927927e+05\n",
      "min      1.543234e+09\n",
      "25%      1.543489e+09\n",
      "50%      1.543817e+09\n",
      "75%      1.544836e+09\n",
      "max      1.545221e+09\n",
      "Name: temperatureLowTime, dtype: float64\n",
      "\n",
      "After Winsorizing temperatureLowTime:\n",
      "count    5.104540e+05\n",
      "mean     1.544103e+09\n",
      "std      6.927927e+05\n",
      "min      1.543234e+09\n",
      "25%      1.543489e+09\n",
      "50%      1.543817e+09\n",
      "75%      1.544836e+09\n",
      "max      1.545221e+09\n",
      "Name: temperatureLowTime, dtype: float64\n",
      "\n",
      "== APPARENTTEMPERATUREHIGH ==\n",
      "Skewness value of apparentTemperatureHigh: 0.06719196407449934\n",
      "Number of outliers in apparentTemperatureHigh: 0\n",
      "Percentage of outliers: 0.00000%\n",
      "Before Winsorizing apparentTemperatureHigh:\n",
      "count    510454.000000\n",
      "mean         41.603426\n",
      "std           7.666995\n",
      "min          22.620000\n",
      "25%          36.570000\n",
      "50%          40.950000\n",
      "75%          44.090000\n",
      "max          57.200000\n",
      "Name: apparentTemperatureHigh, dtype: float64\n",
      "\n",
      "After Winsorizing apparentTemperatureHigh:\n",
      "count    510454.000000\n",
      "mean         41.603426\n",
      "std           7.666995\n",
      "min          22.620000\n",
      "25%          36.570000\n",
      "50%          40.950000\n",
      "75%          44.090000\n",
      "max          57.200000\n",
      "Name: apparentTemperatureHigh, dtype: float64\n",
      "\n",
      "== APPARENTTEMPERATUREHIGHTIME ==\n",
      "Skewness value of apparentTemperatureHighTime: 0.4244987881665618\n",
      "Number of outliers in apparentTemperatureHighTime: 0\n",
      "Percentage of outliers: 0.00000%\n",
      "Before Winsorizing apparentTemperatureHighTime:\n",
      "count    5.104540e+05\n",
      "mean     1.544051e+09\n",
      "std      6.946735e+05\n",
      "min      1.543187e+09\n",
      "25%      1.543439e+09\n",
      "50%      1.543788e+09\n",
      "75%      1.544818e+09\n",
      "max      1.545160e+09\n",
      "Name: apparentTemperatureHighTime, dtype: float64\n",
      "\n",
      "After Winsorizing apparentTemperatureHighTime:\n",
      "count    5.104540e+05\n",
      "mean     1.544051e+09\n",
      "std      6.946735e+05\n",
      "min      1.543187e+09\n",
      "25%      1.543439e+09\n",
      "50%      1.543788e+09\n",
      "75%      1.544818e+09\n",
      "max      1.545160e+09\n",
      "Name: apparentTemperatureHighTime, dtype: float64\n",
      "\n",
      "== APPARENTTEMPERATURELOW ==\n",
      "Skewness value of apparentTemperatureLow: -0.5028892177293521\n",
      "Number of outliers in apparentTemperatureLow: 64776\n",
      "Percentage of outliers: 12.68988%\n",
      "count    510454.000000\n",
      "mean         30.131121\n",
      "std           8.059899\n",
      "min          11.810000\n",
      "25%          27.700000\n",
      "50%          30.030000\n",
      "75%          35.320000\n",
      "max          47.250000\n",
      "Name: apparentTemperatureLow, dtype: float64\n",
      "\n",
      "== APPARENTTEMPERATURELOWTIME ==\n",
      "Skewness value of apparentTemperatureLowTime: 0.43515947324762355\n",
      "Number of outliers in apparentTemperatureLowTime: 0\n",
      "Percentage of outliers: 0.00000%\n",
      "Before Winsorizing apparentTemperatureLowTime:\n",
      "count    5.104540e+05\n",
      "mean     1.544100e+09\n",
      "std      6.932289e+05\n",
      "min      1.543234e+09\n",
      "25%      1.543478e+09\n",
      "50%      1.543817e+09\n",
      "75%      1.544836e+09\n",
      "max      1.545199e+09\n",
      "Name: apparentTemperatureLowTime, dtype: float64\n",
      "\n",
      "After Winsorizing apparentTemperatureLowTime:\n",
      "count    5.104540e+05\n",
      "mean     1.544100e+09\n",
      "std      6.932289e+05\n",
      "min      1.543234e+09\n",
      "25%      1.543478e+09\n",
      "50%      1.543817e+09\n",
      "75%      1.544836e+09\n",
      "max      1.545199e+09\n",
      "Name: apparentTemperatureLowTime, dtype: float64\n",
      "\n",
      "== DEWPOINT ==\n",
      "Skewness value of dewPoint: -0.49891239555530037\n",
      "Number of outliers in dewPoint: 0\n",
      "Percentage of outliers: 0.00000%\n",
      "Before Winsorizing dewPoint:\n",
      "count    510454.000000\n",
      "mean         31.648587\n",
      "std           9.142481\n",
      "min           4.390000\n",
      "25%          27.490000\n",
      "50%          30.690000\n",
      "75%          38.120000\n",
      "max          50.670000\n",
      "Name: dewPoint, dtype: float64\n",
      "\n",
      "After Winsorizing dewPoint:\n",
      "count    510454.000000\n",
      "mean         31.648587\n",
      "std           9.142481\n",
      "min           4.390000\n",
      "25%          27.490000\n",
      "50%          30.690000\n",
      "75%          38.120000\n",
      "max          50.670000\n",
      "Name: dewPoint, dtype: float64\n",
      "\n",
      "== PRESSURE ==\n",
      "Skewness value of pressure: 0.15411495821867124\n",
      "Number of outliers in pressure: 0\n",
      "Percentage of outliers: 0.00000%\n",
      "Before Winsorizing pressure:\n",
      "count    510454.000000\n",
      "mean       1010.093909\n",
      "std          13.479656\n",
      "min         988.090000\n",
      "25%         999.820000\n",
      "50%        1009.250000\n",
      "75%        1021.860000\n",
      "max        1035.550000\n",
      "Name: pressure, dtype: float64\n",
      "\n",
      "After Winsorizing pressure:\n",
      "count    510454.000000\n",
      "mean       1010.093909\n",
      "std          13.479656\n",
      "min         988.090000\n",
      "25%         999.820000\n",
      "50%        1009.250000\n",
      "75%        1021.860000\n",
      "max        1035.550000\n",
      "Name: pressure, dtype: float64\n",
      "\n",
      "== WINDBEARING ==\n",
      "Skewness value of windBearing: -0.6263130912596196\n",
      "Number of outliers in windBearing: 0\n",
      "Percentage of outliers: 0.00000%\n",
      "Before Winsorizing windBearing:\n",
      "count    510454.000000\n",
      "mean        220.085283\n",
      "std          99.094617\n",
      "min           2.000000\n",
      "25%         124.000000\n",
      "50%         258.000000\n",
      "75%         303.000000\n",
      "max         356.000000\n",
      "Name: windBearing, dtype: float64\n",
      "\n",
      "After Winsorizing windBearing:\n",
      "count    510454.000000\n",
      "mean        220.085283\n",
      "std          99.094617\n",
      "min           2.000000\n",
      "25%         124.000000\n",
      "50%         258.000000\n",
      "75%         303.000000\n",
      "max         356.000000\n",
      "Name: windBearing, dtype: float64\n",
      "\n",
      "== CLOUDCOVER ==\n",
      "Skewness value of cloudCover: -0.7326021296409884\n",
      "Number of outliers in cloudCover: 0\n",
      "Percentage of outliers: 0.00000%\n",
      "Before Winsorizing cloudCover:\n",
      "count    510454.000000\n",
      "mean          0.686311\n",
      "std           0.358593\n",
      "min           0.000000\n",
      "25%           0.370000\n",
      "50%           0.820000\n",
      "75%           1.000000\n",
      "max           1.000000\n",
      "Name: cloudCover, dtype: float64\n",
      "\n",
      "After Winsorizing cloudCover:\n",
      "count    510454.000000\n",
      "mean          0.686311\n",
      "std           0.358593\n",
      "min           0.000000\n",
      "25%           0.370000\n",
      "50%           0.820000\n",
      "75%           1.000000\n",
      "max           1.000000\n",
      "Name: cloudCover, dtype: float64\n",
      "\n",
      "== UVINDEX ==\n",
      "Skewness value of uvIndex: 1.6810058594369723\n",
      "Number of outliers in uvIndex: 117413\n",
      "Percentage of outliers: 23.00168%\n",
      "count    510454.000000\n",
      "mean          0.248965\n",
      "std           0.474212\n",
      "min           0.000000\n",
      "25%           0.000000\n",
      "50%           0.000000\n",
      "75%           0.000000\n",
      "max           2.000000\n",
      "Name: uvIndex, dtype: float64\n",
      "\n",
      "== VISIBILITY.1 ==\n",
      "Skewness value of visibility.1: -1.509745500786328\n",
      "Number of outliers in visibility.1: 61282\n",
      "Percentage of outliers: 12.00539%\n",
      "count    510454.000000\n",
      "mean          8.470222\n",
      "std           2.600585\n",
      "min           0.717000\n",
      "25%           8.432000\n",
      "50%           9.880000\n",
      "75%           9.996000\n",
      "max          10.000000\n",
      "Name: visibility.1, dtype: float64\n",
      "\n",
      "== OZONE ==\n",
      "Skewness value of ozone: 0.41445289839521576\n",
      "Number of outliers in ozone: 0\n",
      "Percentage of outliers: 0.00000%\n",
      "Before Winsorizing ozone:\n",
      "count    510454.000000\n",
      "mean        313.533439\n",
      "std          27.955928\n",
      "min         269.400000\n",
      "25%         290.900000\n",
      "50%         307.400000\n",
      "75%         332.200000\n",
      "max         378.900000\n",
      "Name: ozone, dtype: float64\n",
      "\n",
      "After Winsorizing ozone:\n",
      "count    510454.000000\n",
      "mean        313.533439\n",
      "std          27.955928\n",
      "min         269.400000\n",
      "25%         290.900000\n",
      "50%         307.400000\n",
      "75%         332.200000\n",
      "max         378.900000\n",
      "Name: ozone, dtype: float64\n",
      "\n",
      "== SUNRISETIME ==\n",
      "Skewness value of sunriseTime: 0.43209612369097883\n",
      "Number of outliers in sunriseTime: 0\n",
      "Percentage of outliers: 0.00000%\n",
      "Before Winsorizing sunriseTime:\n",
      "count    5.104540e+05\n",
      "mean     1.544028e+09\n",
      "std      6.916344e+05\n",
      "min      1.543147e+09\n",
      "25%      1.543406e+09\n",
      "50%      1.543752e+09\n",
      "75%      1.544789e+09\n",
      "max      1.545135e+09\n",
      "Name: sunriseTime, dtype: float64\n",
      "\n",
      "After Winsorizing sunriseTime:\n",
      "count    5.104540e+05\n",
      "mean     1.544028e+09\n",
      "std      6.916344e+05\n",
      "min      1.543147e+09\n",
      "25%      1.543406e+09\n",
      "50%      1.543752e+09\n",
      "75%      1.544789e+09\n",
      "max      1.545135e+09\n",
      "Name: sunriseTime, dtype: float64\n",
      "\n",
      "== SUNSETTIME ==\n",
      "Skewness value of sunsetTime: 0.4322273070178513\n",
      "Number of outliers in sunsetTime: 0\n",
      "Percentage of outliers: 0.00000%\n",
      "Before Winsorizing sunsetTime:\n",
      "count    5.104540e+05\n",
      "mean     1.544061e+09\n",
      "std      6.911583e+05\n",
      "min      1.543181e+09\n",
      "25%      1.543440e+09\n",
      "50%      1.543785e+09\n",
      "75%      1.544822e+09\n",
      "max      1.545168e+09\n",
      "Name: sunsetTime, dtype: float64\n",
      "\n",
      "After Winsorizing sunsetTime:\n",
      "count    5.104540e+05\n",
      "mean     1.544061e+09\n",
      "std      6.911583e+05\n",
      "min      1.543181e+09\n",
      "25%      1.543440e+09\n",
      "50%      1.543785e+09\n",
      "75%      1.544822e+09\n",
      "max      1.545168e+09\n",
      "Name: sunsetTime, dtype: float64\n",
      "\n",
      "== MOONPHASE ==\n",
      "Skewness value of moonPhase: -0.3771211211276391\n",
      "Number of outliers in moonPhase: 0\n",
      "Percentage of outliers: 0.00000%\n",
      "Before Winsorizing moonPhase:\n",
      "count    510454.000000\n",
      "mean          0.578757\n",
      "std           0.244635\n",
      "min           0.090000\n",
      "25%           0.300000\n",
      "50%           0.680000\n",
      "75%           0.790000\n",
      "max           0.930000\n",
      "Name: moonPhase, dtype: float64\n",
      "\n",
      "After Winsorizing moonPhase:\n",
      "count    510454.000000\n",
      "mean          0.578757\n",
      "std           0.244635\n",
      "min           0.090000\n",
      "25%           0.300000\n",
      "50%           0.680000\n",
      "75%           0.790000\n",
      "max           0.930000\n",
      "Name: moonPhase, dtype: float64\n",
      "\n",
      "== PRECIPINTENSITYMAX ==\n",
      "Skewness value of precipIntensityMax: 0.9917584965561068\n",
      "Number of outliers in precipIntensityMax: 0\n",
      "Percentage of outliers: 0.00000%\n",
      "Before Winsorizing precipIntensityMax:\n",
      "count    510454.000000\n",
      "mean          0.037405\n",
      "std           0.055242\n",
      "min           0.000000\n",
      "25%           0.000000\n",
      "50%           0.000400\n",
      "75%           0.091600\n",
      "max           0.145900\n",
      "Name: precipIntensityMax, dtype: float64\n",
      "\n",
      "After Winsorizing precipIntensityMax:\n",
      "count    510454.000000\n",
      "mean          0.037405\n",
      "std           0.055242\n",
      "min           0.000000\n",
      "25%           0.000000\n",
      "50%           0.000400\n",
      "75%           0.091600\n",
      "max           0.145900\n",
      "Name: precipIntensityMax, dtype: float64\n",
      "\n",
      "== UVINDEXTIME ==\n",
      "Skewness value of uvIndexTime: 0.4332259445207834\n",
      "Number of outliers in uvIndexTime: 0\n",
      "Percentage of outliers: 0.00000%\n",
      "Before Winsorizing uvIndexTime:\n",
      "count    5.104540e+05\n",
      "mean     1.544045e+09\n",
      "std      6.916973e+05\n",
      "min      1.543162e+09\n",
      "25%      1.543421e+09\n",
      "50%      1.543770e+09\n",
      "75%      1.544807e+09\n",
      "max      1.545152e+09\n",
      "Name: uvIndexTime, dtype: float64\n",
      "\n",
      "After Winsorizing uvIndexTime:\n",
      "count    5.104540e+05\n",
      "mean     1.544045e+09\n",
      "std      6.916973e+05\n",
      "min      1.543162e+09\n",
      "25%      1.543421e+09\n",
      "50%      1.543770e+09\n",
      "75%      1.544807e+09\n",
      "max      1.545152e+09\n",
      "Name: uvIndexTime, dtype: float64\n",
      "\n",
      "== TEMPERATUREMIN ==\n",
      "Skewness value of temperatureMin: -0.8687506946592903\n",
      "Number of outliers in temperatureMin: 3201\n",
      "Percentage of outliers: 0.62709%\n",
      "Before Winsorizing temperatureMin:\n",
      "count    510454.000000\n",
      "mean         33.452892\n",
      "std           6.465200\n",
      "min          15.630000\n",
      "25%          30.170000\n",
      "50%          34.240000\n",
      "75%          38.880000\n",
      "max          43.100000\n",
      "Name: temperatureMin, dtype: float64\n",
      "\n",
      "After Winsorizing temperatureMin:\n",
      "count    510454.000000\n",
      "mean         33.460343\n",
      "std           6.445637\n",
      "min          17.105000\n",
      "25%          30.170000\n",
      "50%          34.240000\n",
      "75%          38.880000\n",
      "max          43.100000\n",
      "Name: temperatureMin, dtype: float64\n",
      "\n",
      "== TEMPERATUREMINTIME ==\n",
      "Skewness value of temperatureMinTime: 0.440450178777708\n",
      "Number of outliers in temperatureMinTime: 0\n",
      "Percentage of outliers: 0.00000%\n",
      "Before Winsorizing temperatureMinTime:\n",
      "count    5.104540e+05\n",
      "mean     1.544042e+09\n",
      "std      6.906833e+05\n",
      "min      1.543122e+09\n",
      "25%      1.543399e+09\n",
      "50%      1.543727e+09\n",
      "75%      1.544789e+09\n",
      "max      1.545192e+09\n",
      "Name: temperatureMinTime, dtype: float64\n",
      "\n",
      "After Winsorizing temperatureMinTime:\n",
      "count    5.104540e+05\n",
      "mean     1.544042e+09\n",
      "std      6.906833e+05\n",
      "min      1.543122e+09\n",
      "25%      1.543399e+09\n",
      "50%      1.543727e+09\n",
      "75%      1.544789e+09\n",
      "max      1.545192e+09\n",
      "Name: temperatureMinTime, dtype: float64\n",
      "\n",
      "== TEMPERATUREMAX ==\n",
      "Skewness value of temperatureMax: 0.29975356433997463\n",
      "Number of outliers in temperatureMax: 0\n",
      "Percentage of outliers: 0.00000%\n",
      "Before Winsorizing temperatureMax:\n",
      "count    510454.000000\n",
      "mean         45.255012\n",
      "std           5.641869\n",
      "min          33.510000\n",
      "25%          42.570000\n",
      "50%          44.660000\n",
      "75%          46.910000\n",
      "max          57.870000\n",
      "Name: temperatureMax, dtype: float64\n",
      "\n",
      "After Winsorizing temperatureMax:\n",
      "count    510454.000000\n",
      "mean         45.255012\n",
      "std           5.641869\n",
      "min          33.510000\n",
      "25%          42.570000\n",
      "50%          44.660000\n",
      "75%          46.910000\n",
      "max          57.870000\n",
      "Name: temperatureMax, dtype: float64\n",
      "\n",
      "== TEMPERATUREMAXTIME ==\n",
      "Skewness value of temperatureMaxTime: 0.42075315534421814\n",
      "Number of outliers in temperatureMaxTime: 0\n",
      "Percentage of outliers: 0.00000%\n",
      "Before Winsorizing temperatureMaxTime:\n",
      "count    5.104540e+05\n",
      "mean     1.544048e+09\n",
      "std      6.906194e+05\n",
      "min      1.543154e+09\n",
      "25%      1.543439e+09\n",
      "50%      1.543788e+09\n",
      "75%      1.544814e+09\n",
      "max      1.545109e+09\n",
      "Name: temperatureMaxTime, dtype: float64\n",
      "\n",
      "After Winsorizing temperatureMaxTime:\n",
      "count    5.104540e+05\n",
      "mean     1.544048e+09\n",
      "std      6.906194e+05\n",
      "min      1.543154e+09\n",
      "25%      1.543439e+09\n",
      "50%      1.543788e+09\n",
      "75%      1.544814e+09\n",
      "max      1.545109e+09\n",
      "Name: temperatureMaxTime, dtype: float64\n",
      "\n",
      "== APPARENTTEMPERATUREMIN ==\n",
      "Skewness value of apparentTemperatureMin: -1.1084812800556048\n",
      "Number of outliers in apparentTemperatureMin: 0\n",
      "Percentage of outliers: 0.00000%\n",
      "Before Winsorizing apparentTemperatureMin:\n",
      "count    510454.000000\n",
      "mean         29.722639\n",
      "std           7.112715\n",
      "min          11.810000\n",
      "25%          27.760000\n",
      "50%          30.130000\n",
      "75%          35.330000\n",
      "max          40.050000\n",
      "Name: apparentTemperatureMin, dtype: float64\n",
      "\n",
      "After Winsorizing apparentTemperatureMin:\n",
      "count    510454.000000\n",
      "mean         30.088770\n",
      "std           6.277169\n",
      "min          16.405000\n",
      "25%          27.760000\n",
      "50%          30.130000\n",
      "75%          35.330000\n",
      "max          40.050000\n",
      "Name: apparentTemperatureMin, dtype: float64\n",
      "\n",
      "== APPARENTTEMPERATUREMINTIME ==\n",
      "Skewness value of apparentTemperatureMinTime: 0.4462181062758825\n",
      "Number of outliers in apparentTemperatureMinTime: 0\n",
      "Percentage of outliers: 0.00000%\n",
      "Before Winsorizing apparentTemperatureMinTime:\n",
      "count    5.104540e+05\n",
      "mean     1.544049e+09\n",
      "std      6.876633e+05\n",
      "min      1.543136e+09\n",
      "25%      1.543399e+09\n",
      "50%      1.543745e+09\n",
      "75%      1.544789e+09\n",
      "max      1.545134e+09\n",
      "Name: apparentTemperatureMinTime, dtype: float64\n",
      "\n",
      "After Winsorizing apparentTemperatureMinTime:\n",
      "count    5.104540e+05\n",
      "mean     1.544049e+09\n",
      "std      6.876633e+05\n",
      "min      1.543136e+09\n",
      "25%      1.543399e+09\n",
      "50%      1.543745e+09\n",
      "75%      1.544789e+09\n",
      "max      1.545134e+09\n",
      "Name: apparentTemperatureMinTime, dtype: float64\n",
      "\n",
      "== APPARENTTEMPERATUREMAX ==\n",
      "Skewness value of apparentTemperatureMax: 0.6113919294537526\n",
      "Number of outliers in apparentTemperatureMax: 32843\n",
      "Percentage of outliers: 6.43408%\n",
      "count    510454.000000\n",
      "mean         41.989288\n",
      "std           6.932622\n",
      "min          28.950000\n",
      "25%          36.570000\n",
      "50%          40.950000\n",
      "75%          44.090000\n",
      "max          57.200000\n",
      "Name: apparentTemperatureMax, dtype: float64\n",
      "\n",
      "== APPARENTTEMPERATUREMAXTIME ==\n",
      "Skewness value of apparentTemperatureMaxTime: 0.41861672580636\n",
      "Number of outliers in apparentTemperatureMaxTime: 0\n",
      "Percentage of outliers: 0.00000%\n",
      "Before Winsorizing apparentTemperatureMaxTime:\n",
      "count    5.104540e+05\n",
      "mean     1.544049e+09\n",
      "std      6.915603e+05\n",
      "min      1.543187e+09\n",
      "25%      1.543439e+09\n",
      "50%      1.543788e+09\n",
      "75%      1.544818e+09\n",
      "max      1.545109e+09\n",
      "Name: apparentTemperatureMaxTime, dtype: float64\n",
      "\n",
      "After Winsorizing apparentTemperatureMaxTime:\n",
      "count    5.104540e+05\n",
      "mean     1.544049e+09\n",
      "std      6.915603e+05\n",
      "min      1.543187e+09\n",
      "25%      1.543439e+09\n",
      "50%      1.543788e+09\n",
      "75%      1.544818e+09\n",
      "max      1.545109e+09\n",
      "Name: apparentTemperatureMaxTime, dtype: float64\n",
      "\n"
     ]
    }
   ],
   "source": [
    "for column in X_train.select_dtypes(include=np.number).columns.tolist():\n",
    "    skewness = X_train[column].skew()\n",
    "    print(f'== {column.upper()} ==')\n",
    "    print(f'Skewness value of {column}: {skewness}')\n",
    "    \n",
    "    if skewness > 1 or skewness < -1:\n",
    "        q3 = X_train[column].quantile(0.75)\n",
    "        q1 = X_train[column].quantile(0.25)\n",
    "        iqr = q3 - q1 \n",
    "        lower_bound = q1 - 3*iqr\n",
    "        upper_bound = q3 + 3*iqr\n",
    "    elif -0.5 <= skewness <= 0.5:\n",
    "        lower_bound = X_train[column].mean() - 3 * X_train[column].std()\n",
    "        upper_bound = X_train[column].mean() + 3 * X_train[column].std()\n",
    "    else:\n",
    "        q1 = X_train[column].quantile(0.25)\n",
    "        q3 = X_train[column].quantile(0.75)\n",
    "        iqr = q3 - q1\n",
    "        lower_bound = q1 - 1.5 * iqr\n",
    "        upper_bound = q3 + 1.5 * iqr\n",
    "        \n",
    "    outliers = X_train[column].loc[(X_train[column] < lower_bound) | (X_train[column] > upper_bound)]\n",
    "    outliers_percentage = len(outliers) / len(X_train) * 100\n",
    "    \n",
    "    print(f'Number of outliers in {column}: {len(outliers)}')\n",
    "    print(f'Percentage of outliers: {outliers_percentage:.5f}%')\n",
    "    \n",
    "    if outliers_percentage <= 5 and column != 'surge_multiplier':\n",
    "        if skewness > 1 or skewness < -1:\n",
    "            winsorizered = Winsorizer(capping_method='iqr', tail='both', fold='auto', variables=[column])\n",
    "        elif -0.5 <= skewness <= 0.5:\n",
    "            winsorizered = Winsorizer(capping_method='gaussian', tail='both', fold='auto', variables=[column])\n",
    "        else:\n",
    "            winsorizered = Winsorizer(capping_method='iqr', tail='both', fold='auto', variables=[column])\n",
    "            \n",
    "        print(f'Before Winsorizing {column}:')\n",
    "        print(f'{X_train[column].describe()}\\n')\n",
    "        \n",
    "        X_train[column] = winsorizered.fit_transform(X_train[[column]])[column]\n",
    "        \n",
    "        print(f'After Winsorizing {column}:')\n",
    "        print(f'{X_train[column].describe()}\\n')\n",
    "        \n",
    "    else:\n",
    "        print(f'{X_train[column].describe()}\\n')\n",
    "\n",
    "        "
   ]
  },
  {
   "cell_type": "code",
   "execution_count": 43,
   "metadata": {},
   "outputs": [
    {
     "name": "stdout",
     "output_type": "stream",
     "text": [
      "Distance - After Capping\n"
     ]
    },
    {
     "data": {
      "image/png": "[encoded data removed]",
      "text/plain": [
       "<Figure size 1600x400 with 2 Axes>"
      ]
     },
     "metadata": {},
     "output_type": "display_data"
    }
   ],
   "source": [
    "print('Distance - After Capping')\n",
    "diagnostic_plots(X_train, 'distance')\n"
   ]
  },
  {
   "cell_type": "markdown",
   "metadata": {},
   "source": [
    "- splitting dataset for inference purporses"
   ]
  },
  {
   "cell_type": "code",
   "execution_count": 44,
   "metadata": {},
   "outputs": [
    {
     "name": "stdout",
     "output_type": "stream",
     "text": [
      "inf size :  (638, 56)\n",
      "inf size :  (638, 1)\n"
     ]
    }
   ],
   "source": [
    "X_sample, X_inference, y_sample, y_inference = train_test_split(X_test, y_test, test_size=0.005, random_state=2)\n",
    "\n",
    "print('inf size : ', X_inference.shape)\n",
    "print('inf size : ', y_inference.shape)"
   ]
  },
  {
   "cell_type": "markdown",
   "metadata": {},
   "source": [
    "## Feature Selection"
   ]
  },
  {
   "cell_type": "markdown",
   "metadata": {},
   "source": [
    "#### To predict the price, removing the following features which are having no correlation on the trip's cost"
   ]
  },
  {
   "cell_type": "markdown",
   "metadata": {},
   "source": [
    "- Checking features (columns) of dataset"
   ]
  },
  {
   "cell_type": "code",
   "execution_count": 45,
   "metadata": {},
   "outputs": [
    {
     "data": {
      "text/plain": [
       "Index(['id', 'timestamp', 'hour', 'day', 'month', 'datetime', 'timezone',\n",
       "       'source', 'destination', 'cab_type', 'product_id', 'name', 'distance',\n",
       "       'surge_multiplier', 'latitude', 'longitude', 'temperature',\n",
       "       'apparentTemperature', 'short_summary', 'long_summary',\n",
       "       'precipIntensity', 'precipProbability', 'humidity', 'windSpeed',\n",
       "       'windGust', 'windGustTime', 'visibility', 'temperatureHigh',\n",
       "       'temperatureHighTime', 'temperatureLow', 'temperatureLowTime',\n",
       "       'apparentTemperatureHigh', 'apparentTemperatureHighTime',\n",
       "       'apparentTemperatureLow', 'apparentTemperatureLowTime', 'icon',\n",
       "       'dewPoint', 'pressure', 'windBearing', 'cloudCover', 'uvIndex',\n",
       "       'visibility.1', 'ozone', 'sunriseTime', 'sunsetTime', 'moonPhase',\n",
       "       'precipIntensityMax', 'uvIndexTime', 'temperatureMin',\n",
       "       'temperatureMinTime', 'temperatureMax', 'temperatureMaxTime',\n",
       "       'apparentTemperatureMin', 'apparentTemperatureMinTime',\n",
       "       'apparentTemperatureMax', 'apparentTemperatureMaxTime'],\n",
       "      dtype='object')"
      ]
     },
     "execution_count": 45,
     "metadata": {},
     "output_type": "execute_result"
    }
   ],
   "source": [
    "X_train.columns"
   ]
  },
  {
   "cell_type": "markdown",
   "metadata": {},
   "source": [
    "- __id column has no correlation with calculation of price__"
   ]
  },
  {
   "cell_type": "code",
   "execution_count": 46,
   "metadata": {},
   "outputs": [
    {
     "data": {
      "text/plain": [
       "Index(['timestamp', 'hour', 'day', 'month', 'datetime', 'timezone', 'source',\n",
       "       'destination', 'cab_type', 'product_id', 'name', 'distance',\n",
       "       'surge_multiplier', 'latitude', 'longitude', 'temperature',\n",
       "       'apparentTemperature', 'short_summary', 'long_summary',\n",
       "       'precipIntensity', 'precipProbability', 'humidity', 'windSpeed',\n",
       "       'windGust', 'windGustTime', 'visibility', 'temperatureHigh',\n",
       "       'temperatureHighTime', 'temperatureLow', 'temperatureLowTime',\n",
       "       'apparentTemperatureHigh', 'apparentTemperatureHighTime',\n",
       "       'apparentTemperatureLow', 'apparentTemperatureLowTime', 'icon',\n",
       "       'dewPoint', 'pressure', 'windBearing', 'cloudCover', 'uvIndex',\n",
       "       'visibility.1', 'ozone', 'sunriseTime', 'sunsetTime', 'moonPhase',\n",
       "       'precipIntensityMax', 'uvIndexTime', 'temperatureMin',\n",
       "       'temperatureMinTime', 'temperatureMax', 'temperatureMaxTime',\n",
       "       'apparentTemperatureMin', 'apparentTemperatureMinTime',\n",
       "       'apparentTemperatureMax', 'apparentTemperatureMaxTime'],\n",
       "      dtype='object')"
      ]
     },
     "execution_count": 46,
     "metadata": {},
     "output_type": "execute_result"
    }
   ],
   "source": [
    "X_train = X_train.drop(['id'],axis=1)\n",
    "X_train.columns"
   ]
  },
  {
   "cell_type": "markdown",
   "metadata": {},
   "source": [
    "- __Due the timezone feature only has one value, we can drop the column and assume that the dataset was located in New York__"
   ]
  },
  {
   "cell_type": "code",
   "execution_count": 47,
   "metadata": {},
   "outputs": [
    {
     "data": {
      "text/plain": [
       "array(['America/New_York'], dtype=object)"
      ]
     },
     "execution_count": 47,
     "metadata": {},
     "output_type": "execute_result"
    }
   ],
   "source": [
    "X_train['timezone'].unique()\n"
   ]
  },
  {
   "cell_type": "code",
   "execution_count": 48,
   "metadata": {},
   "outputs": [
    {
     "data": {
      "text/plain": [
       "Index(['timestamp', 'hour', 'day', 'month', 'datetime', 'source',\n",
       "       'destination', 'cab_type', 'product_id', 'name', 'distance',\n",
       "       'surge_multiplier', 'latitude', 'longitude', 'temperature',\n",
       "       'apparentTemperature', 'short_summary', 'long_summary',\n",
       "       'precipIntensity', 'precipProbability', 'humidity', 'windSpeed',\n",
       "       'windGust', 'windGustTime', 'visibility', 'temperatureHigh',\n",
       "       'temperatureHighTime', 'temperatureLow', 'temperatureLowTime',\n",
       "       'apparentTemperatureHigh', 'apparentTemperatureHighTime',\n",
       "       'apparentTemperatureLow', 'apparentTemperatureLowTime', 'icon',\n",
       "       'dewPoint', 'pressure', 'windBearing', 'cloudCover', 'uvIndex',\n",
       "       'visibility.1', 'ozone', 'sunriseTime', 'sunsetTime', 'moonPhase',\n",
       "       'precipIntensityMax', 'uvIndexTime', 'temperatureMin',\n",
       "       'temperatureMinTime', 'temperatureMax', 'temperatureMaxTime',\n",
       "       'apparentTemperatureMin', 'apparentTemperatureMinTime',\n",
       "       'apparentTemperatureMax', 'apparentTemperatureMaxTime'],\n",
       "      dtype='object')"
      ]
     },
     "execution_count": 48,
     "metadata": {},
     "output_type": "execute_result"
    }
   ],
   "source": [
    "X_train = X_train.drop(['timezone'], axis=1)\n",
    "X_train.columns"
   ]
  },
  {
   "cell_type": "markdown",
   "metadata": {},
   "source": [
    "- __Checking redundancy value of the feature related to datetime__"
   ]
  },
  {
   "cell_type": "markdown",
   "metadata": {},
   "source": [
    "Extracting year value from datetime"
   ]
  },
  {
   "cell_type": "code",
   "execution_count": 49,
   "metadata": {},
   "outputs": [
    {
     "data": {
      "text/plain": [
       "array(['2018'], dtype=object)"
      ]
     },
     "execution_count": 49,
     "metadata": {},
     "output_type": "execute_result"
    }
   ],
   "source": [
    "X_train['year'] = X_train['datetime'].apply(lambda x: x.split('-')[0])\n",
    "X_train['year'].unique()"
   ]
  },
  {
   "cell_type": "markdown",
   "metadata": {},
   "source": [
    "Since the year column is only has one value of year, we be able to assume that the dataset was in 2018"
   ]
  },
  {
   "cell_type": "code",
   "execution_count": 50,
   "metadata": {},
   "outputs": [
    {
     "data": {
      "text/plain": [
       "Index(['timestamp', 'hour', 'day', 'month', 'source', 'destination',\n",
       "       'cab_type', 'product_id', 'name', 'distance', 'surge_multiplier',\n",
       "       'latitude', 'longitude', 'temperature', 'apparentTemperature',\n",
       "       'short_summary', 'long_summary', 'precipIntensity', 'precipProbability',\n",
       "       'humidity', 'windSpeed', 'windGust', 'windGustTime', 'visibility',\n",
       "       'temperatureHigh', 'temperatureHighTime', 'temperatureLow',\n",
       "       'temperatureLowTime', 'apparentTemperatureHigh',\n",
       "       'apparentTemperatureHighTime', 'apparentTemperatureLow',\n",
       "       'apparentTemperatureLowTime', 'icon', 'dewPoint', 'pressure',\n",
       "       'windBearing', 'cloudCover', 'uvIndex', 'visibility.1', 'ozone',\n",
       "       'sunriseTime', 'sunsetTime', 'moonPhase', 'precipIntensityMax',\n",
       "       'uvIndexTime', 'temperatureMin', 'temperatureMinTime', 'temperatureMax',\n",
       "       'temperatureMaxTime', 'apparentTemperatureMin',\n",
       "       'apparentTemperatureMinTime', 'apparentTemperatureMax',\n",
       "       'apparentTemperatureMaxTime'],\n",
       "      dtype='object')"
      ]
     },
     "execution_count": 50,
     "metadata": {},
     "output_type": "execute_result"
    }
   ],
   "source": [
    "X_train = X_train.drop(['year','datetime'],axis = 1)\n",
    "X_train.columns"
   ]
  },
  {
   "cell_type": "markdown",
   "metadata": {},
   "source": [
    "- adjusting X_test features"
   ]
  },
  {
   "cell_type": "code",
   "execution_count": 51,
   "metadata": {},
   "outputs": [
    {
     "data": {
      "text/plain": [
       "(127522, 53)"
      ]
     },
     "execution_count": 51,
     "metadata": {},
     "output_type": "execute_result"
    }
   ],
   "source": [
    "X_test = X_test[X_train.columns]\n",
    "X_test.shape"
   ]
  },
  {
   "cell_type": "markdown",
   "metadata": {},
   "source": [
    "- Checking temperature features which have strong correlation with price"
   ]
  },
  {
   "cell_type": "code",
   "execution_count": 52,
   "metadata": {},
   "outputs": [
    {
     "data": {
      "text/html": [
       "<div>\n",
       "<style scoped>\n",
       "    .dataframe tbody tr th:only-of-type {\n",
       "        vertical-align: middle;\n",
       "    }\n",
       "\n",
       "    .dataframe tbody tr th {\n",
       "        vertical-align: top;\n",
       "    }\n",
       "\n",
       "    .dataframe thead th {\n",
       "        text-align: right;\n",
       "    }\n",
       "</style>\n",
       "<table border=\"1\" class=\"dataframe\">\n",
       "  <thead>\n",
       "    <tr style=\"text-align: right;\">\n",
       "      <th></th>\n",
       "      <th>price</th>\n",
       "      <th>temperature</th>\n",
       "      <th>apparentTemperature</th>\n",
       "      <th>temperatureHigh</th>\n",
       "      <th>temperatureLow</th>\n",
       "      <th>apparentTemperatureHigh</th>\n",
       "      <th>apparentTemperatureLow</th>\n",
       "      <th>temperatureMin</th>\n",
       "      <th>temperatureHighTime</th>\n",
       "      <th>temperatureMax</th>\n",
       "      <th>apparentTemperatureMin</th>\n",
       "      <th>apparentTemperatureMax</th>\n",
       "    </tr>\n",
       "  </thead>\n",
       "  <tbody>\n",
       "    <tr>\n",
       "      <th>128880</th>\n",
       "      <td>38.5</td>\n",
       "      <td>32.31</td>\n",
       "      <td>28.18</td>\n",
       "      <td>44.66</td>\n",
       "      <td>35.04</td>\n",
       "      <td>43.99</td>\n",
       "      <td>35.69</td>\n",
       "      <td>31.71</td>\n",
       "      <td>1543690800</td>\n",
       "      <td>44.66</td>\n",
       "      <td>28.060</td>\n",
       "      <td>43.99</td>\n",
       "    </tr>\n",
       "    <tr>\n",
       "      <th>362718</th>\n",
       "      <td>12.5</td>\n",
       "      <td>36.99</td>\n",
       "      <td>32.27</td>\n",
       "      <td>44.66</td>\n",
       "      <td>35.04</td>\n",
       "      <td>43.99</td>\n",
       "      <td>35.69</td>\n",
       "      <td>31.71</td>\n",
       "      <td>1543690800</td>\n",
       "      <td>44.66</td>\n",
       "      <td>28.060</td>\n",
       "      <td>43.99</td>\n",
       "    </tr>\n",
       "    <tr>\n",
       "      <th>524601</th>\n",
       "      <td>18.5</td>\n",
       "      <td>35.98</td>\n",
       "      <td>31.03</td>\n",
       "      <td>42.18</td>\n",
       "      <td>36.71</td>\n",
       "      <td>35.75</td>\n",
       "      <td>30.29</td>\n",
       "      <td>33.10</td>\n",
       "      <td>1543420800</td>\n",
       "      <td>42.18</td>\n",
       "      <td>29.110</td>\n",
       "      <td>35.75</td>\n",
       "    </tr>\n",
       "    <tr>\n",
       "      <th>420464</th>\n",
       "      <td>9.0</td>\n",
       "      <td>19.28</td>\n",
       "      <td>13.96</td>\n",
       "      <td>33.92</td>\n",
       "      <td>27.05</td>\n",
       "      <td>32.95</td>\n",
       "      <td>24.47</td>\n",
       "      <td>18.05</td>\n",
       "      <td>1544731200</td>\n",
       "      <td>33.92</td>\n",
       "      <td>16.405</td>\n",
       "      <td>32.95</td>\n",
       "    </tr>\n",
       "    <tr>\n",
       "      <th>208847</th>\n",
       "      <td>15.0</td>\n",
       "      <td>40.87</td>\n",
       "      <td>37.73</td>\n",
       "      <td>54.29</td>\n",
       "      <td>38.48</td>\n",
       "      <td>53.62</td>\n",
       "      <td>34.85</td>\n",
       "      <td>39.74</td>\n",
       "      <td>1544896800</td>\n",
       "      <td>54.29</td>\n",
       "      <td>37.040</td>\n",
       "      <td>53.62</td>\n",
       "    </tr>\n",
       "  </tbody>\n",
       "</table>\n",
       "</div>"
      ],
      "text/plain": [
       "        price  temperature  apparentTemperature  temperatureHigh  \\\n",
       "128880   38.5        32.31                28.18            44.66   \n",
       "362718   12.5        36.99                32.27            44.66   \n",
       "524601   18.5        35.98                31.03            42.18   \n",
       "420464    9.0        19.28                13.96            33.92   \n",
       "208847   15.0        40.87                37.73            54.29   \n",
       "\n",
       "        temperatureLow  apparentTemperatureHigh  apparentTemperatureLow  \\\n",
       "128880           35.04                    43.99                   35.69   \n",
       "362718           35.04                    43.99                   35.69   \n",
       "524601           36.71                    35.75                   30.29   \n",
       "420464           27.05                    32.95                   24.47   \n",
       "208847           38.48                    53.62                   34.85   \n",
       "\n",
       "        temperatureMin  temperatureHighTime  temperatureMax  \\\n",
       "128880           31.71           1543690800           44.66   \n",
       "362718           31.71           1543690800           44.66   \n",
       "524601           33.10           1543420800           42.18   \n",
       "420464           18.05           1544731200           33.92   \n",
       "208847           39.74           1544896800           54.29   \n",
       "\n",
       "        apparentTemperatureMin  apparentTemperatureMax  \n",
       "128880                  28.060                   43.99  \n",
       "362718                  28.060                   43.99  \n",
       "524601                  29.110                   35.75  \n",
       "420464                  16.405                   32.95  \n",
       "208847                  37.040                   53.62  "
      ]
     },
     "execution_count": 52,
     "metadata": {},
     "output_type": "execute_result"
    }
   ],
   "source": [
    "df_temperature = pd.concat([X_train, y_train], axis=1)\n",
    "\n",
    "df_temperature = df_temperature[['price','temperature','apparentTemperature','temperatureHigh','temperatureLow','apparentTemperatureHigh',\n",
    "                                 'apparentTemperatureLow','temperatureMin','temperatureHighTime','temperatureMax','apparentTemperatureMin','apparentTemperatureMax']]\n",
    "\n",
    "df_temperature.head()"
   ]
  },
  {
   "cell_type": "code",
   "execution_count": 53,
   "metadata": {},
   "outputs": [
    {
     "data": {
      "text/html": [
       "<div>\n",
       "<style scoped>\n",
       "    .dataframe tbody tr th:only-of-type {\n",
       "        vertical-align: middle;\n",
       "    }\n",
       "\n",
       "    .dataframe tbody tr th {\n",
       "        vertical-align: top;\n",
       "    }\n",
       "\n",
       "    .dataframe thead th {\n",
       "        text-align: right;\n",
       "    }\n",
       "</style>\n",
       "<table border=\"1\" class=\"dataframe\">\n",
       "  <thead>\n",
       "    <tr style=\"text-align: right;\">\n",
       "      <th></th>\n",
       "      <th>price</th>\n",
       "      <th>temperature</th>\n",
       "      <th>apparentTemperature</th>\n",
       "      <th>temperatureHigh</th>\n",
       "      <th>temperatureLow</th>\n",
       "      <th>apparentTemperatureHigh</th>\n",
       "      <th>apparentTemperatureLow</th>\n",
       "      <th>temperatureMin</th>\n",
       "      <th>temperatureHighTime</th>\n",
       "      <th>temperatureMax</th>\n",
       "      <th>apparentTemperatureMin</th>\n",
       "      <th>apparentTemperatureMax</th>\n",
       "    </tr>\n",
       "  </thead>\n",
       "  <tbody>\n",
       "    <tr>\n",
       "      <th>price</th>\n",
       "      <td>1.000000</td>\n",
       "      <td>0.000121</td>\n",
       "      <td>0.000250</td>\n",
       "      <td>-0.000034</td>\n",
       "      <td>0.000271</td>\n",
       "      <td>0.000284</td>\n",
       "      <td>0.000825</td>\n",
       "      <td>0.000002</td>\n",
       "      <td>0.001176</td>\n",
       "      <td>-0.000180</td>\n",
       "      <td>-0.000046</td>\n",
       "      <td>0.000110</td>\n",
       "    </tr>\n",
       "    <tr>\n",
       "      <th>temperature</th>\n",
       "      <td>0.000121</td>\n",
       "      <td>1.000000</td>\n",
       "      <td>0.946113</td>\n",
       "      <td>0.788558</td>\n",
       "      <td>0.502803</td>\n",
       "      <td>0.710394</td>\n",
       "      <td>0.383362</td>\n",
       "      <td>0.789784</td>\n",
       "      <td>-0.257464</td>\n",
       "      <td>0.780366</td>\n",
       "      <td>0.825440</td>\n",
       "      <td>0.703036</td>\n",
       "    </tr>\n",
       "    <tr>\n",
       "      <th>apparentTemperature</th>\n",
       "      <td>0.000250</td>\n",
       "      <td>0.946113</td>\n",
       "      <td>1.000000</td>\n",
       "      <td>0.821536</td>\n",
       "      <td>0.574877</td>\n",
       "      <td>0.811719</td>\n",
       "      <td>0.496631</td>\n",
       "      <td>0.697682</td>\n",
       "      <td>-0.233679</td>\n",
       "      <td>0.792342</td>\n",
       "      <td>0.787416</td>\n",
       "      <td>0.782179</td>\n",
       "    </tr>\n",
       "    <tr>\n",
       "      <th>temperatureHigh</th>\n",
       "      <td>-0.000034</td>\n",
       "      <td>0.788558</td>\n",
       "      <td>0.821536</td>\n",
       "      <td>1.000000</td>\n",
       "      <td>0.612312</td>\n",
       "      <td>0.958718</td>\n",
       "      <td>0.535479</td>\n",
       "      <td>0.795144</td>\n",
       "      <td>-0.232343</td>\n",
       "      <td>0.985913</td>\n",
       "      <td>0.881727</td>\n",
       "      <td>0.950982</td>\n",
       "    </tr>\n",
       "    <tr>\n",
       "      <th>temperatureLow</th>\n",
       "      <td>0.000271</td>\n",
       "      <td>0.502803</td>\n",
       "      <td>0.574877</td>\n",
       "      <td>0.612312</td>\n",
       "      <td>1.000000</td>\n",
       "      <td>0.630027</td>\n",
       "      <td>0.933973</td>\n",
       "      <td>0.472311</td>\n",
       "      <td>-0.366677</td>\n",
       "      <td>0.568027</td>\n",
       "      <td>0.627085</td>\n",
       "      <td>0.579922</td>\n",
       "    </tr>\n",
       "    <tr>\n",
       "      <th>apparentTemperatureHigh</th>\n",
       "      <td>0.000284</td>\n",
       "      <td>0.710394</td>\n",
       "      <td>0.811719</td>\n",
       "      <td>0.958718</td>\n",
       "      <td>0.630027</td>\n",
       "      <td>1.000000</td>\n",
       "      <td>0.602915</td>\n",
       "      <td>0.665122</td>\n",
       "      <td>-0.219536</td>\n",
       "      <td>0.926219</td>\n",
       "      <td>0.793598</td>\n",
       "      <td>0.974135</td>\n",
       "    </tr>\n",
       "    <tr>\n",
       "      <th>apparentTemperatureLow</th>\n",
       "      <td>0.000825</td>\n",
       "      <td>0.383362</td>\n",
       "      <td>0.496631</td>\n",
       "      <td>0.535479</td>\n",
       "      <td>0.933973</td>\n",
       "      <td>0.602915</td>\n",
       "      <td>1.000000</td>\n",
       "      <td>0.283511</td>\n",
       "      <td>-0.401124</td>\n",
       "      <td>0.492686</td>\n",
       "      <td>0.470161</td>\n",
       "      <td>0.558715</td>\n",
       "    </tr>\n",
       "    <tr>\n",
       "      <th>temperatureMin</th>\n",
       "      <td>0.000002</td>\n",
       "      <td>0.789784</td>\n",
       "      <td>0.697682</td>\n",
       "      <td>0.795144</td>\n",
       "      <td>0.472311</td>\n",
       "      <td>0.665122</td>\n",
       "      <td>0.283511</td>\n",
       "      <td>1.000000</td>\n",
       "      <td>-0.310667</td>\n",
       "      <td>0.783273</td>\n",
       "      <td>0.963133</td>\n",
       "      <td>0.647993</td>\n",
       "    </tr>\n",
       "    <tr>\n",
       "      <th>temperatureHighTime</th>\n",
       "      <td>0.001176</td>\n",
       "      <td>-0.257464</td>\n",
       "      <td>-0.233679</td>\n",
       "      <td>-0.232343</td>\n",
       "      <td>-0.366677</td>\n",
       "      <td>-0.219536</td>\n",
       "      <td>-0.401124</td>\n",
       "      <td>-0.310667</td>\n",
       "      <td>1.000000</td>\n",
       "      <td>-0.189656</td>\n",
       "      <td>-0.360139</td>\n",
       "      <td>-0.160759</td>\n",
       "    </tr>\n",
       "    <tr>\n",
       "      <th>temperatureMax</th>\n",
       "      <td>-0.000180</td>\n",
       "      <td>0.780366</td>\n",
       "      <td>0.792342</td>\n",
       "      <td>0.985913</td>\n",
       "      <td>0.568027</td>\n",
       "      <td>0.926219</td>\n",
       "      <td>0.492686</td>\n",
       "      <td>0.783273</td>\n",
       "      <td>-0.189656</td>\n",
       "      <td>1.000000</td>\n",
       "      <td>0.853414</td>\n",
       "      <td>0.956305</td>\n",
       "    </tr>\n",
       "    <tr>\n",
       "      <th>apparentTemperatureMin</th>\n",
       "      <td>-0.000046</td>\n",
       "      <td>0.825440</td>\n",
       "      <td>0.787416</td>\n",
       "      <td>0.881727</td>\n",
       "      <td>0.627085</td>\n",
       "      <td>0.793598</td>\n",
       "      <td>0.470161</td>\n",
       "      <td>0.963133</td>\n",
       "      <td>-0.360139</td>\n",
       "      <td>0.853414</td>\n",
       "      <td>1.000000</td>\n",
       "      <td>0.758990</td>\n",
       "    </tr>\n",
       "    <tr>\n",
       "      <th>apparentTemperatureMax</th>\n",
       "      <td>0.000110</td>\n",
       "      <td>0.703036</td>\n",
       "      <td>0.782179</td>\n",
       "      <td>0.950982</td>\n",
       "      <td>0.579922</td>\n",
       "      <td>0.974135</td>\n",
       "      <td>0.558715</td>\n",
       "      <td>0.647993</td>\n",
       "      <td>-0.160759</td>\n",
       "      <td>0.956305</td>\n",
       "      <td>0.758990</td>\n",
       "      <td>1.000000</td>\n",
       "    </tr>\n",
       "  </tbody>\n",
       "</table>\n",
       "</div>"
      ],
      "text/plain": [
       "                            price  temperature  apparentTemperature  \\\n",
       "price                    1.000000     0.000121             0.000250   \n",
       "temperature              0.000121     1.000000             0.946113   \n",
       "apparentTemperature      0.000250     0.946113             1.000000   \n",
       "temperatureHigh         -0.000034     0.788558             0.821536   \n",
       "temperatureLow           0.000271     0.502803             0.574877   \n",
       "apparentTemperatureHigh  0.000284     0.710394             0.811719   \n",
       "apparentTemperatureLow   0.000825     0.383362             0.496631   \n",
       "temperatureMin           0.000002     0.789784             0.697682   \n",
       "temperatureHighTime      0.001176    -0.257464            -0.233679   \n",
       "temperatureMax          -0.000180     0.780366             0.792342   \n",
       "apparentTemperatureMin  -0.000046     0.825440             0.787416   \n",
       "apparentTemperatureMax   0.000110     0.703036             0.782179   \n",
       "\n",
       "                         temperatureHigh  temperatureLow  \\\n",
       "price                          -0.000034        0.000271   \n",
       "temperature                     0.788558        0.502803   \n",
       "apparentTemperature             0.821536        0.574877   \n",
       "temperatureHigh                 1.000000        0.612312   \n",
       "temperatureLow                  0.612312        1.000000   \n",
       "apparentTemperatureHigh         0.958718        0.630027   \n",
       "apparentTemperatureLow          0.535479        0.933973   \n",
       "temperatureMin                  0.795144        0.472311   \n",
       "temperatureHighTime            -0.232343       -0.366677   \n",
       "temperatureMax                  0.985913        0.568027   \n",
       "apparentTemperatureMin          0.881727        0.627085   \n",
       "apparentTemperatureMax          0.950982        0.579922   \n",
       "\n",
       "                         apparentTemperatureHigh  apparentTemperatureLow  \\\n",
       "price                                   0.000284                0.000825   \n",
       "temperature                             0.710394                0.383362   \n",
       "apparentTemperature                     0.811719                0.496631   \n",
       "temperatureHigh                         0.958718                0.535479   \n",
       "temperatureLow                          0.630027                0.933973   \n",
       "apparentTemperatureHigh                 1.000000                0.602915   \n",
       "apparentTemperatureLow                  0.602915                1.000000   \n",
       "temperatureMin                          0.665122                0.283511   \n",
       "temperatureHighTime                    -0.219536               -0.401124   \n",
       "temperatureMax                          0.926219                0.492686   \n",
       "apparentTemperatureMin                  0.793598                0.470161   \n",
       "apparentTemperatureMax                  0.974135                0.558715   \n",
       "\n",
       "                         temperatureMin  temperatureHighTime  temperatureMax  \\\n",
       "price                          0.000002             0.001176       -0.000180   \n",
       "temperature                    0.789784            -0.257464        0.780366   \n",
       "apparentTemperature            0.697682            -0.233679        0.792342   \n",
       "temperatureHigh                0.795144            -0.232343        0.985913   \n",
       "temperatureLow                 0.472311            -0.366677        0.568027   \n",
       "apparentTemperatureHigh        0.665122            -0.219536        0.926219   \n",
       "apparentTemperatureLow         0.283511            -0.401124        0.492686   \n",
       "temperatureMin                 1.000000            -0.310667        0.783273   \n",
       "temperatureHighTime           -0.310667             1.000000       -0.189656   \n",
       "temperatureMax                 0.783273            -0.189656        1.000000   \n",
       "apparentTemperatureMin         0.963133            -0.360139        0.853414   \n",
       "apparentTemperatureMax         0.647993            -0.160759        0.956305   \n",
       "\n",
       "                         apparentTemperatureMin  apparentTemperatureMax  \n",
       "price                                 -0.000046                0.000110  \n",
       "temperature                            0.825440                0.703036  \n",
       "apparentTemperature                    0.787416                0.782179  \n",
       "temperatureHigh                        0.881727                0.950982  \n",
       "temperatureLow                         0.627085                0.579922  \n",
       "apparentTemperatureHigh                0.793598                0.974135  \n",
       "apparentTemperatureLow                 0.470161                0.558715  \n",
       "temperatureMin                         0.963133                0.647993  \n",
       "temperatureHighTime                   -0.360139               -0.160759  \n",
       "temperatureMax                         0.853414                0.956305  \n",
       "apparentTemperatureMin                 1.000000                0.758990  \n",
       "apparentTemperatureMax                 0.758990                1.000000  "
      ]
     },
     "execution_count": 53,
     "metadata": {},
     "output_type": "execute_result"
    }
   ],
   "source": [
    "df_temperature.corr()"
   ]
  },
  {
   "cell_type": "code",
   "execution_count": 54,
   "metadata": {},
   "outputs": [
    {
     "data": {
      "image/png": "[encoded data removed]",
      "text/plain": [
       "<Figure size 1000x1000 with 2 Axes>"
      ]
     },
     "metadata": {},
     "output_type": "display_data"
    }
   ],
   "source": [
    "plt.figure(figsize=(10,10))\n",
    "sns.heatmap(df_temperature.corr(), annot=True, fmt=\".3f\")\n",
    "plt.show()"
   ]
  },
  {
   "cell_type": "markdown",
   "metadata": {},
   "source": [
    "since the price column and temperature things have weak correaltion, removing temperature related column"
   ]
  },
  {
   "cell_type": "code",
   "execution_count": 55,
   "metadata": {},
   "outputs": [],
   "source": [
    "X_train.drop(df_temperature.columns[1:], axis=1, inplace=True)\n",
    "X_test.drop(df_temperature.columns[1:], axis=1, inplace=True)"
   ]
  },
  {
   "cell_type": "code",
   "execution_count": 56,
   "metadata": {},
   "outputs": [
    {
     "name": "stdout",
     "output_type": "stream",
     "text": [
      "(510454, 42)\n",
      "(127522, 42)\n"
     ]
    }
   ],
   "source": [
    "print(f'{X_train.shape}')\n",
    "print(f'{X_test.shape}')"
   ]
  },
  {
   "cell_type": "markdown",
   "metadata": {},
   "source": [
    "- Checking is the climate features has strong correlation with price"
   ]
  },
  {
   "cell_type": "code",
   "execution_count": 57,
   "metadata": {},
   "outputs": [
    {
     "data": {
      "text/html": [
       "<div>\n",
       "<style scoped>\n",
       "    .dataframe tbody tr th:only-of-type {\n",
       "        vertical-align: middle;\n",
       "    }\n",
       "\n",
       "    .dataframe tbody tr th {\n",
       "        vertical-align: top;\n",
       "    }\n",
       "\n",
       "    .dataframe thead th {\n",
       "        text-align: right;\n",
       "    }\n",
       "</style>\n",
       "<table border=\"1\" class=\"dataframe\">\n",
       "  <thead>\n",
       "    <tr style=\"text-align: right;\">\n",
       "      <th></th>\n",
       "      <th>price</th>\n",
       "      <th>precipIntensity</th>\n",
       "      <th>precipProbability</th>\n",
       "      <th>humidity</th>\n",
       "      <th>windSpeed</th>\n",
       "      <th>windGust</th>\n",
       "      <th>visibility</th>\n",
       "      <th>dewPoint</th>\n",
       "      <th>pressure</th>\n",
       "      <th>windBearing</th>\n",
       "      <th>cloudCover</th>\n",
       "      <th>uvIndex</th>\n",
       "      <th>visibility.1</th>\n",
       "      <th>ozone</th>\n",
       "      <th>moonPhase</th>\n",
       "      <th>precipIntensityMax</th>\n",
       "    </tr>\n",
       "  </thead>\n",
       "  <tbody>\n",
       "    <tr>\n",
       "      <th>128880</th>\n",
       "      <td>38.5</td>\n",
       "      <td>0.0</td>\n",
       "      <td>0.0</td>\n",
       "      <td>0.79</td>\n",
       "      <td>4.24</td>\n",
       "      <td>4.75</td>\n",
       "      <td>9.850</td>\n",
       "      <td>26.59</td>\n",
       "      <td>1021.74</td>\n",
       "      <td>320</td>\n",
       "      <td>0.67</td>\n",
       "      <td>0</td>\n",
       "      <td>9.850</td>\n",
       "      <td>281.4</td>\n",
       "      <td>0.82</td>\n",
       "      <td>0.0000</td>\n",
       "    </tr>\n",
       "    <tr>\n",
       "      <th>362718</th>\n",
       "      <td>12.5</td>\n",
       "      <td>0.0</td>\n",
       "      <td>0.0</td>\n",
       "      <td>0.68</td>\n",
       "      <td>5.87</td>\n",
       "      <td>6.26</td>\n",
       "      <td>9.910</td>\n",
       "      <td>27.53</td>\n",
       "      <td>1022.32</td>\n",
       "      <td>344</td>\n",
       "      <td>0.44</td>\n",
       "      <td>1</td>\n",
       "      <td>9.910</td>\n",
       "      <td>280.1</td>\n",
       "      <td>0.82</td>\n",
       "      <td>0.0000</td>\n",
       "    </tr>\n",
       "    <tr>\n",
       "      <th>524601</th>\n",
       "      <td>18.5</td>\n",
       "      <td>0.0</td>\n",
       "      <td>0.0</td>\n",
       "      <td>0.70</td>\n",
       "      <td>5.92</td>\n",
       "      <td>5.92</td>\n",
       "      <td>9.843</td>\n",
       "      <td>27.26</td>\n",
       "      <td>991.62</td>\n",
       "      <td>264</td>\n",
       "      <td>0.44</td>\n",
       "      <td>0</td>\n",
       "      <td>9.843</td>\n",
       "      <td>348.0</td>\n",
       "      <td>0.72</td>\n",
       "      <td>0.0001</td>\n",
       "    </tr>\n",
       "    <tr>\n",
       "      <th>420464</th>\n",
       "      <td>9.0</td>\n",
       "      <td>0.0</td>\n",
       "      <td>0.0</td>\n",
       "      <td>0.57</td>\n",
       "      <td>3.60</td>\n",
       "      <td>3.60</td>\n",
       "      <td>9.868</td>\n",
       "      <td>6.46</td>\n",
       "      <td>1028.56</td>\n",
       "      <td>345</td>\n",
       "      <td>0.04</td>\n",
       "      <td>0</td>\n",
       "      <td>9.868</td>\n",
       "      <td>325.9</td>\n",
       "      <td>0.21</td>\n",
       "      <td>0.0001</td>\n",
       "    </tr>\n",
       "    <tr>\n",
       "      <th>208847</th>\n",
       "      <td>15.0</td>\n",
       "      <td>0.0</td>\n",
       "      <td>0.0</td>\n",
       "      <td>0.70</td>\n",
       "      <td>4.68</td>\n",
       "      <td>5.77</td>\n",
       "      <td>9.827</td>\n",
       "      <td>32.00</td>\n",
       "      <td>1024.46</td>\n",
       "      <td>36</td>\n",
       "      <td>0.14</td>\n",
       "      <td>0</td>\n",
       "      <td>9.827</td>\n",
       "      <td>296.6</td>\n",
       "      <td>0.27</td>\n",
       "      <td>0.0082</td>\n",
       "    </tr>\n",
       "  </tbody>\n",
       "</table>\n",
       "</div>"
      ],
      "text/plain": [
       "        price  precipIntensity  precipProbability  humidity  windSpeed  \\\n",
       "128880   38.5              0.0                0.0      0.79       4.24   \n",
       "362718   12.5              0.0                0.0      0.68       5.87   \n",
       "524601   18.5              0.0                0.0      0.70       5.92   \n",
       "420464    9.0              0.0                0.0      0.57       3.60   \n",
       "208847   15.0              0.0                0.0      0.70       4.68   \n",
       "\n",
       "        windGust  visibility  dewPoint  pressure  windBearing  cloudCover  \\\n",
       "128880      4.75       9.850     26.59   1021.74          320        0.67   \n",
       "362718      6.26       9.910     27.53   1022.32          344        0.44   \n",
       "524601      5.92       9.843     27.26    991.62          264        0.44   \n",
       "420464      3.60       9.868      6.46   1028.56          345        0.04   \n",
       "208847      5.77       9.827     32.00   1024.46           36        0.14   \n",
       "\n",
       "        uvIndex  visibility.1  ozone  moonPhase  precipIntensityMax  \n",
       "128880        0         9.850  281.4       0.82              0.0000  \n",
       "362718        1         9.910  280.1       0.82              0.0000  \n",
       "524601        0         9.843  348.0       0.72              0.0001  \n",
       "420464        0         9.868  325.9       0.21              0.0001  \n",
       "208847        0         9.827  296.6       0.27              0.0082  "
      ]
     },
     "execution_count": 57,
     "metadata": {},
     "output_type": "execute_result"
    }
   ],
   "source": [
    "df_climate = pd.concat([X_train, y_train], axis=1)\n",
    "df_climate = df_climate[['price','precipIntensity', 'precipProbability', 'humidity', 'windSpeed','windGust', 'visibility', \n",
    "                         'dewPoint', 'pressure', 'windBearing','cloudCover', 'uvIndex', 'visibility.1', 'ozone', 'moonPhase','precipIntensityMax']]\n",
    "df_climate.head()"
   ]
  },
  {
   "cell_type": "code",
   "execution_count": 58,
   "metadata": {},
   "outputs": [
    {
     "data": {
      "text/html": [
       "<div>\n",
       "<style scoped>\n",
       "    .dataframe tbody tr th:only-of-type {\n",
       "        vertical-align: middle;\n",
       "    }\n",
       "\n",
       "    .dataframe tbody tr th {\n",
       "        vertical-align: top;\n",
       "    }\n",
       "\n",
       "    .dataframe thead th {\n",
       "        text-align: right;\n",
       "    }\n",
       "</style>\n",
       "<table border=\"1\" class=\"dataframe\">\n",
       "  <thead>\n",
       "    <tr style=\"text-align: right;\">\n",
       "      <th></th>\n",
       "      <th>price</th>\n",
       "      <th>precipIntensity</th>\n",
       "      <th>precipProbability</th>\n",
       "      <th>humidity</th>\n",
       "      <th>windSpeed</th>\n",
       "      <th>windGust</th>\n",
       "      <th>visibility</th>\n",
       "      <th>dewPoint</th>\n",
       "      <th>pressure</th>\n",
       "      <th>windBearing</th>\n",
       "      <th>cloudCover</th>\n",
       "      <th>uvIndex</th>\n",
       "      <th>visibility.1</th>\n",
       "      <th>ozone</th>\n",
       "      <th>moonPhase</th>\n",
       "      <th>precipIntensityMax</th>\n",
       "    </tr>\n",
       "  </thead>\n",
       "  <tbody>\n",
       "    <tr>\n",
       "      <th>price</th>\n",
       "      <td>1.000000</td>\n",
       "      <td>0.000439</td>\n",
       "      <td>-0.000461</td>\n",
       "      <td>-0.000735</td>\n",
       "      <td>0.000064</td>\n",
       "      <td>0.000208</td>\n",
       "      <td>0.001170</td>\n",
       "      <td>-0.000200</td>\n",
       "      <td>0.001210</td>\n",
       "      <td>-0.001818</td>\n",
       "      <td>0.001524</td>\n",
       "      <td>-0.001173</td>\n",
       "      <td>0.001170</td>\n",
       "      <td>0.000057</td>\n",
       "      <td>-0.001886</td>\n",
       "      <td>0.001275</td>\n",
       "    </tr>\n",
       "    <tr>\n",
       "      <th>precipIntensity</th>\n",
       "      <td>0.000439</td>\n",
       "      <td>1.000000</td>\n",
       "      <td>0.838316</td>\n",
       "      <td>0.417416</td>\n",
       "      <td>0.306820</td>\n",
       "      <td>0.207086</td>\n",
       "      <td>-0.600789</td>\n",
       "      <td>0.338845</td>\n",
       "      <td>-0.143974</td>\n",
       "      <td>-0.432745</td>\n",
       "      <td>0.288741</td>\n",
       "      <td>-0.098666</td>\n",
       "      <td>-0.600789</td>\n",
       "      <td>-0.222472</td>\n",
       "      <td>0.078558</td>\n",
       "      <td>0.497780</td>\n",
       "    </tr>\n",
       "    <tr>\n",
       "      <th>precipProbability</th>\n",
       "      <td>-0.000461</td>\n",
       "      <td>0.838316</td>\n",
       "      <td>1.000000</td>\n",
       "      <td>0.548806</td>\n",
       "      <td>0.251420</td>\n",
       "      <td>0.135692</td>\n",
       "      <td>-0.762035</td>\n",
       "      <td>0.445597</td>\n",
       "      <td>-0.179885</td>\n",
       "      <td>-0.469599</td>\n",
       "      <td>0.387137</td>\n",
       "      <td>-0.070447</td>\n",
       "      <td>-0.762035</td>\n",
       "      <td>-0.235196</td>\n",
       "      <td>0.085007</td>\n",
       "      <td>0.582499</td>\n",
       "    </tr>\n",
       "    <tr>\n",
       "      <th>humidity</th>\n",
       "      <td>-0.000735</td>\n",
       "      <td>0.417416</td>\n",
       "      <td>0.548806</td>\n",
       "      <td>1.000000</td>\n",
       "      <td>-0.208047</td>\n",
       "      <td>-0.299675</td>\n",
       "      <td>-0.697432</td>\n",
       "      <td>0.747559</td>\n",
       "      <td>-0.134085</td>\n",
       "      <td>-0.356398</td>\n",
       "      <td>0.479553</td>\n",
       "      <td>-0.206878</td>\n",
       "      <td>-0.697432</td>\n",
       "      <td>-0.426620</td>\n",
       "      <td>0.147515</td>\n",
       "      <td>0.519110</td>\n",
       "    </tr>\n",
       "    <tr>\n",
       "      <th>windSpeed</th>\n",
       "      <td>0.000064</td>\n",
       "      <td>0.306820</td>\n",
       "      <td>0.251420</td>\n",
       "      <td>-0.208047</td>\n",
       "      <td>1.000000</td>\n",
       "      <td>0.942198</td>\n",
       "      <td>-0.035893</td>\n",
       "      <td>-0.075997</td>\n",
       "      <td>-0.574287</td>\n",
       "      <td>0.113446</td>\n",
       "      <td>0.159962</td>\n",
       "      <td>0.066389</td>\n",
       "      <td>-0.035893</td>\n",
       "      <td>0.545081</td>\n",
       "      <td>0.040919</td>\n",
       "      <td>0.212267</td>\n",
       "    </tr>\n",
       "    <tr>\n",
       "      <th>windGust</th>\n",
       "      <td>0.000208</td>\n",
       "      <td>0.207086</td>\n",
       "      <td>0.135692</td>\n",
       "      <td>-0.299675</td>\n",
       "      <td>0.942198</td>\n",
       "      <td>1.000000</td>\n",
       "      <td>0.034760</td>\n",
       "      <td>-0.158966</td>\n",
       "      <td>-0.526939</td>\n",
       "      <td>0.164513</td>\n",
       "      <td>0.106469</td>\n",
       "      <td>0.092661</td>\n",
       "      <td>0.034760</td>\n",
       "      <td>0.583980</td>\n",
       "      <td>0.013378</td>\n",
       "      <td>0.109653</td>\n",
       "    </tr>\n",
       "    <tr>\n",
       "      <th>visibility</th>\n",
       "      <td>0.001170</td>\n",
       "      <td>-0.600789</td>\n",
       "      <td>-0.762035</td>\n",
       "      <td>-0.697432</td>\n",
       "      <td>-0.035893</td>\n",
       "      <td>0.034760</td>\n",
       "      <td>1.000000</td>\n",
       "      <td>-0.579711</td>\n",
       "      <td>0.228224</td>\n",
       "      <td>0.401139</td>\n",
       "      <td>-0.477542</td>\n",
       "      <td>0.119259</td>\n",
       "      <td>1.000000</td>\n",
       "      <td>0.262686</td>\n",
       "      <td>-0.173860</td>\n",
       "      <td>-0.544212</td>\n",
       "    </tr>\n",
       "    <tr>\n",
       "      <th>dewPoint</th>\n",
       "      <td>-0.000200</td>\n",
       "      <td>0.338845</td>\n",
       "      <td>0.445597</td>\n",
       "      <td>0.747559</td>\n",
       "      <td>-0.075997</td>\n",
       "      <td>-0.158966</td>\n",
       "      <td>-0.579711</td>\n",
       "      <td>1.000000</td>\n",
       "      <td>-0.308714</td>\n",
       "      <td>-0.359312</td>\n",
       "      <td>0.500419</td>\n",
       "      <td>-0.003095</td>\n",
       "      <td>-0.579711</td>\n",
       "      <td>-0.425543</td>\n",
       "      <td>0.316499</td>\n",
       "      <td>0.505895</td>\n",
       "    </tr>\n",
       "    <tr>\n",
       "      <th>pressure</th>\n",
       "      <td>0.001210</td>\n",
       "      <td>-0.143974</td>\n",
       "      <td>-0.179885</td>\n",
       "      <td>-0.134085</td>\n",
       "      <td>-0.574287</td>\n",
       "      <td>-0.526939</td>\n",
       "      <td>0.228224</td>\n",
       "      <td>-0.308714</td>\n",
       "      <td>1.000000</td>\n",
       "      <td>-0.280538</td>\n",
       "      <td>-0.285042</td>\n",
       "      <td>0.005229</td>\n",
       "      <td>0.228224</td>\n",
       "      <td>-0.451042</td>\n",
       "      <td>-0.527969</td>\n",
       "      <td>-0.244018</td>\n",
       "    </tr>\n",
       "    <tr>\n",
       "      <th>windBearing</th>\n",
       "      <td>-0.001818</td>\n",
       "      <td>-0.432745</td>\n",
       "      <td>-0.469599</td>\n",
       "      <td>-0.356398</td>\n",
       "      <td>0.113446</td>\n",
       "      <td>0.164513</td>\n",
       "      <td>0.401139</td>\n",
       "      <td>-0.359312</td>\n",
       "      <td>-0.280538</td>\n",
       "      <td>1.000000</td>\n",
       "      <td>-0.221315</td>\n",
       "      <td>0.114081</td>\n",
       "      <td>0.401139</td>\n",
       "      <td>0.346094</td>\n",
       "      <td>0.262655</td>\n",
       "      <td>-0.554393</td>\n",
       "    </tr>\n",
       "    <tr>\n",
       "      <th>cloudCover</th>\n",
       "      <td>0.001524</td>\n",
       "      <td>0.288741</td>\n",
       "      <td>0.387137</td>\n",
       "      <td>0.479553</td>\n",
       "      <td>0.159962</td>\n",
       "      <td>0.106469</td>\n",
       "      <td>-0.477542</td>\n",
       "      <td>0.500419</td>\n",
       "      <td>-0.285042</td>\n",
       "      <td>-0.221315</td>\n",
       "      <td>1.000000</td>\n",
       "      <td>-0.066137</td>\n",
       "      <td>-0.477542</td>\n",
       "      <td>0.043283</td>\n",
       "      <td>0.092581</td>\n",
       "      <td>0.395055</td>\n",
       "    </tr>\n",
       "    <tr>\n",
       "      <th>uvIndex</th>\n",
       "      <td>-0.001173</td>\n",
       "      <td>-0.098666</td>\n",
       "      <td>-0.070447</td>\n",
       "      <td>-0.206878</td>\n",
       "      <td>0.066389</td>\n",
       "      <td>0.092661</td>\n",
       "      <td>0.119259</td>\n",
       "      <td>-0.003095</td>\n",
       "      <td>0.005229</td>\n",
       "      <td>0.114081</td>\n",
       "      <td>-0.066137</td>\n",
       "      <td>1.000000</td>\n",
       "      <td>0.119259</td>\n",
       "      <td>-0.017813</td>\n",
       "      <td>0.055455</td>\n",
       "      <td>-0.040786</td>\n",
       "    </tr>\n",
       "    <tr>\n",
       "      <th>visibility.1</th>\n",
       "      <td>0.001170</td>\n",
       "      <td>-0.600789</td>\n",
       "      <td>-0.762035</td>\n",
       "      <td>-0.697432</td>\n",
       "      <td>-0.035893</td>\n",
       "      <td>0.034760</td>\n",
       "      <td>1.000000</td>\n",
       "      <td>-0.579711</td>\n",
       "      <td>0.228224</td>\n",
       "      <td>0.401139</td>\n",
       "      <td>-0.477542</td>\n",
       "      <td>0.119259</td>\n",
       "      <td>1.000000</td>\n",
       "      <td>0.262686</td>\n",
       "      <td>-0.173860</td>\n",
       "      <td>-0.544212</td>\n",
       "    </tr>\n",
       "    <tr>\n",
       "      <th>ozone</th>\n",
       "      <td>0.000057</td>\n",
       "      <td>-0.222472</td>\n",
       "      <td>-0.235196</td>\n",
       "      <td>-0.426620</td>\n",
       "      <td>0.545081</td>\n",
       "      <td>0.583980</td>\n",
       "      <td>0.262686</td>\n",
       "      <td>-0.425543</td>\n",
       "      <td>-0.451042</td>\n",
       "      <td>0.346094</td>\n",
       "      <td>0.043283</td>\n",
       "      <td>-0.017813</td>\n",
       "      <td>0.262686</td>\n",
       "      <td>1.000000</td>\n",
       "      <td>-0.230101</td>\n",
       "      <td>-0.223078</td>\n",
       "    </tr>\n",
       "    <tr>\n",
       "      <th>moonPhase</th>\n",
       "      <td>-0.001886</td>\n",
       "      <td>0.078558</td>\n",
       "      <td>0.085007</td>\n",
       "      <td>0.147515</td>\n",
       "      <td>0.040919</td>\n",
       "      <td>0.013378</td>\n",
       "      <td>-0.173860</td>\n",
       "      <td>0.316499</td>\n",
       "      <td>-0.527969</td>\n",
       "      <td>0.262655</td>\n",
       "      <td>0.092581</td>\n",
       "      <td>0.055455</td>\n",
       "      <td>-0.173860</td>\n",
       "      <td>-0.230101</td>\n",
       "      <td>1.000000</td>\n",
       "      <td>0.055842</td>\n",
       "    </tr>\n",
       "    <tr>\n",
       "      <th>precipIntensityMax</th>\n",
       "      <td>0.001275</td>\n",
       "      <td>0.497780</td>\n",
       "      <td>0.582499</td>\n",
       "      <td>0.519110</td>\n",
       "      <td>0.212267</td>\n",
       "      <td>0.109653</td>\n",
       "      <td>-0.544212</td>\n",
       "      <td>0.505895</td>\n",
       "      <td>-0.244018</td>\n",
       "      <td>-0.554393</td>\n",
       "      <td>0.395055</td>\n",
       "      <td>-0.040786</td>\n",
       "      <td>-0.544212</td>\n",
       "      <td>-0.223078</td>\n",
       "      <td>0.055842</td>\n",
       "      <td>1.000000</td>\n",
       "    </tr>\n",
       "  </tbody>\n",
       "</table>\n",
       "</div>"
      ],
      "text/plain": [
       "                       price  precipIntensity  precipProbability  humidity  \\\n",
       "price               1.000000         0.000439          -0.000461 -0.000735   \n",
       "precipIntensity     0.000439         1.000000           0.838316  0.417416   \n",
       "precipProbability  -0.000461         0.838316           1.000000  0.548806   \n",
       "humidity           -0.000735         0.417416           0.548806  1.000000   \n",
       "windSpeed           0.000064         0.306820           0.251420 -0.208047   \n",
       "windGust            0.000208         0.207086           0.135692 -0.299675   \n",
       "visibility          0.001170        -0.600789          -0.762035 -0.697432   \n",
       "dewPoint           -0.000200         0.338845           0.445597  0.747559   \n",
       "pressure            0.001210        -0.143974          -0.179885 -0.134085   \n",
       "windBearing        -0.001818        -0.432745          -0.469599 -0.356398   \n",
       "cloudCover          0.001524         0.288741           0.387137  0.479553   \n",
       "uvIndex            -0.001173        -0.098666          -0.070447 -0.206878   \n",
       "visibility.1        0.001170        -0.600789          -0.762035 -0.697432   \n",
       "ozone               0.000057        -0.222472          -0.235196 -0.426620   \n",
       "moonPhase          -0.001886         0.078558           0.085007  0.147515   \n",
       "precipIntensityMax  0.001275         0.497780           0.582499  0.519110   \n",
       "\n",
       "                    windSpeed  windGust  visibility  dewPoint  pressure  \\\n",
       "price                0.000064  0.000208    0.001170 -0.000200  0.001210   \n",
       "precipIntensity      0.306820  0.207086   -0.600789  0.338845 -0.143974   \n",
       "precipProbability    0.251420  0.135692   -0.762035  0.445597 -0.179885   \n",
       "humidity            -0.208047 -0.299675   -0.697432  0.747559 -0.134085   \n",
       "windSpeed            1.000000  0.942198   -0.035893 -0.075997 -0.574287   \n",
       "windGust             0.942198  1.000000    0.034760 -0.158966 -0.526939   \n",
       "visibility          -0.035893  0.034760    1.000000 -0.579711  0.228224   \n",
       "dewPoint            -0.075997 -0.158966   -0.579711  1.000000 -0.308714   \n",
       "pressure            -0.574287 -0.526939    0.228224 -0.308714  1.000000   \n",
       "windBearing          0.113446  0.164513    0.401139 -0.359312 -0.280538   \n",
       "cloudCover           0.159962  0.106469   -0.477542  0.500419 -0.285042   \n",
       "uvIndex              0.066389  0.092661    0.119259 -0.003095  0.005229   \n",
       "visibility.1        -0.035893  0.034760    1.000000 -0.579711  0.228224   \n",
       "ozone                0.545081  0.583980    0.262686 -0.425543 -0.451042   \n",
       "moonPhase            0.040919  0.013378   -0.173860  0.316499 -0.527969   \n",
       "precipIntensityMax   0.212267  0.109653   -0.544212  0.505895 -0.244018   \n",
       "\n",
       "                    windBearing  cloudCover   uvIndex  visibility.1     ozone  \\\n",
       "price                 -0.001818    0.001524 -0.001173      0.001170  0.000057   \n",
       "precipIntensity       -0.432745    0.288741 -0.098666     -0.600789 -0.222472   \n",
       "precipProbability     -0.469599    0.387137 -0.070447     -0.762035 -0.235196   \n",
       "humidity              -0.356398    0.479553 -0.206878     -0.697432 -0.426620   \n",
       "windSpeed              0.113446    0.159962  0.066389     -0.035893  0.545081   \n",
       "windGust               0.164513    0.106469  0.092661      0.034760  0.583980   \n",
       "visibility             0.401139   -0.477542  0.119259      1.000000  0.262686   \n",
       "dewPoint              -0.359312    0.500419 -0.003095     -0.579711 -0.425543   \n",
       "pressure              -0.280538   -0.285042  0.005229      0.228224 -0.451042   \n",
       "windBearing            1.000000   -0.221315  0.114081      0.401139  0.346094   \n",
       "cloudCover            -0.221315    1.000000 -0.066137     -0.477542  0.043283   \n",
       "uvIndex                0.114081   -0.066137  1.000000      0.119259 -0.017813   \n",
       "visibility.1           0.401139   -0.477542  0.119259      1.000000  0.262686   \n",
       "ozone                  0.346094    0.043283 -0.017813      0.262686  1.000000   \n",
       "moonPhase              0.262655    0.092581  0.055455     -0.173860 -0.230101   \n",
       "precipIntensityMax    -0.554393    0.395055 -0.040786     -0.544212 -0.223078   \n",
       "\n",
       "                    moonPhase  precipIntensityMax  \n",
       "price               -0.001886            0.001275  \n",
       "precipIntensity      0.078558            0.497780  \n",
       "precipProbability    0.085007            0.582499  \n",
       "humidity             0.147515            0.519110  \n",
       "windSpeed            0.040919            0.212267  \n",
       "windGust             0.013378            0.109653  \n",
       "visibility          -0.173860           -0.544212  \n",
       "dewPoint             0.316499            0.505895  \n",
       "pressure            -0.527969           -0.244018  \n",
       "windBearing          0.262655           -0.554393  \n",
       "cloudCover           0.092581            0.395055  \n",
       "uvIndex              0.055455           -0.040786  \n",
       "visibility.1        -0.173860           -0.544212  \n",
       "ozone               -0.230101           -0.223078  \n",
       "moonPhase            1.000000            0.055842  \n",
       "precipIntensityMax   0.055842            1.000000  "
      ]
     },
     "execution_count": 58,
     "metadata": {},
     "output_type": "execute_result"
    }
   ],
   "source": [
    "df_climate.corr()"
   ]
  },
  {
   "cell_type": "code",
   "execution_count": 59,
   "metadata": {},
   "outputs": [],
   "source": [
    "X_train.drop(df_climate.columns[1:], axis=1, inplace=True)\n",
    "X_test.drop(df_climate.columns[1:], axis=1, inplace=True)"
   ]
  },
  {
   "cell_type": "code",
   "execution_count": 60,
   "metadata": {},
   "outputs": [
    {
     "name": "stdout",
     "output_type": "stream",
     "text": [
      "(510454, 27)\n",
      "(127522, 27)\n"
     ]
    }
   ],
   "source": [
    "print(f'{X_train.shape}')\n",
    "print(f'{X_test.shape}')"
   ]
  },
  {
   "cell_type": "code",
   "execution_count": 61,
   "metadata": {},
   "outputs": [],
   "source": [
    "X_train.drop(['timestamp','latitude','longitude','product_id','long_summary','apparentTemperatureHighTime','apparentTemperatureLowTime',\n",
    "                  'apparentTemperatureLowTime','windGustTime','sunriseTime','sunsetTime','uvIndexTime','temperatureMinTime',\n",
    "                 'temperatureMaxTime','apparentTemperatureMinTime','temperatureLowTime','apparentTemperatureMaxTime'],axis = 1, inplace=True)\n",
    "\n",
    "X_test.drop(['timestamp','latitude','longitude','product_id','long_summary','apparentTemperatureHighTime','apparentTemperatureLowTime',\n",
    "                  'apparentTemperatureLowTime','windGustTime','sunriseTime','sunsetTime','uvIndexTime','temperatureMinTime',\n",
    "                 'temperatureMaxTime','apparentTemperatureMinTime','temperatureLowTime','apparentTemperatureMaxTime'],axis = 1, inplace=True)"
   ]
  },
  {
   "cell_type": "code",
   "execution_count": 62,
   "metadata": {},
   "outputs": [
    {
     "name": "stdout",
     "output_type": "stream",
     "text": [
      "(510454, 11)\n",
      "(127522, 11)\n"
     ]
    }
   ],
   "source": [
    "print(f'{X_train.shape}')\n",
    "print(f'{X_test.shape}')"
   ]
  },
  {
   "cell_type": "markdown",
   "metadata": {},
   "source": [
    "- Checking correaltion between datetime with price"
   ]
  },
  {
   "cell_type": "code",
   "execution_count": 63,
   "metadata": {},
   "outputs": [
    {
     "data": {
      "text/html": [
       "<div>\n",
       "<style scoped>\n",
       "    .dataframe tbody tr th:only-of-type {\n",
       "        vertical-align: middle;\n",
       "    }\n",
       "\n",
       "    .dataframe tbody tr th {\n",
       "        vertical-align: top;\n",
       "    }\n",
       "\n",
       "    .dataframe thead th {\n",
       "        text-align: right;\n",
       "    }\n",
       "</style>\n",
       "<table border=\"1\" class=\"dataframe\">\n",
       "  <thead>\n",
       "    <tr style=\"text-align: right;\">\n",
       "      <th></th>\n",
       "      <th>price</th>\n",
       "      <th>hour</th>\n",
       "      <th>day</th>\n",
       "      <th>month</th>\n",
       "    </tr>\n",
       "  </thead>\n",
       "  <tbody>\n",
       "    <tr>\n",
       "      <th>128880</th>\n",
       "      <td>38.5</td>\n",
       "      <td>11</td>\n",
       "      <td>1</td>\n",
       "      <td>12</td>\n",
       "    </tr>\n",
       "    <tr>\n",
       "      <th>362718</th>\n",
       "      <td>12.5</td>\n",
       "      <td>14</td>\n",
       "      <td>1</td>\n",
       "      <td>12</td>\n",
       "    </tr>\n",
       "    <tr>\n",
       "      <th>524601</th>\n",
       "      <td>18.5</td>\n",
       "      <td>13</td>\n",
       "      <td>28</td>\n",
       "      <td>11</td>\n",
       "    </tr>\n",
       "    <tr>\n",
       "      <th>420464</th>\n",
       "      <td>9.0</td>\n",
       "      <td>6</td>\n",
       "      <td>13</td>\n",
       "      <td>12</td>\n",
       "    </tr>\n",
       "    <tr>\n",
       "      <th>208847</th>\n",
       "      <td>15.0</td>\n",
       "      <td>2</td>\n",
       "      <td>16</td>\n",
       "      <td>12</td>\n",
       "    </tr>\n",
       "  </tbody>\n",
       "</table>\n",
       "</div>"
      ],
      "text/plain": [
       "        price  hour  day  month\n",
       "128880   38.5    11    1     12\n",
       "362718   12.5    14    1     12\n",
       "524601   18.5    13   28     11\n",
       "420464    9.0     6   13     12\n",
       "208847   15.0     2   16     12"
      ]
     },
     "execution_count": 63,
     "metadata": {},
     "output_type": "execute_result"
    }
   ],
   "source": [
    "df_datetime = pd.concat([X_train, y_train], axis=1)\n",
    "df_datetime = df_datetime[['price','hour','day','month']]\n",
    "df_datetime.head()"
   ]
  },
  {
   "cell_type": "code",
   "execution_count": 64,
   "metadata": {},
   "outputs": [
    {
     "data": {
      "text/html": [
       "<div>\n",
       "<style scoped>\n",
       "    .dataframe tbody tr th:only-of-type {\n",
       "        vertical-align: middle;\n",
       "    }\n",
       "\n",
       "    .dataframe tbody tr th {\n",
       "        vertical-align: top;\n",
       "    }\n",
       "\n",
       "    .dataframe thead th {\n",
       "        text-align: right;\n",
       "    }\n",
       "</style>\n",
       "<table border=\"1\" class=\"dataframe\">\n",
       "  <thead>\n",
       "    <tr style=\"text-align: right;\">\n",
       "      <th></th>\n",
       "      <th>price</th>\n",
       "      <th>hour</th>\n",
       "      <th>day</th>\n",
       "      <th>month</th>\n",
       "    </tr>\n",
       "  </thead>\n",
       "  <tbody>\n",
       "    <tr>\n",
       "      <th>price</th>\n",
       "      <td>1.000000</td>\n",
       "      <td>0.000578</td>\n",
       "      <td>-0.001503</td>\n",
       "      <td>0.001673</td>\n",
       "    </tr>\n",
       "    <tr>\n",
       "      <th>hour</th>\n",
       "      <td>0.000578</td>\n",
       "      <td>1.000000</td>\n",
       "      <td>0.066441</td>\n",
       "      <td>-0.079412</td>\n",
       "    </tr>\n",
       "    <tr>\n",
       "      <th>day</th>\n",
       "      <td>-0.001503</td>\n",
       "      <td>0.066441</td>\n",
       "      <td>1.000000</td>\n",
       "      <td>-0.861131</td>\n",
       "    </tr>\n",
       "    <tr>\n",
       "      <th>month</th>\n",
       "      <td>0.001673</td>\n",
       "      <td>-0.079412</td>\n",
       "      <td>-0.861131</td>\n",
       "      <td>1.000000</td>\n",
       "    </tr>\n",
       "  </tbody>\n",
       "</table>\n",
       "</div>"
      ],
      "text/plain": [
       "          price      hour       day     month\n",
       "price  1.000000  0.000578 -0.001503  0.001673\n",
       "hour   0.000578  1.000000  0.066441 -0.079412\n",
       "day   -0.001503  0.066441  1.000000 -0.861131\n",
       "month  0.001673 -0.079412 -0.861131  1.000000"
      ]
     },
     "execution_count": 64,
     "metadata": {},
     "output_type": "execute_result"
    }
   ],
   "source": [
    "df_datetime.corr()"
   ]
  },
  {
   "cell_type": "markdown",
   "metadata": {},
   "source": [
    "since the datetime columns has weak correlation with price, i decide to drop the columns"
   ]
  },
  {
   "cell_type": "code",
   "execution_count": 65,
   "metadata": {},
   "outputs": [],
   "source": [
    "X_train.drop(df_datetime.columns[1:], axis=1, inplace=True)\n",
    "X_test.drop(df_datetime.columns[1:], axis=1, inplace=True)"
   ]
  },
  {
   "cell_type": "code",
   "execution_count": 66,
   "metadata": {},
   "outputs": [
    {
     "name": "stdout",
     "output_type": "stream",
     "text": [
      "(510454, 8)\n",
      "(127522, 8)\n"
     ]
    }
   ],
   "source": [
    "print(f'{X_train.shape}')\n",
    "print(f'{X_test.shape}')"
   ]
  },
  {
   "cell_type": "code",
   "execution_count": 67,
   "metadata": {},
   "outputs": [
    {
     "data": {
      "text/plain": [
       "Index(['price', 'source', 'destination', 'cab_type', 'name', 'distance',\n",
       "       'surge_multiplier', 'short_summary', 'icon'],\n",
       "      dtype='object')"
      ]
     },
     "execution_count": 67,
     "metadata": {},
     "output_type": "execute_result"
    }
   ],
   "source": [
    "X_train_temp = pd.concat([y_train, X_train], axis=1)\n",
    "X_train_temp.columns"
   ]
  },
  {
   "cell_type": "code",
   "execution_count": 68,
   "metadata": {},
   "outputs": [
    {
     "data": {
      "text/plain": [
       "['source', 'destination', 'cab_type', 'name', 'short_summary', 'icon']"
      ]
     },
     "execution_count": 68,
     "metadata": {},
     "output_type": "execute_result"
    }
   ],
   "source": [
    "cat_col = X_train.select_dtypes(include=object).columns.tolist()\n",
    "cat_col"
   ]
  },
  {
   "cell_type": "code",
   "execution_count": 69,
   "metadata": {},
   "outputs": [
    {
     "data": {
      "text/html": [
       "<div>\n",
       "<style scoped>\n",
       "    .dataframe tbody tr th:only-of-type {\n",
       "        vertical-align: middle;\n",
       "    }\n",
       "\n",
       "    .dataframe tbody tr th {\n",
       "        vertical-align: top;\n",
       "    }\n",
       "\n",
       "    .dataframe thead th {\n",
       "        text-align: right;\n",
       "    }\n",
       "</style>\n",
       "<table border=\"1\" class=\"dataframe\">\n",
       "  <thead>\n",
       "    <tr style=\"text-align: right;\">\n",
       "      <th></th>\n",
       "      <th>price</th>\n",
       "      <th>source</th>\n",
       "      <th>destination</th>\n",
       "      <th>cab_type</th>\n",
       "      <th>name</th>\n",
       "      <th>distance</th>\n",
       "      <th>surge_multiplier</th>\n",
       "      <th>short_summary</th>\n",
       "      <th>icon</th>\n",
       "    </tr>\n",
       "  </thead>\n",
       "  <tbody>\n",
       "    <tr>\n",
       "      <th>128880</th>\n",
       "      <td>38.5</td>\n",
       "      <td>Northeastern University</td>\n",
       "      <td>Financial District</td>\n",
       "      <td>Lyft</td>\n",
       "      <td>Lyft XL</td>\n",
       "      <td>3.05</td>\n",
       "      <td>2.0</td>\n",
       "      <td>Mostly Cloudy</td>\n",
       "      <td>partly-cloudy-night</td>\n",
       "    </tr>\n",
       "    <tr>\n",
       "      <th>362718</th>\n",
       "      <td>12.5</td>\n",
       "      <td>Theatre District</td>\n",
       "      <td>Haymarket Square</td>\n",
       "      <td>Uber</td>\n",
       "      <td>UberXL</td>\n",
       "      <td>1.61</td>\n",
       "      <td>1.0</td>\n",
       "      <td>Partly Cloudy</td>\n",
       "      <td>partly-cloudy-day</td>\n",
       "    </tr>\n",
       "    <tr>\n",
       "      <th>524601</th>\n",
       "      <td>18.5</td>\n",
       "      <td>Boston University</td>\n",
       "      <td>West End</td>\n",
       "      <td>Uber</td>\n",
       "      <td>UberXL</td>\n",
       "      <td>3.04</td>\n",
       "      <td>1.0</td>\n",
       "      <td>Partly Cloudy</td>\n",
       "      <td>partly-cloudy-day</td>\n",
       "    </tr>\n",
       "    <tr>\n",
       "      <th>420464</th>\n",
       "      <td>9.0</td>\n",
       "      <td>North Station</td>\n",
       "      <td>Boston University</td>\n",
       "      <td>Uber</td>\n",
       "      <td>UberPool</td>\n",
       "      <td>3.01</td>\n",
       "      <td>1.0</td>\n",
       "      <td>Clear</td>\n",
       "      <td>clear-night</td>\n",
       "    </tr>\n",
       "    <tr>\n",
       "      <th>208847</th>\n",
       "      <td>15.0</td>\n",
       "      <td>South Station</td>\n",
       "      <td>North Station</td>\n",
       "      <td>Uber</td>\n",
       "      <td>UberXL</td>\n",
       "      <td>2.29</td>\n",
       "      <td>1.0</td>\n",
       "      <td>Partly Cloudy</td>\n",
       "      <td>partly-cloudy-night</td>\n",
       "    </tr>\n",
       "    <tr>\n",
       "      <th>...</th>\n",
       "      <td>...</td>\n",
       "      <td>...</td>\n",
       "      <td>...</td>\n",
       "      <td>...</td>\n",
       "      <td>...</td>\n",
       "      <td>...</td>\n",
       "      <td>...</td>\n",
       "      <td>...</td>\n",
       "      <td>...</td>\n",
       "    </tr>\n",
       "    <tr>\n",
       "      <th>219638</th>\n",
       "      <td>10.5</td>\n",
       "      <td>Theatre District</td>\n",
       "      <td>Fenway</td>\n",
       "      <td>Lyft</td>\n",
       "      <td>Lyft</td>\n",
       "      <td>3.12</td>\n",
       "      <td>1.0</td>\n",
       "      <td>Mostly Cloudy</td>\n",
       "      <td>partly-cloudy-night</td>\n",
       "    </tr>\n",
       "    <tr>\n",
       "      <th>120166</th>\n",
       "      <td>21.5</td>\n",
       "      <td>Beacon Hill</td>\n",
       "      <td>Northeastern University</td>\n",
       "      <td>Uber</td>\n",
       "      <td>Black</td>\n",
       "      <td>2.56</td>\n",
       "      <td>1.0</td>\n",
       "      <td>Mostly Cloudy</td>\n",
       "      <td>partly-cloudy-night</td>\n",
       "    </tr>\n",
       "    <tr>\n",
       "      <th>549220</th>\n",
       "      <td>22.5</td>\n",
       "      <td>Boston University</td>\n",
       "      <td>Beacon Hill</td>\n",
       "      <td>Lyft</td>\n",
       "      <td>Lux Black</td>\n",
       "      <td>2.67</td>\n",
       "      <td>1.0</td>\n",
       "      <td>Mostly Cloudy</td>\n",
       "      <td>partly-cloudy-night</td>\n",
       "    </tr>\n",
       "    <tr>\n",
       "      <th>162752</th>\n",
       "      <td>7.0</td>\n",
       "      <td>Fenway</td>\n",
       "      <td>West End</td>\n",
       "      <td>Lyft</td>\n",
       "      <td>Shared</td>\n",
       "      <td>2.84</td>\n",
       "      <td>1.0</td>\n",
       "      <td>Mostly Cloudy</td>\n",
       "      <td>partly-cloudy-night</td>\n",
       "    </tr>\n",
       "    <tr>\n",
       "      <th>252036</th>\n",
       "      <td>11.5</td>\n",
       "      <td>Boston University</td>\n",
       "      <td>North Station</td>\n",
       "      <td>Uber</td>\n",
       "      <td>WAV</td>\n",
       "      <td>3.41</td>\n",
       "      <td>1.0</td>\n",
       "      <td>Overcast</td>\n",
       "      <td>cloudy</td>\n",
       "    </tr>\n",
       "  </tbody>\n",
       "</table>\n",
       "<p>510454 rows × 9 columns</p>\n",
       "</div>"
      ],
      "text/plain": [
       "        price                   source              destination cab_type  \\\n",
       "128880   38.5  Northeastern University       Financial District     Lyft   \n",
       "362718   12.5         Theatre District         Haymarket Square     Uber   \n",
       "524601   18.5        Boston University                 West End     Uber   \n",
       "420464    9.0            North Station        Boston University     Uber   \n",
       "208847   15.0            South Station            North Station     Uber   \n",
       "...       ...                      ...                      ...      ...   \n",
       "219638   10.5         Theatre District                   Fenway     Lyft   \n",
       "120166   21.5              Beacon Hill  Northeastern University     Uber   \n",
       "549220   22.5        Boston University              Beacon Hill     Lyft   \n",
       "162752    7.0                   Fenway                 West End     Lyft   \n",
       "252036   11.5        Boston University            North Station     Uber   \n",
       "\n",
       "             name  distance  surge_multiplier    short_summary  \\\n",
       "128880    Lyft XL      3.05               2.0   Mostly Cloudy    \n",
       "362718     UberXL      1.61               1.0   Partly Cloudy    \n",
       "524601     UberXL      3.04               1.0   Partly Cloudy    \n",
       "420464   UberPool      3.01               1.0           Clear    \n",
       "208847     UberXL      2.29               1.0   Partly Cloudy    \n",
       "...           ...       ...               ...              ...   \n",
       "219638       Lyft      3.12               1.0   Mostly Cloudy    \n",
       "120166      Black      2.56               1.0   Mostly Cloudy    \n",
       "549220  Lux Black      2.67               1.0   Mostly Cloudy    \n",
       "162752     Shared      2.84               1.0   Mostly Cloudy    \n",
       "252036        WAV      3.41               1.0        Overcast    \n",
       "\n",
       "                         icon  \n",
       "128880   partly-cloudy-night   \n",
       "362718     partly-cloudy-day   \n",
       "524601     partly-cloudy-day   \n",
       "420464           clear-night   \n",
       "208847   partly-cloudy-night   \n",
       "...                       ...  \n",
       "219638   partly-cloudy-night   \n",
       "120166   partly-cloudy-night   \n",
       "549220   partly-cloudy-night   \n",
       "162752   partly-cloudy-night   \n",
       "252036                cloudy   \n",
       "\n",
       "[510454 rows x 9 columns]"
      ]
     },
     "execution_count": 69,
     "metadata": {},
     "output_type": "execute_result"
    }
   ],
   "source": [
    "X_train_temp"
   ]
  },
  {
   "cell_type": "code",
   "execution_count": 70,
   "metadata": {},
   "outputs": [
    {
     "name": "stdout",
     "output_type": "stream",
     "text": [
      "interval columns not set, guessing: ['price', 'distance', 'surge_multiplier']\n"
     ]
    },
    {
     "name": "stderr",
     "output_type": "stream",
     "text": [
      "/Users/ardiansyahputra/anaconda3/lib/python3.11/site-packages/pandas/core/arrays/masked.py:60: UserWarning: Pandas requires version '1.3.6' or newer of 'bottleneck' (version '1.3.5' currently installed).\n",
      "  from pandas.core import (\n",
      "/Users/ardiansyahputra/anaconda3/lib/python3.11/site-packages/pandas/core/arrays/masked.py:60: UserWarning: Pandas requires version '1.3.6' or newer of 'bottleneck' (version '1.3.5' currently installed).\n",
      "  from pandas.core import (\n",
      "/Users/ardiansyahputra/anaconda3/lib/python3.11/site-packages/pandas/core/arrays/masked.py:60: UserWarning: Pandas requires version '1.3.6' or newer of 'bottleneck' (version '1.3.5' currently installed).\n",
      "  from pandas.core import (\n",
      "/Users/ardiansyahputra/anaconda3/lib/python3.11/site-packages/pandas/core/arrays/masked.py:60: UserWarning: Pandas requires version '1.3.6' or newer of 'bottleneck' (version '1.3.5' currently installed).\n",
      "  from pandas.core import (\n"
     ]
    },
    {
     "name": "stdout",
     "output_type": "stream",
     "text": [
      "price               1.000000\n",
      "source              0.159374\n",
      "destination         0.155152\n",
      "cab_type            0.125740\n",
      "name                0.679210\n",
      "distance            0.436066\n",
      "surge_multiplier    0.348648\n",
      "short_summary       0.000000\n",
      "icon                0.000000\n",
      "Name: price, dtype: float64\n"
     ]
    }
   ],
   "source": [
    "correlation_matrix = X_train_temp.phik_matrix()\n",
    "print(correlation_matrix['price'])"
   ]
  },
  {
   "cell_type": "code",
   "execution_count": 71,
   "metadata": {},
   "outputs": [
    {
     "data": {
      "image/png": "[encoded data removed]",
      "text/plain": [
       "<Figure size 1000x800 with 2 Axes>"
      ]
     },
     "metadata": {},
     "output_type": "display_data"
    }
   ],
   "source": [
    "plt.figure(figsize=(10, 8))\n",
    "sns.heatmap(correlation_matrix, annot=True, cmap='coolwarm', vmin=0, vmax=1)\n",
    "plt.title('Phik Correlation Heatmap')\n",
    "plt.show()"
   ]
  },
  {
   "cell_type": "markdown",
   "metadata": {},
   "source": [
    "There are 3 features that have significant correlation with price, which are name, distance, and surge_multiplier. So i decide to drop the rest of features"
   ]
  },
  {
   "cell_type": "code",
   "execution_count": 72,
   "metadata": {},
   "outputs": [],
   "source": [
    "weak_corr_feat = ['source','destination','cab_type','short_summary','icon']\n",
    "X_train.drop(X_train[weak_corr_feat], axis=1, inplace=True)\n",
    "X_test.drop(X_test[weak_corr_feat], axis=1, inplace=True)"
   ]
  },
  {
   "cell_type": "code",
   "execution_count": 73,
   "metadata": {},
   "outputs": [
    {
     "name": "stdout",
     "output_type": "stream",
     "text": [
      "(510454, 3)\n",
      "(127522, 3)\n"
     ]
    }
   ],
   "source": [
    "print(f'{X_train.shape}')\n",
    "print(f'{X_test.shape}')"
   ]
  },
  {
   "cell_type": "markdown",
   "metadata": {},
   "source": [
    "## Splitting Data"
   ]
  },
  {
   "cell_type": "code",
   "execution_count": 74,
   "metadata": {},
   "outputs": [
    {
     "data": {
      "text/plain": [
       "Index(['name', 'distance', 'surge_multiplier'], dtype='object')"
      ]
     },
     "execution_count": 74,
     "metadata": {},
     "output_type": "execute_result"
    }
   ],
   "source": [
    "X_train.columns"
   ]
  },
  {
   "cell_type": "markdown",
   "metadata": {},
   "source": [
    "- Convert surge_multiplier column into catagory datatype"
   ]
  },
  {
   "cell_type": "code",
   "execution_count": 75,
   "metadata": {},
   "outputs": [
    {
     "data": {
      "text/plain": [
       "array([2.  , 1.  , 1.25, 1.5 , 1.75, 2.5 , 3.  ])"
      ]
     },
     "execution_count": 75,
     "metadata": {},
     "output_type": "execute_result"
    }
   ],
   "source": [
    "X_train['surge_multiplier'].unique()"
   ]
  },
  {
   "cell_type": "code",
   "execution_count": 76,
   "metadata": {},
   "outputs": [
    {
     "data": {
      "text/plain": [
       "array([1.25, 1.  , 2.  , 1.5 , 1.75, 2.5 , 3.  ])"
      ]
     },
     "execution_count": 76,
     "metadata": {},
     "output_type": "execute_result"
    }
   ],
   "source": [
    "X_test['surge_multiplier'].unique()"
   ]
  },
  {
   "cell_type": "code",
   "execution_count": 77,
   "metadata": {},
   "outputs": [],
   "source": [
    "cat_type = CategoricalDtype(categories=[1,1.25,1.5,2,2.5,3],ordered=True)\n",
    "\n",
    "invalid_values = X_train[~X_train['surge_multiplier'].isin(cat_type.categories)]\n",
    "if not invalid_values.empty:    \n",
    "    X_train.loc[~X_train['surge_multiplier'].isin(cat_type.categories), 'surge_multiplier'] = 1\n",
    "    \n",
    "    \n",
    "invalid_values_test = X_test[~X_test['surge_multiplier'].isin(cat_type.categories)]\n",
    "if not invalid_values_test.empty:    \n",
    "    X_test.loc[~X_test['surge_multiplier'].isin(cat_type.categories), 'surge_multiplier'] = 1\n",
    "    \n",
    "    \n",
    "X_train['surge_multiplier'] = X_train['surge_multiplier'].astype(cat_type)\n",
    "X_test['surge_multiplier'] = X_test['surge_multiplier'].astype(cat_type)"
   ]
  },
  {
   "cell_type": "code",
   "execution_count": 78,
   "metadata": {},
   "outputs": [],
   "source": [
    "num_cols = X_train.select_dtypes(include=np.number).columns.tolist()\n",
    "cat_cols_nom = X_train.select_dtypes(include=object).columns.tolist()\n",
    "cat_cols_ord = X_train.select_dtypes(include=['category']).columns.tolist()\n",
    "\n",
    "num_cols_test = X_test.select_dtypes(include=np.number).columns.tolist()\n",
    "cat_cols_nom_test = X_test.select_dtypes(include=object).columns.tolist()\n",
    "cat_cols_ord_test = X_test.select_dtypes(include=['category']).columns.tolist()"
   ]
  },
  {
   "cell_type": "code",
   "execution_count": 79,
   "metadata": {},
   "outputs": [
    {
     "name": "stdout",
     "output_type": "stream",
     "text": [
      "numerical columns   : ['distance']\n",
      "categorical columns nominal: ['name']\n",
      "categorical columns ordinal: ['surge_multiplier']\n"
     ]
    }
   ],
   "source": [
    "print(f'numerical columns   : {num_cols}')\n",
    "print(f'categorical columns nominal: {cat_cols_nom}')\n",
    "print(f'categorical columns ordinal: {cat_cols_ord}')"
   ]
  },
  {
   "cell_type": "code",
   "execution_count": 80,
   "metadata": {},
   "outputs": [
    {
     "name": "stdout",
     "output_type": "stream",
     "text": [
      "numerical columns   : ['distance']\n",
      "categorical columns nominal: ['name']\n",
      "categorical columns ordinal: ['surge_multiplier']\n"
     ]
    }
   ],
   "source": [
    "print(f'numerical columns   : {num_cols_test}')\n",
    "print(f'categorical columns nominal: {cat_cols_nom_test}')\n",
    "print(f'categorical columns ordinal: {cat_cols_ord_test}')"
   ]
  },
  {
   "cell_type": "markdown",
   "metadata": {},
   "source": [
    "- assigning a new variable based on relevance feature"
   ]
  },
  {
   "cell_type": "code",
   "execution_count": 81,
   "metadata": {},
   "outputs": [],
   "source": [
    "X_train_num = X_train[num_cols]\n",
    "X_test_num = X_test[num_cols_test]\n",
    "\n",
    "X_train_cat = X_train[cat_cols_nom]\n",
    "X_test_cat = X_test[cat_cols_nom]\n",
    "\n",
    "X_train_cat_ord = X_train[cat_cols_ord]\n",
    "X_test_cat_ord = X_test[cat_cols_ord_test]"
   ]
  },
  {
   "cell_type": "markdown",
   "metadata": {},
   "source": [
    "## Cardinality Check"
   ]
  },
  {
   "cell_type": "code",
   "execution_count": 82,
   "metadata": {},
   "outputs": [
    {
     "name": "stdout",
     "output_type": "stream",
     "text": [
      "name: ['Lyft XL' 'UberXL' 'UberPool' 'Lyft' 'Lux Black' 'WAV' 'Black' 'Shared'\n",
      " 'Black SUV' 'UberX' 'Lux Black XL' 'Lux'] (12)\n",
      "-- name column has high cardinality --\n",
      "\n"
     ]
    }
   ],
   "source": [
    "for column in X_train_cat:\n",
    "    print(f'{column}: {X_train_cat[column].unique()} ({X_train_cat[column].nunique()})')\n",
    "    if X_train_cat[column].nunique() < 10:\n",
    "        print(f'-- {column} column has low cardinality --\\n')\n",
    "    else:\n",
    "        print(f'-- {column} column has high cardinality --\\n')"
   ]
  },
  {
   "cell_type": "markdown",
   "metadata": {},
   "source": [
    "## Feature Scalling"
   ]
  },
  {
   "cell_type": "markdown",
   "metadata": {},
   "source": [
    "- to scale and normalize data to a specific range (0 - 1)"
   ]
  },
  {
   "cell_type": "code",
   "execution_count": 83,
   "metadata": {},
   "outputs": [],
   "source": [
    "scaler = MinMaxScaler()\n",
    "X_train_num_scaled = scaler.fit_transform(X_train_num)\n",
    "X_test_num_scaled = scaler.transform(X_test_num)"
   ]
  },
  {
   "cell_type": "markdown",
   "metadata": {},
   "source": [
    "- converting into pandas dataframe"
   ]
  },
  {
   "cell_type": "code",
   "execution_count": 84,
   "metadata": {},
   "outputs": [],
   "source": [
    "X_train_scaled_df = pd.DataFrame(X_train_num_scaled, columns=num_cols)\n",
    "X_test_scaled_df = pd.DataFrame(X_test_num_scaled, columns=num_cols_test)"
   ]
  },
  {
   "cell_type": "code",
   "execution_count": 85,
   "metadata": {},
   "outputs": [
    {
     "name": "stdout",
     "output_type": "stream",
     "text": [
      "train: [[0.56267409]\n",
      " [0.29526462]\n",
      " [0.56081708]\n",
      " ...\n",
      " [0.49210771]\n",
      " [0.52367688]\n",
      " [0.62952646]]\n",
      "test: [[0.19684308]\n",
      " [0.09470752]\n",
      " [0.25812442]\n",
      " ...\n",
      " [0.14113278]\n",
      " [0.62581244]\n",
      " [0.28783658]]\n"
     ]
    }
   ],
   "source": [
    "print(f'train: {X_train_num_scaled}')\n",
    "print(f'test: {X_test_num_scaled}')"
   ]
  },
  {
   "cell_type": "code",
   "execution_count": 86,
   "metadata": {},
   "outputs": [
    {
     "data": {
      "text/plain": [
       "0"
      ]
     },
     "execution_count": 86,
     "metadata": {},
     "output_type": "execute_result"
    }
   ],
   "source": [
    "np.isnan(X_train_num_scaled).sum()"
   ]
  },
  {
   "cell_type": "code",
   "execution_count": 87,
   "metadata": {},
   "outputs": [
    {
     "data": {
      "text/plain": [
       "0"
      ]
     },
     "execution_count": 87,
     "metadata": {},
     "output_type": "execute_result"
    }
   ],
   "source": [
    "np.isnan(X_test_num_scaled).sum()"
   ]
  },
  {
   "cell_type": "markdown",
   "metadata": {},
   "source": [
    "## Feature Encoding"
   ]
  },
  {
   "cell_type": "markdown",
   "metadata": {},
   "source": [
    "### Ordinal Encoding"
   ]
  },
  {
   "cell_type": "markdown",
   "metadata": {},
   "source": [
    "- checking unique value of ordinal category feature's value"
   ]
  },
  {
   "cell_type": "code",
   "execution_count": 88,
   "metadata": {},
   "outputs": [
    {
     "data": {
      "text/plain": [
       "[2.00, 1.00, 1.25, 1.50, 2.50, 3.00]\n",
       "Categories (6, float64): [1.00 < 1.25 < 1.50 < 2.00 < 2.50 < 3.00]"
      ]
     },
     "execution_count": 88,
     "metadata": {},
     "output_type": "execute_result"
    }
   ],
   "source": [
    "X_train_cat_ord['surge_multiplier'].unique()"
   ]
  },
  {
   "cell_type": "code",
   "execution_count": 89,
   "metadata": {},
   "outputs": [
    {
     "data": {
      "text/plain": [
       "[1.25, 1.00, 2.00, 1.50, 2.50, 3.00]\n",
       "Categories (6, float64): [1.00 < 1.25 < 1.50 < 2.00 < 2.50 < 3.00]"
      ]
     },
     "execution_count": 89,
     "metadata": {},
     "output_type": "execute_result"
    }
   ],
   "source": [
    "X_test_cat_ord['surge_multiplier'].unique()"
   ]
  },
  {
   "cell_type": "markdown",
   "metadata": {},
   "source": [
    "- encoding ordinal category value with OrdinalEncoder()"
   ]
  },
  {
   "cell_type": "code",
   "execution_count": 90,
   "metadata": {},
   "outputs": [],
   "source": [
    "encoder = OrdinalEncoder(categories = [[1. , 1.25, 1.5,2. ,2.5 ,3. ]], handle_unknown='use_encoded_value', unknown_value=-1)\n",
    "encoded_X_train_cat_ord = encoder.fit_transform(X_train_cat_ord)\n",
    "encoded_X_test_cat_ord = encoder.transform(X_test_cat_ord)\n"
   ]
  },
  {
   "cell_type": "markdown",
   "metadata": {},
   "source": [
    "- convert into pandas dataframe"
   ]
  },
  {
   "cell_type": "code",
   "execution_count": 91,
   "metadata": {},
   "outputs": [],
   "source": [
    "X_train_encoded_ord_df = pd.DataFrame(encoded_X_train_cat_ord, columns=cat_cols_ord)\n",
    "X_test_encoded_ord_df = pd.DataFrame(encoded_X_test_cat_ord, columns=cat_cols_ord_test)"
   ]
  },
  {
   "cell_type": "code",
   "execution_count": 92,
   "metadata": {},
   "outputs": [
    {
     "data": {
      "text/plain": [
       "array([1., 0., 3., 2., 4., 5.])"
      ]
     },
     "execution_count": 92,
     "metadata": {},
     "output_type": "execute_result"
    }
   ],
   "source": [
    "X_test_encoded_ord_df['surge_multiplier'].unique()"
   ]
  },
  {
   "cell_type": "markdown",
   "metadata": {},
   "source": [
    "- checking missing value after encoded"
   ]
  },
  {
   "cell_type": "code",
   "execution_count": 93,
   "metadata": {},
   "outputs": [
    {
     "data": {
      "text/plain": [
       "0"
      ]
     },
     "execution_count": 93,
     "metadata": {},
     "output_type": "execute_result"
    }
   ],
   "source": [
    "np.isnan(encoded_X_train_cat_ord).sum()"
   ]
  },
  {
   "cell_type": "code",
   "execution_count": 94,
   "metadata": {},
   "outputs": [
    {
     "data": {
      "text/plain": [
       "0"
      ]
     },
     "execution_count": 94,
     "metadata": {},
     "output_type": "execute_result"
    }
   ],
   "source": [
    "np.isnan(encoded_X_test_cat_ord).sum()"
   ]
  },
  {
   "cell_type": "markdown",
   "metadata": {},
   "source": [
    "### Nominal Encoding (One Hot Encoding)"
   ]
  },
  {
   "cell_type": "markdown",
   "metadata": {},
   "source": [
    "- encoding nominal categorical data type with OneHotEncoder()"
   ]
  },
  {
   "cell_type": "code",
   "execution_count": 95,
   "metadata": {},
   "outputs": [],
   "source": [
    "ohe = OneHotEncoder(handle_unknown='ignore')\n",
    "encoded_X_train_cat = ohe.fit_transform(X_train_cat).toarray()\n",
    "encoded_X_test_cat = ohe.transform(X_test_cat).toarray()"
   ]
  },
  {
   "cell_type": "markdown",
   "metadata": {},
   "source": [
    "- get features name after encoded the feature selected"
   ]
  },
  {
   "cell_type": "code",
   "execution_count": 96,
   "metadata": {},
   "outputs": [],
   "source": [
    "feature_names_train = ohe.get_feature_names_out(input_features=X_train_cat.columns)\n",
    "feature_names_test = ohe.get_feature_names_out(input_features=X_test_cat.columns)"
   ]
  },
  {
   "cell_type": "markdown",
   "metadata": {},
   "source": [
    "- convert into pandas dataframe"
   ]
  },
  {
   "cell_type": "code",
   "execution_count": 97,
   "metadata": {},
   "outputs": [],
   "source": [
    "X_train_encoded_df = pd.DataFrame(encoded_X_train_cat, columns=feature_names_train)\n",
    "X_test_encoded_df = pd.DataFrame(encoded_X_test_cat, columns=feature_names_test)"
   ]
  },
  {
   "cell_type": "markdown",
   "metadata": {},
   "source": [
    "- make sure that there is no missing value"
   ]
  },
  {
   "cell_type": "code",
   "execution_count": 98,
   "metadata": {},
   "outputs": [
    {
     "data": {
      "text/plain": [
       "0"
      ]
     },
     "execution_count": 98,
     "metadata": {},
     "output_type": "execute_result"
    }
   ],
   "source": [
    "np.isnan(encoded_X_train_cat).sum()"
   ]
  },
  {
   "cell_type": "code",
   "execution_count": 99,
   "metadata": {},
   "outputs": [
    {
     "data": {
      "text/plain": [
       "0"
      ]
     },
     "execution_count": 99,
     "metadata": {},
     "output_type": "execute_result"
    }
   ],
   "source": [
    "np.isnan(encoded_X_test_cat).sum()"
   ]
  },
  {
   "cell_type": "markdown",
   "metadata": {},
   "source": [
    "### Concatenate Dataset"
   ]
  },
  {
   "cell_type": "markdown",
   "metadata": {},
   "source": [
    "- concate numpy array"
   ]
  },
  {
   "cell_type": "code",
   "execution_count": 100,
   "metadata": {},
   "outputs": [],
   "source": [
    "X_train_final = np.concatenate([X_train_num_scaled, encoded_X_train_cat, encoded_X_train_cat_ord], axis = 1)\n",
    "X_test_final = np.concatenate([X_test_num_scaled, encoded_X_test_cat, encoded_X_test_cat_ord], axis = 1)"
   ]
  },
  {
   "cell_type": "markdown",
   "metadata": {},
   "source": [
    "- converting into pandas dataframe by concating those 3 dataframe coverted"
   ]
  },
  {
   "cell_type": "code",
   "execution_count": 101,
   "metadata": {},
   "outputs": [],
   "source": [
    "X_train_final = pd.concat([X_train_scaled_df,X_train_encoded_df,X_train_encoded_ord_df], axis=1)\n",
    "X_test_final = pd.concat([X_test_scaled_df,X_test_encoded_df,X_test_encoded_ord_df], axis=1)"
   ]
  },
  {
   "cell_type": "markdown",
   "metadata": {},
   "source": [
    "# 6. Model Definition"
   ]
  },
  {
   "cell_type": "code",
   "execution_count": 102,
   "metadata": {},
   "outputs": [],
   "source": [
    "model = LinearRegression()"
   ]
  },
  {
   "cell_type": "markdown",
   "metadata": {},
   "source": [
    "*Deciding to use Linear regression due the main target variable is price which has numerical datatype (continuous). The objective is to predict the relationship between ride-hailing prices and features such as distance, surge multiplier, etc. Evaluating the model using mean absolute error and R2 score metrics.*"
   ]
  },
  {
   "cell_type": "markdown",
   "metadata": {},
   "source": [
    "# 7. Model Training"
   ]
  },
  {
   "cell_type": "code",
   "execution_count": 103,
   "metadata": {},
   "outputs": [
    {
     "data": {
      "text/html": [
       "<style>#sk-container-id-1 {\n",
       "  /* Definition of color scheme common for light and dark mode */\n",
       "  --sklearn-color-text: black;\n",
       "  --sklearn-color-line: gray;\n",
       "  /* Definition of color scheme for unfitted estimators */\n",
       "  --sklearn-color-unfitted-level-0: #fff5e6;\n",
       "  --sklearn-color-unfitted-level-1: #f6e4d2;\n",
       "  --sklearn-color-unfitted-level-2: #ffe0b3;\n",
       "  --sklearn-color-unfitted-level-3: chocolate;\n",
       "  /* Definition of color scheme for fitted estimators */\n",
       "  --sklearn-color-fitted-level-0: #f0f8ff;\n",
       "  --sklearn-color-fitted-level-1: #d4ebff;\n",
       "  --sklearn-color-fitted-level-2: #b3dbfd;\n",
       "  --sklearn-color-fitted-level-3: cornflowerblue;\n",
       "\n",
       "  /* Specific color for light theme */\n",
       "  --sklearn-color-text-on-default-background: var(--sg-text-color, var(--theme-code-foreground, var(--jp-content-font-color1, black)));\n",
       "  --sklearn-color-background: var(--sg-background-color, var(--theme-background, var(--jp-layout-color0, white)));\n",
       "  --sklearn-color-border-box: var(--sg-text-color, var(--theme-code-foreground, var(--jp-content-font-color1, black)));\n",
       "  --sklearn-color-icon: #696969;\n",
       "\n",
       "  @media (prefers-color-scheme: dark) {\n",
       "    /* Redefinition of color scheme for dark theme */\n",
       "    --sklearn-color-text-on-default-background: var(--sg-text-color, var(--theme-code-foreground, var(--jp-content-font-color1, white)));\n",
       "    --sklearn-color-background: var(--sg-background-color, var(--theme-background, var(--jp-layout-color0, #111)));\n",
       "    --sklearn-color-border-box: var(--sg-text-color, var(--theme-code-foreground, var(--jp-content-font-color1, white)));\n",
       "    --sklearn-color-icon: #878787;\n",
       "  }\n",
       "}\n",
       "\n",
       "#sk-container-id-1 {\n",
       "  color: var(--sklearn-color-text);\n",
       "}\n",
       "\n",
       "#sk-container-id-1 pre {\n",
       "  padding: 0;\n",
       "}\n",
       "\n",
       "#sk-container-id-1 input.sk-hidden--visually {\n",
       "  border: 0;\n",
       "  clip: rect(1px 1px 1px 1px);\n",
       "  clip: rect(1px, 1px, 1px, 1px);\n",
       "  height: 1px;\n",
       "  margin: -1px;\n",
       "  overflow: hidden;\n",
       "  padding: 0;\n",
       "  position: absolute;\n",
       "  width: 1px;\n",
       "}\n",
       "\n",
       "#sk-container-id-1 div.sk-dashed-wrapped {\n",
       "  border: 1px dashed var(--sklearn-color-line);\n",
       "  margin: 0 0.4em 0.5em 0.4em;\n",
       "  box-sizing: border-box;\n",
       "  padding-bottom: 0.4em;\n",
       "  background-color: var(--sklearn-color-background);\n",
       "}\n",
       "\n",
       "#sk-container-id-1 div.sk-container {\n",
       "  /* jupyter's `normalize.less` sets `[hidden] { display: none; }`\n",
       "     but bootstrap.min.css set `[hidden] { display: none !important; }`\n",
       "     so we also need the `!important` here to be able to override the\n",
       "     default hidden behavior on the sphinx rendered scikit-learn.org.\n",
       "     See: https://github.com/scikit-learn/scikit-learn/issues/21755 */\n",
       "  display: inline-block !important;\n",
       "  position: relative;\n",
       "}\n",
       "\n",
       "#sk-container-id-1 div.sk-text-repr-fallback {\n",
       "  display: none;\n",
       "}\n",
       "\n",
       "div.sk-parallel-item,\n",
       "div.sk-serial,\n",
       "div.sk-item {\n",
       "  /* draw centered vertical line to link estimators */\n",
       "  background-image: linear-gradient(var(--sklearn-color-text-on-default-background), var(--sklearn-color-text-on-default-background));\n",
       "  background-size: 2px 100%;\n",
       "  background-repeat: no-repeat;\n",
       "  background-position: center center;\n",
       "}\n",
       "\n",
       "/* Parallel-specific style estimator block */\n",
       "\n",
       "#sk-container-id-1 div.sk-parallel-item::after {\n",
       "  content: \"\";\n",
       "  width: 100%;\n",
       "  border-bottom: 2px solid var(--sklearn-color-text-on-default-background);\n",
       "  flex-grow: 1;\n",
       "}\n",
       "\n",
       "#sk-container-id-1 div.sk-parallel {\n",
       "  display: flex;\n",
       "  align-items: stretch;\n",
       "  justify-content: center;\n",
       "  background-color: var(--sklearn-color-background);\n",
       "  position: relative;\n",
       "}\n",
       "\n",
       "#sk-container-id-1 div.sk-parallel-item {\n",
       "  display: flex;\n",
       "  flex-direction: column;\n",
       "}\n",
       "\n",
       "#sk-container-id-1 div.sk-parallel-item:first-child::after {\n",
       "  align-self: flex-end;\n",
       "  width: 50%;\n",
       "}\n",
       "\n",
       "#sk-container-id-1 div.sk-parallel-item:last-child::after {\n",
       "  align-self: flex-start;\n",
       "  width: 50%;\n",
       "}\n",
       "\n",
       "#sk-container-id-1 div.sk-parallel-item:only-child::after {\n",
       "  width: 0;\n",
       "}\n",
       "\n",
       "/* Serial-specific style estimator block */\n",
       "\n",
       "#sk-container-id-1 div.sk-serial {\n",
       "  display: flex;\n",
       "  flex-direction: column;\n",
       "  align-items: center;\n",
       "  background-color: var(--sklearn-color-background);\n",
       "  padding-right: 1em;\n",
       "  padding-left: 1em;\n",
       "}\n",
       "\n",
       "\n",
       "/* Toggleable style: style used for estimator/Pipeline/ColumnTransformer box that is\n",
       "clickable and can be expanded/collapsed.\n",
       "- Pipeline and ColumnTransformer use this feature and define the default style\n",
       "- Estimators will overwrite some part of the style using the `sk-estimator` class\n",
       "*/\n",
       "\n",
       "/* Pipeline and ColumnTransformer style (default) */\n",
       "\n",
       "#sk-container-id-1 div.sk-toggleable {\n",
       "  /* Default theme specific background. It is overwritten whether we have a\n",
       "  specific estimator or a Pipeline/ColumnTransformer */\n",
       "  background-color: var(--sklearn-color-background);\n",
       "}\n",
       "\n",
       "/* Toggleable label */\n",
       "#sk-container-id-1 label.sk-toggleable__label {\n",
       "  cursor: pointer;\n",
       "  display: block;\n",
       "  width: 100%;\n",
       "  margin-bottom: 0;\n",
       "  padding: 0.5em;\n",
       "  box-sizing: border-box;\n",
       "  text-align: center;\n",
       "}\n",
       "\n",
       "#sk-container-id-1 label.sk-toggleable__label-arrow:before {\n",
       "  /* Arrow on the left of the label */\n",
       "  content: \"▸\";\n",
       "  float: left;\n",
       "  margin-right: 0.25em;\n",
       "  color: var(--sklearn-color-icon);\n",
       "}\n",
       "\n",
       "#sk-container-id-1 label.sk-toggleable__label-arrow:hover:before {\n",
       "  color: var(--sklearn-color-text);\n",
       "}\n",
       "\n",
       "/* Toggleable content - dropdown */\n",
       "\n",
       "#sk-container-id-1 div.sk-toggleable__content {\n",
       "  max-height: 0;\n",
       "  max-width: 0;\n",
       "  overflow: hidden;\n",
       "  text-align: left;\n",
       "  /* unfitted */\n",
       "  background-color: var(--sklearn-color-unfitted-level-0);\n",
       "}\n",
       "\n",
       "#sk-container-id-1 div.sk-toggleable__content.fitted {\n",
       "  /* fitted */\n",
       "  background-color: var(--sklearn-color-fitted-level-0);\n",
       "}\n",
       "\n",
       "#sk-container-id-1 div.sk-toggleable__content pre {\n",
       "  margin: 0.2em;\n",
       "  border-radius: 0.25em;\n",
       "  color: var(--sklearn-color-text);\n",
       "  /* unfitted */\n",
       "  background-color: var(--sklearn-color-unfitted-level-0);\n",
       "}\n",
       "\n",
       "#sk-container-id-1 div.sk-toggleable__content.fitted pre {\n",
       "  /* unfitted */\n",
       "  background-color: var(--sklearn-color-fitted-level-0);\n",
       "}\n",
       "\n",
       "#sk-container-id-1 input.sk-toggleable__control:checked~div.sk-toggleable__content {\n",
       "  /* Expand drop-down */\n",
       "  max-height: 200px;\n",
       "  max-width: 100%;\n",
       "  overflow: auto;\n",
       "}\n",
       "\n",
       "#sk-container-id-1 input.sk-toggleable__control:checked~label.sk-toggleable__label-arrow:before {\n",
       "  content: \"▾\";\n",
       "}\n",
       "\n",
       "/* Pipeline/ColumnTransformer-specific style */\n",
       "\n",
       "#sk-container-id-1 div.sk-label input.sk-toggleable__control:checked~label.sk-toggleable__label {\n",
       "  color: var(--sklearn-color-text);\n",
       "  background-color: var(--sklearn-color-unfitted-level-2);\n",
       "}\n",
       "\n",
       "#sk-container-id-1 div.sk-label.fitted input.sk-toggleable__control:checked~label.sk-toggleable__label {\n",
       "  background-color: var(--sklearn-color-fitted-level-2);\n",
       "}\n",
       "\n",
       "/* Estimator-specific style */\n",
       "\n",
       "/* Colorize estimator box */\n",
       "#sk-container-id-1 div.sk-estimator input.sk-toggleable__control:checked~label.sk-toggleable__label {\n",
       "  /* unfitted */\n",
       "  background-color: var(--sklearn-color-unfitted-level-2);\n",
       "}\n",
       "\n",
       "#sk-container-id-1 div.sk-estimator.fitted input.sk-toggleable__control:checked~label.sk-toggleable__label {\n",
       "  /* fitted */\n",
       "  background-color: var(--sklearn-color-fitted-level-2);\n",
       "}\n",
       "\n",
       "#sk-container-id-1 div.sk-label label.sk-toggleable__label,\n",
       "#sk-container-id-1 div.sk-label label {\n",
       "  /* The background is the default theme color */\n",
       "  color: var(--sklearn-color-text-on-default-background);\n",
       "}\n",
       "\n",
       "/* On hover, darken the color of the background */\n",
       "#sk-container-id-1 div.sk-label:hover label.sk-toggleable__label {\n",
       "  color: var(--sklearn-color-text);\n",
       "  background-color: var(--sklearn-color-unfitted-level-2);\n",
       "}\n",
       "\n",
       "/* Label box, darken color on hover, fitted */\n",
       "#sk-container-id-1 div.sk-label.fitted:hover label.sk-toggleable__label.fitted {\n",
       "  color: var(--sklearn-color-text);\n",
       "  background-color: var(--sklearn-color-fitted-level-2);\n",
       "}\n",
       "\n",
       "/* Estimator label */\n",
       "\n",
       "#sk-container-id-1 div.sk-label label {\n",
       "  font-family: monospace;\n",
       "  font-weight: bold;\n",
       "  display: inline-block;\n",
       "  line-height: 1.2em;\n",
       "}\n",
       "\n",
       "#sk-container-id-1 div.sk-label-container {\n",
       "  text-align: center;\n",
       "}\n",
       "\n",
       "/* Estimator-specific */\n",
       "#sk-container-id-1 div.sk-estimator {\n",
       "  font-family: monospace;\n",
       "  border: 1px dotted var(--sklearn-color-border-box);\n",
       "  border-radius: 0.25em;\n",
       "  box-sizing: border-box;\n",
       "  margin-bottom: 0.5em;\n",
       "  /* unfitted */\n",
       "  background-color: var(--sklearn-color-unfitted-level-0);\n",
       "}\n",
       "\n",
       "#sk-container-id-1 div.sk-estimator.fitted {\n",
       "  /* fitted */\n",
       "  background-color: var(--sklearn-color-fitted-level-0);\n",
       "}\n",
       "\n",
       "/* on hover */\n",
       "#sk-container-id-1 div.sk-estimator:hover {\n",
       "  /* unfitted */\n",
       "  background-color: var(--sklearn-color-unfitted-level-2);\n",
       "}\n",
       "\n",
       "#sk-container-id-1 div.sk-estimator.fitted:hover {\n",
       "  /* fitted */\n",
       "  background-color: var(--sklearn-color-fitted-level-2);\n",
       "}\n",
       "\n",
       "/* Specification for estimator info (e.g. \"i\" and \"?\") */\n",
       "\n",
       "/* Common style for \"i\" and \"?\" */\n",
       "\n",
       ".sk-estimator-doc-link,\n",
       "a:link.sk-estimator-doc-link,\n",
       "a:visited.sk-estimator-doc-link {\n",
       "  float: right;\n",
       "  font-size: smaller;\n",
       "  line-height: 1em;\n",
       "  font-family: monospace;\n",
       "  background-color: var(--sklearn-color-background);\n",
       "  border-radius: 1em;\n",
       "  height: 1em;\n",
       "  width: 1em;\n",
       "  text-decoration: none !important;\n",
       "  margin-left: 1ex;\n",
       "  /* unfitted */\n",
       "  border: var(--sklearn-color-unfitted-level-1) 1pt solid;\n",
       "  color: var(--sklearn-color-unfitted-level-1);\n",
       "}\n",
       "\n",
       ".sk-estimator-doc-link.fitted,\n",
       "a:link.sk-estimator-doc-link.fitted,\n",
       "a:visited.sk-estimator-doc-link.fitted {\n",
       "  /* fitted */\n",
       "  border: var(--sklearn-color-fitted-level-1) 1pt solid;\n",
       "  color: var(--sklearn-color-fitted-level-1);\n",
       "}\n",
       "\n",
       "/* On hover */\n",
       "div.sk-estimator:hover .sk-estimator-doc-link:hover,\n",
       ".sk-estimator-doc-link:hover,\n",
       "div.sk-label-container:hover .sk-estimator-doc-link:hover,\n",
       ".sk-estimator-doc-link:hover {\n",
       "  /* unfitted */\n",
       "  background-color: var(--sklearn-color-unfitted-level-3);\n",
       "  color: var(--sklearn-color-background);\n",
       "  text-decoration: none;\n",
       "}\n",
       "\n",
       "div.sk-estimator.fitted:hover .sk-estimator-doc-link.fitted:hover,\n",
       ".sk-estimator-doc-link.fitted:hover,\n",
       "div.sk-label-container:hover .sk-estimator-doc-link.fitted:hover,\n",
       ".sk-estimator-doc-link.fitted:hover {\n",
       "  /* fitted */\n",
       "  background-color: var(--sklearn-color-fitted-level-3);\n",
       "  color: var(--sklearn-color-background);\n",
       "  text-decoration: none;\n",
       "}\n",
       "\n",
       "/* Span, style for the box shown on hovering the info icon */\n",
       ".sk-estimator-doc-link span {\n",
       "  display: none;\n",
       "  z-index: 9999;\n",
       "  position: relative;\n",
       "  font-weight: normal;\n",
       "  right: .2ex;\n",
       "  padding: .5ex;\n",
       "  margin: .5ex;\n",
       "  width: min-content;\n",
       "  min-width: 20ex;\n",
       "  max-width: 50ex;\n",
       "  color: var(--sklearn-color-text);\n",
       "  box-shadow: 2pt 2pt 4pt #999;\n",
       "  /* unfitted */\n",
       "  background: var(--sklearn-color-unfitted-level-0);\n",
       "  border: .5pt solid var(--sklearn-color-unfitted-level-3);\n",
       "}\n",
       "\n",
       ".sk-estimator-doc-link.fitted span {\n",
       "  /* fitted */\n",
       "  background: var(--sklearn-color-fitted-level-0);\n",
       "  border: var(--sklearn-color-fitted-level-3);\n",
       "}\n",
       "\n",
       ".sk-estimator-doc-link:hover span {\n",
       "  display: block;\n",
       "}\n",
       "\n",
       "/* \"?\"-specific style due to the `<a>` HTML tag */\n",
       "\n",
       "#sk-container-id-1 a.estimator_doc_link {\n",
       "  float: right;\n",
       "  font-size: 1rem;\n",
       "  line-height: 1em;\n",
       "  font-family: monospace;\n",
       "  background-color: var(--sklearn-color-background);\n",
       "  border-radius: 1rem;\n",
       "  height: 1rem;\n",
       "  width: 1rem;\n",
       "  text-decoration: none;\n",
       "  /* unfitted */\n",
       "  color: var(--sklearn-color-unfitted-level-1);\n",
       "  border: var(--sklearn-color-unfitted-level-1) 1pt solid;\n",
       "}\n",
       "\n",
       "#sk-container-id-1 a.estimator_doc_link.fitted {\n",
       "  /* fitted */\n",
       "  border: var(--sklearn-color-fitted-level-1) 1pt solid;\n",
       "  color: var(--sklearn-color-fitted-level-1);\n",
       "}\n",
       "\n",
       "/* On hover */\n",
       "#sk-container-id-1 a.estimator_doc_link:hover {\n",
       "  /* unfitted */\n",
       "  background-color: var(--sklearn-color-unfitted-level-3);\n",
       "  color: var(--sklearn-color-background);\n",
       "  text-decoration: none;\n",
       "}\n",
       "\n",
       "#sk-container-id-1 a.estimator_doc_link.fitted:hover {\n",
       "  /* fitted */\n",
       "  background-color: var(--sklearn-color-fitted-level-3);\n",
       "}\n",
       "</style><div id=\"sk-container-id-1\" class=\"sk-top-container\"><div class=\"sk-text-repr-fallback\"><pre>LinearRegression()</pre><b>In a Jupyter environment, please rerun this cell to show the HTML representation or trust the notebook. <br />On GitHub, the HTML representation is unable to render, please try loading this page with nbviewer.org.</b></div><div class=\"sk-container\" hidden><div class=\"sk-item\"><div class=\"sk-estimator fitted sk-toggleable\"><input class=\"sk-toggleable__control sk-hidden--visually\" id=\"sk-estimator-id-1\" type=\"checkbox\" checked><label for=\"sk-estimator-id-1\" class=\"sk-toggleable__label fitted sk-toggleable__label-arrow fitted\">&nbsp;&nbsp;LinearRegression<a class=\"sk-estimator-doc-link fitted\" rel=\"noreferrer\" target=\"_blank\" href=\"https://scikit-learn.org/1.5/modules/generated/sklearn.linear_model.LinearRegression.html\">?<span>Documentation for LinearRegression</span></a><span class=\"sk-estimator-doc-link fitted\">i<span>Fitted</span></span></label><div class=\"sk-toggleable__content fitted\"><pre>LinearRegression()</pre></div> </div></div></div></div>"
      ],
      "text/plain": [
       "LinearRegression()"
      ]
     },
     "execution_count": 103,
     "metadata": {},
     "output_type": "execute_result"
    }
   ],
   "source": [
    "model.fit(X_train_final, y_train)"
   ]
  },
  {
   "cell_type": "code",
   "execution_count": 104,
   "metadata": {},
   "outputs": [
    {
     "name": "stdout",
     "output_type": "stream",
     "text": [
      "Intercept: [2.29323465e+13]\n",
      "Slope: [ 1.55558243e+01 -2.29323465e+13 -2.29323465e+13 -2.29323465e+13\n",
      " -2.29323465e+13 -2.29323465e+13 -2.29323465e+13 -2.29323465e+13\n",
      " -2.29323465e+13 -2.29323465e+13 -2.29323465e+13 -2.29323465e+13\n",
      " -2.29323465e+13  5.18750000e+00]\n"
     ]
    },
    {
     "data": {
      "text/html": [
       "<div>\n",
       "<style scoped>\n",
       "    .dataframe tbody tr th:only-of-type {\n",
       "        vertical-align: middle;\n",
       "    }\n",
       "\n",
       "    .dataframe tbody tr th {\n",
       "        vertical-align: top;\n",
       "    }\n",
       "\n",
       "    .dataframe thead th {\n",
       "        text-align: right;\n",
       "    }\n",
       "</style>\n",
       "<table border=\"1\" class=\"dataframe\">\n",
       "  <thead>\n",
       "    <tr style=\"text-align: right;\">\n",
       "      <th></th>\n",
       "      <th>feature</th>\n",
       "      <th>slope</th>\n",
       "    </tr>\n",
       "  </thead>\n",
       "  <tbody>\n",
       "    <tr>\n",
       "      <th>0</th>\n",
       "      <td>distance</td>\n",
       "      <td>1.555582e+01</td>\n",
       "    </tr>\n",
       "    <tr>\n",
       "      <th>1</th>\n",
       "      <td>name_Black</td>\n",
       "      <td>-2.293235e+13</td>\n",
       "    </tr>\n",
       "    <tr>\n",
       "      <th>2</th>\n",
       "      <td>name_Black SUV</td>\n",
       "      <td>-2.293235e+13</td>\n",
       "    </tr>\n",
       "    <tr>\n",
       "      <th>3</th>\n",
       "      <td>name_Lux</td>\n",
       "      <td>-2.293235e+13</td>\n",
       "    </tr>\n",
       "    <tr>\n",
       "      <th>4</th>\n",
       "      <td>name_Lux Black</td>\n",
       "      <td>-2.293235e+13</td>\n",
       "    </tr>\n",
       "    <tr>\n",
       "      <th>5</th>\n",
       "      <td>name_Lux Black XL</td>\n",
       "      <td>-2.293235e+13</td>\n",
       "    </tr>\n",
       "    <tr>\n",
       "      <th>6</th>\n",
       "      <td>name_Lyft</td>\n",
       "      <td>-2.293235e+13</td>\n",
       "    </tr>\n",
       "    <tr>\n",
       "      <th>7</th>\n",
       "      <td>name_Lyft XL</td>\n",
       "      <td>-2.293235e+13</td>\n",
       "    </tr>\n",
       "    <tr>\n",
       "      <th>8</th>\n",
       "      <td>name_Shared</td>\n",
       "      <td>-2.293235e+13</td>\n",
       "    </tr>\n",
       "    <tr>\n",
       "      <th>9</th>\n",
       "      <td>name_UberPool</td>\n",
       "      <td>-2.293235e+13</td>\n",
       "    </tr>\n",
       "    <tr>\n",
       "      <th>10</th>\n",
       "      <td>name_UberX</td>\n",
       "      <td>-2.293235e+13</td>\n",
       "    </tr>\n",
       "    <tr>\n",
       "      <th>11</th>\n",
       "      <td>name_UberXL</td>\n",
       "      <td>-2.293235e+13</td>\n",
       "    </tr>\n",
       "    <tr>\n",
       "      <th>12</th>\n",
       "      <td>name_WAV</td>\n",
       "      <td>-2.293235e+13</td>\n",
       "    </tr>\n",
       "    <tr>\n",
       "      <th>13</th>\n",
       "      <td>surge_multiplier</td>\n",
       "      <td>5.187500e+00</td>\n",
       "    </tr>\n",
       "  </tbody>\n",
       "</table>\n",
       "</div>"
      ],
      "text/plain": [
       "              feature         slope\n",
       "0            distance  1.555582e+01\n",
       "1          name_Black -2.293235e+13\n",
       "2      name_Black SUV -2.293235e+13\n",
       "3            name_Lux -2.293235e+13\n",
       "4      name_Lux Black -2.293235e+13\n",
       "5   name_Lux Black XL -2.293235e+13\n",
       "6           name_Lyft -2.293235e+13\n",
       "7        name_Lyft XL -2.293235e+13\n",
       "8         name_Shared -2.293235e+13\n",
       "9       name_UberPool -2.293235e+13\n",
       "10         name_UberX -2.293235e+13\n",
       "11        name_UberXL -2.293235e+13\n",
       "12           name_WAV -2.293235e+13\n",
       "13   surge_multiplier  5.187500e+00"
      ]
     },
     "execution_count": 104,
     "metadata": {},
     "output_type": "execute_result"
    }
   ],
   "source": [
    "intercept = model.intercept_\n",
    "slope = model.coef_.ravel() \n",
    "\n",
    "params = {\n",
    "    'feature': X_train_final.columns[:len(slope)], \n",
    "    'slope': slope.tolist() \n",
    "}\n",
    "\n",
    "print(f'Intercept: {intercept}')\n",
    "print(f'Slope: {slope}')\n",
    "\n",
    "pd.DataFrame(params)\n"
   ]
  },
  {
   "cell_type": "markdown",
   "metadata": {},
   "source": [
    "__Insight:__\n",
    "\n",
    "*The huge number of intercept, approximately 2.29e+13, indicates the 'baseline' prediction when all features are 0. The slope (coefficient) reflects the effect (weight) of each feature on the predicted price. The coefficient of the distance feature, 15.56, signifies a positive influence on the price prediction. The large negative coefficients (-2.29e+13) for other features suggest potential issues with their scaling in the model, requiring further review and processing. The coefficient for the last feature, surge_multiplier, at 5.19, indicates an additional positive influence on the price prediction.*"
   ]
  },
  {
   "cell_type": "markdown",
   "metadata": {},
   "source": [
    "# 8. Model Evaluation"
   ]
  },
  {
   "cell_type": "code",
   "execution_count": 105,
   "metadata": {},
   "outputs": [
    {
     "data": {
      "text/plain": [
       "array([[32.7890625 ],\n",
       "       [14.05078125],\n",
       "       [18.1796875 ],\n",
       "       ...,\n",
       "       [23.890625  ],\n",
       "       [ 7.91796875],\n",
       "       [13.33984375]])"
      ]
     },
     "execution_count": 105,
     "metadata": {},
     "output_type": "execute_result"
    }
   ],
   "source": [
    "y_pred_train = model.predict(X_train_final)\n",
    "y_pred_test = model.predict(X_test_final)\n",
    "y_pred_train"
   ]
  },
  {
   "cell_type": "code",
   "execution_count": 106,
   "metadata": {},
   "outputs": [
    {
     "data": {
      "text/html": [
       "<div>\n",
       "<style scoped>\n",
       "    .dataframe tbody tr th:only-of-type {\n",
       "        vertical-align: middle;\n",
       "    }\n",
       "\n",
       "    .dataframe tbody tr th {\n",
       "        vertical-align: top;\n",
       "    }\n",
       "\n",
       "    .dataframe thead th {\n",
       "        text-align: right;\n",
       "    }\n",
       "</style>\n",
       "<table border=\"1\" class=\"dataframe\">\n",
       "  <thead>\n",
       "    <tr style=\"text-align: right;\">\n",
       "      <th></th>\n",
       "      <th>distance</th>\n",
       "      <th>name_Black</th>\n",
       "      <th>name_Black SUV</th>\n",
       "      <th>name_Lux</th>\n",
       "      <th>name_Lux Black</th>\n",
       "      <th>name_Lux Black XL</th>\n",
       "      <th>name_Lyft</th>\n",
       "      <th>name_Lyft XL</th>\n",
       "      <th>name_Shared</th>\n",
       "      <th>name_UberPool</th>\n",
       "      <th>name_UberX</th>\n",
       "      <th>name_UberXL</th>\n",
       "      <th>name_WAV</th>\n",
       "      <th>surge_multiplier</th>\n",
       "    </tr>\n",
       "  </thead>\n",
       "  <tbody>\n",
       "    <tr>\n",
       "      <th>0</th>\n",
       "      <td>0.562674</td>\n",
       "      <td>0.0</td>\n",
       "      <td>0.0</td>\n",
       "      <td>0.0</td>\n",
       "      <td>0.0</td>\n",
       "      <td>0.0</td>\n",
       "      <td>0.0</td>\n",
       "      <td>1.0</td>\n",
       "      <td>0.0</td>\n",
       "      <td>0.0</td>\n",
       "      <td>0.0</td>\n",
       "      <td>0.0</td>\n",
       "      <td>0.0</td>\n",
       "      <td>3.0</td>\n",
       "    </tr>\n",
       "    <tr>\n",
       "      <th>1</th>\n",
       "      <td>0.295265</td>\n",
       "      <td>0.0</td>\n",
       "      <td>0.0</td>\n",
       "      <td>0.0</td>\n",
       "      <td>0.0</td>\n",
       "      <td>0.0</td>\n",
       "      <td>0.0</td>\n",
       "      <td>0.0</td>\n",
       "      <td>0.0</td>\n",
       "      <td>0.0</td>\n",
       "      <td>0.0</td>\n",
       "      <td>1.0</td>\n",
       "      <td>0.0</td>\n",
       "      <td>0.0</td>\n",
       "    </tr>\n",
       "    <tr>\n",
       "      <th>2</th>\n",
       "      <td>0.560817</td>\n",
       "      <td>0.0</td>\n",
       "      <td>0.0</td>\n",
       "      <td>0.0</td>\n",
       "      <td>0.0</td>\n",
       "      <td>0.0</td>\n",
       "      <td>0.0</td>\n",
       "      <td>0.0</td>\n",
       "      <td>0.0</td>\n",
       "      <td>0.0</td>\n",
       "      <td>0.0</td>\n",
       "      <td>1.0</td>\n",
       "      <td>0.0</td>\n",
       "      <td>0.0</td>\n",
       "    </tr>\n",
       "    <tr>\n",
       "      <th>3</th>\n",
       "      <td>0.555246</td>\n",
       "      <td>0.0</td>\n",
       "      <td>0.0</td>\n",
       "      <td>0.0</td>\n",
       "      <td>0.0</td>\n",
       "      <td>0.0</td>\n",
       "      <td>0.0</td>\n",
       "      <td>0.0</td>\n",
       "      <td>0.0</td>\n",
       "      <td>1.0</td>\n",
       "      <td>0.0</td>\n",
       "      <td>0.0</td>\n",
       "      <td>0.0</td>\n",
       "      <td>0.0</td>\n",
       "    </tr>\n",
       "    <tr>\n",
       "      <th>4</th>\n",
       "      <td>0.421541</td>\n",
       "      <td>0.0</td>\n",
       "      <td>0.0</td>\n",
       "      <td>0.0</td>\n",
       "      <td>0.0</td>\n",
       "      <td>0.0</td>\n",
       "      <td>0.0</td>\n",
       "      <td>0.0</td>\n",
       "      <td>0.0</td>\n",
       "      <td>0.0</td>\n",
       "      <td>0.0</td>\n",
       "      <td>1.0</td>\n",
       "      <td>0.0</td>\n",
       "      <td>0.0</td>\n",
       "    </tr>\n",
       "  </tbody>\n",
       "</table>\n",
       "</div>"
      ],
      "text/plain": [
       "   distance  name_Black  name_Black SUV  name_Lux  name_Lux Black  \\\n",
       "0  0.562674         0.0             0.0       0.0             0.0   \n",
       "1  0.295265         0.0             0.0       0.0             0.0   \n",
       "2  0.560817         0.0             0.0       0.0             0.0   \n",
       "3  0.555246         0.0             0.0       0.0             0.0   \n",
       "4  0.421541         0.0             0.0       0.0             0.0   \n",
       "\n",
       "   name_Lux Black XL  name_Lyft  name_Lyft XL  name_Shared  name_UberPool  \\\n",
       "0                0.0        0.0           1.0          0.0            0.0   \n",
       "1                0.0        0.0           0.0          0.0            0.0   \n",
       "2                0.0        0.0           0.0          0.0            0.0   \n",
       "3                0.0        0.0           0.0          0.0            1.0   \n",
       "4                0.0        0.0           0.0          0.0            0.0   \n",
       "\n",
       "   name_UberX  name_UberXL  name_WAV  surge_multiplier  \n",
       "0         0.0          0.0       0.0               3.0  \n",
       "1         0.0          1.0       0.0               0.0  \n",
       "2         0.0          1.0       0.0               0.0  \n",
       "3         0.0          0.0       0.0               0.0  \n",
       "4         0.0          1.0       0.0               0.0  "
      ]
     },
     "execution_count": 106,
     "metadata": {},
     "output_type": "execute_result"
    }
   ],
   "source": [
    "X_train_final.head()"
   ]
  },
  {
   "cell_type": "code",
   "execution_count": 107,
   "metadata": {},
   "outputs": [
    {
     "name": "stdout",
     "output_type": "stream",
     "text": [
      "Error - Train set : 1.82\n",
      "Error - Test set 1.82\n"
     ]
    }
   ],
   "source": [
    "print(f'Error - Train set : {mean_absolute_error(y_train, y_pred_train):.2f}')\n",
    "print(f'Error - Test set {mean_absolute_error(y_test, y_pred_test):.2f}')"
   ]
  },
  {
   "cell_type": "code",
   "execution_count": 108,
   "metadata": {},
   "outputs": [
    {
     "name": "stdout",
     "output_type": "stream",
     "text": [
      "R-squared score - Train Set: 0.92\n",
      "R-squared score - Test Set: 0.92\n"
     ]
    }
   ],
   "source": [
    "r2_train = r2_score(y_train, y_pred_train)\n",
    "r2_test = r2_score(y_test, y_pred_test)\n",
    "\n",
    "print(f\"R-squared score - Train Set: {r2_train:.2f}\")\n",
    "print(f\"R-squared score - Test Set: {r2_test:.2f}\")\n"
   ]
  },
  {
   "cell_type": "markdown",
   "metadata": {},
   "source": [
    "*The MAE and R2 evaluation metrics suggest that the model performs well in predicting ride fares, with accurate predictions and a strong ability to explain price variability based on the selected features. These findings support the model's effectiveness in real-world applications within the ride-hailing industry.*"
   ]
  },
  {
   "cell_type": "markdown",
   "metadata": {},
   "source": [
    "__Statement:__\n",
    "\n",
    "- Evaluation result by using Mean Absolute Error find a value of 1.82 for both the training and test sets, indicating a well-fitted model (good fit). It means that if the fare for a 2.7 km trip is $31.5, the model be able to predict a price around $31.\n",
    "\n",
    "- Considering R2, both the training and test scores approach 1 with a value of 0.92, signifying that our model effectively captures a significant portion of the variance in the features related to the target variable, price."
   ]
  },
  {
   "cell_type": "markdown",
   "metadata": {},
   "source": [
    "# 9. Model Saving"
   ]
  },
  {
   "cell_type": "markdown",
   "metadata": {},
   "source": [
    "- saving features and models required to conduct prediction on infefrence model file"
   ]
  },
  {
   "cell_type": "code",
   "execution_count": 109,
   "metadata": {},
   "outputs": [],
   "source": [
    "with open('list_num_cols.txt', 'w') as file_1:\n",
    "  json.dump(num_cols_test, file_1)\n",
    "\n",
    "with open('list_cat_cols_nom.txt', 'w') as file_2:\n",
    "  json.dump(list(cat_cols_nom_test), file_2)\n",
    "\n",
    "with open('list_cat_cols_ord.txt', 'w') as file_3:\n",
    "  json.dump(cat_cols_ord_test, file_3)\n",
    "\n",
    "with open('model_scaler.pkl', 'wb') as file_4:\n",
    "  pickle.dump(scaler, file_4)\n",
    "\n",
    "with open('model_encoder.pkl', 'wb') as file_5:\n",
    "  pickle.dump(encoder, file_5)\n",
    "\n",
    "with open('model_ohe.pkl', 'wb') as file_6:\n",
    "  pickle.dump(ohe, file_6)\n",
    "\n",
    "with open('model_lin_reg.pkl', 'wb') as file_7:\n",
    "  pickle.dump(model, file_7)\n"
   ]
  },
  {
   "cell_type": "markdown",
   "metadata": {},
   "source": [
    "# 10. Model Inference"
   ]
  },
  {
   "cell_type": "markdown",
   "metadata": {},
   "source": [
    "- export data set for inference purposes "
   ]
  },
  {
   "cell_type": "code",
   "execution_count": 110,
   "metadata": {},
   "outputs": [],
   "source": [
    "with open('X_inference.txt', 'w') as file_8:\n",
    "  json.dump(X_inference.to_dict(orient='records'), file_8)\n",
    "\n",
    "with open('y_inference.txt', 'w') as file_9:\n",
    "  json.dump(y_inference.to_dict(orient='records'), file_9)"
   ]
  },
  {
   "cell_type": "markdown",
   "metadata": {},
   "source": [
    "# 11. Pengambilan Kesimpulan"
   ]
  },
  {
   "cell_type": "markdown",
   "metadata": {},
   "source": [
    "Based on a thorough analysis of the ride-hailing price prediction model and associated data, several key insights emerge. Uber maintains a dominant user base compared to Lyft, indicating strong consumer preference. Price distribution typically ranges from $2.5 to $20, consistent with standard fare structures in ride-hailing services. Certain areas such as the Financial District and Theatre District stand out with higher ride counts, highlighting popular starting points. During rush hours, there is a notable increase in ride demand, underscoring significant operational impacts.\n",
    "\n",
    "The linear regression model demonstrates robust performance with a Mean Absolute Error (MAE) of approximately $1.82 across both training and test sets, suggesting accurate fare predictions. A high R-squared score of 0.92 reinforces the model's ability to effectively explain fare variability based on the selected features. Continuous refinement and optimization of the model and its features are recommended to further enhance predictive accuracy and operational efficiency in the dynamic ride-hailing industry landscape."
   ]
  }
 ],
 "metadata": {
  "kernelspec": {
   "display_name": "base",
   "language": "python",
   "name": "python3"
  },
  "language_info": {
   "codemirror_mode": {
    "name": "ipython",
    "version": 3
   },
   "file_extension": ".py",
   "mimetype": "text/x-python",
   "name": "python",
   "nbconvert_exporter": "python",
   "pygments_lexer": "ipython3",
   "version": "3.1.-1"
  }
 },
 "nbformat": 4,
 "nbformat_minor": 2
}
